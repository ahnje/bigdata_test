{
 "cells": [
  {
   "cell_type": "markdown",
   "metadata": {},
   "source": [
    "### 노동자 성별 예측- 노동자들의 데이터를 보고 성별을 예측하자"
   ]
  },
  {
   "cell_type": "code",
   "execution_count": 1,
   "metadata": {},
   "outputs": [],
   "source": [
    "import pandas as pd\n",
    "import numpy as np\n",
    "from sklearn.pipeline import Pipeline\n",
    "\n",
    "#warning messages\n",
    "import warnings\n",
    "warnings.filterwarnings('ignore')\n",
    "\n",
    "#scaler\n",
    "from sklearn.preprocessing import MinMaxScaler\n",
    "from sklearn.preprocessing import RobustScaler\n",
    "from sklearn.preprocessing import StandardScaler\n",
    "\n",
    "#시각화\n",
    "import matplotlib.pyplot as plt\n",
    "%matplotlib inline\n",
    "import seaborn as sns\n",
    "\n",
    "### 그래프 한글 깨짐 해결\n",
    "import platform\n",
    "platform.system()\n",
    "plt.rc('font', family='Malgun Gothic')\n",
    "plt.rc('axes', unicode_minus=False) #마이너스폰트 설정\n",
    "#plt.rc('font', family='AppleGothic') - Darwin : Mac  \n",
    "\n",
    "from sklearn.tree import DecisionTreeClassifier\n",
    "from sklearn.ensemble import RandomForestClassifier\n",
    "from sklearn.neighbors import KNeighborsClassifier\n",
    "\n",
    "\n",
    "from sklearn.model_selection import GridSearchCV # 최적의 파라미터 검색\n",
    "from sklearn.model_selection import KFold\n",
    "from sklearn.model_selection import cross_val_score"
   ]
  },
  {
   "cell_type": "code",
   "execution_count": 2,
   "metadata": {
    "scrolled": true
   },
   "outputs": [
    {
     "data": {
      "text/html": [
       "<div>\n",
       "<style scoped>\n",
       "    .dataframe tbody tr th:only-of-type {\n",
       "        vertical-align: middle;\n",
       "    }\n",
       "\n",
       "    .dataframe tbody tr th {\n",
       "        vertical-align: top;\n",
       "    }\n",
       "\n",
       "    .dataframe thead th {\n",
       "        text-align: right;\n",
       "    }\n",
       "</style>\n",
       "<table border=\"1\" class=\"dataframe\">\n",
       "  <thead>\n",
       "    <tr style=\"text-align: right;\">\n",
       "      <th></th>\n",
       "      <th>나이</th>\n",
       "      <th>노동 계급</th>\n",
       "      <th>fnlwgt</th>\n",
       "      <th>학력</th>\n",
       "      <th>교육 수</th>\n",
       "      <th>혼인 상태</th>\n",
       "      <th>직업</th>\n",
       "      <th>관계</th>\n",
       "      <th>인종</th>\n",
       "      <th>성별</th>\n",
       "      <th>자본 이득</th>\n",
       "      <th>자본 손실</th>\n",
       "      <th>주당 시간</th>\n",
       "      <th>모국</th>\n",
       "    </tr>\n",
       "    <tr>\n",
       "      <th>아이디</th>\n",
       "      <th></th>\n",
       "      <th></th>\n",
       "      <th></th>\n",
       "      <th></th>\n",
       "      <th></th>\n",
       "      <th></th>\n",
       "      <th></th>\n",
       "      <th></th>\n",
       "      <th></th>\n",
       "      <th></th>\n",
       "      <th></th>\n",
       "      <th></th>\n",
       "      <th></th>\n",
       "      <th></th>\n",
       "    </tr>\n",
       "  </thead>\n",
       "  <tbody>\n",
       "    <tr>\n",
       "      <th>H20001</th>\n",
       "      <td>39</td>\n",
       "      <td>State-gov</td>\n",
       "      <td>77516</td>\n",
       "      <td>Bachelors</td>\n",
       "      <td>13</td>\n",
       "      <td>Never-married</td>\n",
       "      <td>Adm-clerical</td>\n",
       "      <td>Not-in-family</td>\n",
       "      <td>White</td>\n",
       "      <td>Male</td>\n",
       "      <td>2174</td>\n",
       "      <td>0</td>\n",
       "      <td>40</td>\n",
       "      <td>United-States</td>\n",
       "    </tr>\n",
       "    <tr>\n",
       "      <th>H20002</th>\n",
       "      <td>50</td>\n",
       "      <td>Self-emp-not-inc</td>\n",
       "      <td>83311</td>\n",
       "      <td>Bachelors</td>\n",
       "      <td>13</td>\n",
       "      <td>Married-civ-spouse</td>\n",
       "      <td>Exec-managerial</td>\n",
       "      <td>Husband</td>\n",
       "      <td>White</td>\n",
       "      <td>Male</td>\n",
       "      <td>0</td>\n",
       "      <td>0</td>\n",
       "      <td>13</td>\n",
       "      <td>United-States</td>\n",
       "    </tr>\n",
       "    <tr>\n",
       "      <th>H20003</th>\n",
       "      <td>38</td>\n",
       "      <td>Private</td>\n",
       "      <td>215646</td>\n",
       "      <td>HS-grad</td>\n",
       "      <td>9</td>\n",
       "      <td>Divorced</td>\n",
       "      <td>Handlers-cleaners</td>\n",
       "      <td>Not-in-family</td>\n",
       "      <td>White</td>\n",
       "      <td>Male</td>\n",
       "      <td>0</td>\n",
       "      <td>0</td>\n",
       "      <td>40</td>\n",
       "      <td>United-States</td>\n",
       "    </tr>\n",
       "    <tr>\n",
       "      <th>H20004</th>\n",
       "      <td>53</td>\n",
       "      <td>Private</td>\n",
       "      <td>234721</td>\n",
       "      <td>11th</td>\n",
       "      <td>7</td>\n",
       "      <td>Married-civ-spouse</td>\n",
       "      <td>Handlers-cleaners</td>\n",
       "      <td>Husband</td>\n",
       "      <td>Black</td>\n",
       "      <td>Male</td>\n",
       "      <td>0</td>\n",
       "      <td>0</td>\n",
       "      <td>40</td>\n",
       "      <td>United-States</td>\n",
       "    </tr>\n",
       "    <tr>\n",
       "      <th>H20005</th>\n",
       "      <td>28</td>\n",
       "      <td>Private</td>\n",
       "      <td>338409</td>\n",
       "      <td>Bachelors</td>\n",
       "      <td>13</td>\n",
       "      <td>Married-civ-spouse</td>\n",
       "      <td>Prof-specialty</td>\n",
       "      <td>Wife</td>\n",
       "      <td>Black</td>\n",
       "      <td>Female</td>\n",
       "      <td>0</td>\n",
       "      <td>0</td>\n",
       "      <td>40</td>\n",
       "      <td>Cuba</td>\n",
       "    </tr>\n",
       "  </tbody>\n",
       "</table>\n",
       "</div>"
      ],
      "text/plain": [
       "        나이              노동 계급  fnlwgt          학력  교육 수                혼인 상태  \\\n",
       "아이디                                                                            \n",
       "H20001  39          State-gov   77516   Bachelors    13        Never-married   \n",
       "H20002  50   Self-emp-not-inc   83311   Bachelors    13   Married-civ-spouse   \n",
       "H20003  38            Private  215646     HS-grad     9             Divorced   \n",
       "H20004  53            Private  234721        11th     7   Married-civ-spouse   \n",
       "H20005  28            Private  338409   Bachelors    13   Married-civ-spouse   \n",
       "\n",
       "                        직업              관계      인종       성별  자본 이득  자본 손실  \\\n",
       "아이디                                                                         \n",
       "H20001        Adm-clerical   Not-in-family   White     Male   2174      0   \n",
       "H20002     Exec-managerial         Husband   White     Male      0      0   \n",
       "H20003   Handlers-cleaners   Not-in-family   White     Male      0      0   \n",
       "H20004   Handlers-cleaners         Husband   Black     Male      0      0   \n",
       "H20005      Prof-specialty            Wife   Black   Female      0      0   \n",
       "\n",
       "        주당 시간              모국  \n",
       "아이디                            \n",
       "H20001     40   United-States  \n",
       "H20002     13   United-States  \n",
       "H20003     40   United-States  \n",
       "H20004     40   United-States  \n",
       "H20005     40            Cuba  "
      ]
     },
     "execution_count": 2,
     "metadata": {},
     "output_type": "execute_result"
    }
   ],
   "source": [
    "#데이터 불러오기\n",
    "train = pd.read_csv('human.csv', encoding='cp949').set_index('아이디')\n",
    "test = pd.read_csv('human_new.csv', encoding='cp949').set_index('아이디')\n",
    "train.head()"
   ]
  },
  {
   "cell_type": "code",
   "execution_count": 3,
   "metadata": {},
   "outputs": [],
   "source": [
    "#원본 복사\n",
    "mdf = train.copy()"
   ]
  },
  {
   "cell_type": "code",
   "execution_count": 4,
   "metadata": {
    "scrolled": false
   },
   "outputs": [
    {
     "data": {
      "text/plain": [
       "나이           0\n",
       "노동 계급     1836\n",
       "fnlwgt       0\n",
       "학력           0\n",
       "교육 수         0\n",
       "혼인 상태        0\n",
       "직업        1843\n",
       "관계           0\n",
       "인종           0\n",
       "성별           0\n",
       "자본 이득        0\n",
       "자본 손실        0\n",
       "주당 시간        0\n",
       "모국         583\n",
       "dtype: int64"
      ]
     },
     "execution_count": 4,
     "metadata": {},
     "output_type": "execute_result"
    }
   ],
   "source": [
    "mdf.isnull().sum()"
   ]
  },
  {
   "cell_type": "code",
   "execution_count": 5,
   "metadata": {
    "scrolled": false
   },
   "outputs": [
    {
     "data": {
      "image/png": "[encoded data removed]",
      "text/plain": [
       "<Figure size 1728x720 with 3 Axes>"
      ]
     },
     "metadata": {
      "needs_background": "light"
     },
     "output_type": "display_data"
    }
   ],
   "source": [
    "#pip install missingno 설치 -> 결측치 시각화\n",
    "import missingno as msno\n",
    "import matplotlib as mpl\n",
    "#msno.matrix(mdf)\n",
    "msno.bar(mdf)\n",
    "plt.show()"
   ]
  },
  {
   "cell_type": "code",
   "execution_count": 6,
   "metadata": {
    "scrolled": true
   },
   "outputs": [],
   "source": [
    "#결측값 최빈값 대체 처리 \n",
    "from sklearn.impute import SimpleImputer\n",
    "imputer_nul = SimpleImputer(strategy=\"most_frequent\")\n",
    "nul =['노동 계급','직업','모국']\n",
    "mdf[nul]=imputer_nul.fit_transform(mdf[nul])"
   ]
  },
  {
   "cell_type": "code",
   "execution_count": 7,
   "metadata": {
    "scrolled": true
   },
   "outputs": [
    {
     "data": {
      "text/plain": [
       "Married-civ-spouse       14976\n",
       "Never-married            10683\n",
       "Divorced                  4443\n",
       "Separated                 1025\n",
       "Widowed                    993\n",
       "Married-spouse-absent      418\n",
       "Married-AF-spouse           23\n",
       "Name: 혼인 상태, dtype: int64"
      ]
     },
     "execution_count": 7,
     "metadata": {},
     "output_type": "execute_result"
    }
   ],
   "source": [
    "# 결혼 변수 추가\n",
    "mdf['혼인 상태'] = mdf['혼인 상태'].str.lstrip()\n",
    "mdf['혼인 상태'].value_counts()   "
   ]
  },
  {
   "cell_type": "code",
   "execution_count": 8,
   "metadata": {},
   "outputs": [],
   "source": [
    "str1 = 'Never-married','Divorced'\n",
    "def marr(x):\n",
    "    결혼 = ''\n",
    "    if x in str1: 결혼 = '무'\n",
    "    else: 결혼 = '유'\n",
    "    return 결혼"
   ]
  },
  {
   "cell_type": "code",
   "execution_count": 9,
   "metadata": {},
   "outputs": [],
   "source": [
    "mdf['결혼'] = mdf['혼인 상태'].apply(lambda x : marr(x))"
   ]
  },
  {
   "cell_type": "code",
   "execution_count": 10,
   "metadata": {},
   "outputs": [],
   "source": [
    "#배우자 변수 \n",
    "spo1 = 'Married-AF-spouse'\n",
    "spo2 = 'Never-married', 'Divorced', 'Separated', 'Widowed'\n",
    "def spouse(s):\n",
    "    배우자=''\n",
    "    if s in spo1 : 배우자 = '군인'\n",
    "    elif s in spo2 :  배우자 = '무'\n",
    "    else: 배우자 = '일반'\n",
    "    return 배우자"
   ]
  },
  {
   "cell_type": "code",
   "execution_count": 11,
   "metadata": {},
   "outputs": [],
   "source": [
    "mdf['배우자'] =mdf['혼인 상태'].apply(lambda s: spouse(s))"
   ]
  },
  {
   "cell_type": "code",
   "execution_count": 12,
   "metadata": {
    "scrolled": true
   },
   "outputs": [
    {
     "data": {
      "text/plain": [
       "<AxesSubplot:xlabel='성별', ylabel='나이'>"
      ]
     },
     "execution_count": 12,
     "metadata": {},
     "output_type": "execute_result"
    },
    {
     "data": {
      "image/png": "[encoded data removed]",
      "text/plain": [
       "<Figure size 432x288 with 1 Axes>"
      ]
     },
     "metadata": {
      "needs_background": "light"
     },
     "output_type": "display_data"
    }
   ],
   "source": [
    "sns.boxplot(x=\"성별\", y= \"나이\", data=mdf)"
   ]
  },
  {
   "cell_type": "code",
   "execution_count": 13,
   "metadata": {},
   "outputs": [
    {
     "data": {
      "text/plain": [
       "32561"
      ]
     },
     "execution_count": 13,
     "metadata": {},
     "output_type": "execute_result"
    }
   ],
   "source": [
    "mdf['나이'].count()"
   ]
  },
  {
   "cell_type": "code",
   "execution_count": 14,
   "metadata": {
    "scrolled": true
   },
   "outputs": [],
   "source": [
    "#나이 이상치 제거 outliers = mdf['나이'], mdf['주당 시간']\n",
    "q1 = mdf['나이'].quantile(0.25)\n",
    "q3 = mdf['나이'].quantile(0.75)\n",
    "IQR = q3 - q1\n",
    "old = mdf[(mdf['나이'] < (q1 - 1.5 * IQR)) | (mdf['나이'] > (q3 + 1.5 * IQR))]\n",
    "#old"
   ]
  },
  {
   "cell_type": "code",
   "execution_count": 15,
   "metadata": {
    "scrolled": false
   },
   "outputs": [
    {
     "data": {
      "text/plain": [
       "(32418, 16)"
      ]
     },
     "execution_count": 15,
     "metadata": {},
     "output_type": "execute_result"
    }
   ],
   "source": [
    "# IQR 기준 이상치 행 지우기\n",
    "mdf = mdf.drop(old.index, axis=0)\n",
    "mdf.shape"
   ]
  },
  {
   "cell_type": "code",
   "execution_count": 16,
   "metadata": {},
   "outputs": [],
   "source": [
    "mdf['com'] = mdf['자본 이득']+mdf['자본 손실'] / mdf['주당 시간']"
   ]
  },
  {
   "cell_type": "code",
   "execution_count": 17,
   "metadata": {
    "scrolled": false
   },
   "outputs": [
    {
     "data": {
      "text/plain": [
       "<AxesSubplot:xlabel='성별', ylabel='교육 수'>"
      ]
     },
     "execution_count": 17,
     "metadata": {},
     "output_type": "execute_result"
    },
    {
     "data": {
      "image/png": "[encoded data removed]",
      "text/plain": [
       "<Figure size 432x288 with 1 Axes>"
      ]
     },
     "metadata": {
      "needs_background": "light"
     },
     "output_type": "display_data"
    }
   ],
   "source": [
    "#plt.figure(dpi=200)\n",
    "sns.boxplot(x=\"성별\", y= \"교육 수\", data=mdf)"
   ]
  },
  {
   "cell_type": "code",
   "execution_count": 18,
   "metadata": {},
   "outputs": [],
   "source": [
    "eq1 = mdf['교육 수'].quantile(0.25)\n",
    "eq3 = mdf['교육 수'].quantile(0.75)\n",
    "IQR1 = eq3 - eq1\n",
    "edu = mdf[(mdf['교육 수'] < (eq1 - 1.5 * IQR1)) | (mdf['교육 수'] > (eq3 + 1.5 * IQR1))]"
   ]
  },
  {
   "cell_type": "code",
   "execution_count": 19,
   "metadata": {},
   "outputs": [
    {
     "data": {
      "text/plain": [
       "(31241, 17)"
      ]
     },
     "execution_count": 19,
     "metadata": {},
     "output_type": "execute_result"
    }
   ],
   "source": [
    "mdf = mdf.drop(edu.index, axis=0)\n",
    "mdf.shape"
   ]
  },
  {
   "cell_type": "code",
   "execution_count": 20,
   "metadata": {},
   "outputs": [
    {
     "data": {
      "text/html": [
       "<div>\n",
       "<style scoped>\n",
       "    .dataframe tbody tr th:only-of-type {\n",
       "        vertical-align: middle;\n",
       "    }\n",
       "\n",
       "    .dataframe tbody tr th {\n",
       "        vertical-align: top;\n",
       "    }\n",
       "\n",
       "    .dataframe thead th {\n",
       "        text-align: right;\n",
       "    }\n",
       "</style>\n",
       "<table border=\"1\" class=\"dataframe\">\n",
       "  <thead>\n",
       "    <tr style=\"text-align: right;\">\n",
       "      <th></th>\n",
       "      <th>나이</th>\n",
       "      <th>노동 계급</th>\n",
       "      <th>fnlwgt</th>\n",
       "      <th>학력</th>\n",
       "      <th>교육 수</th>\n",
       "      <th>혼인 상태</th>\n",
       "      <th>직업</th>\n",
       "      <th>관계</th>\n",
       "      <th>인종</th>\n",
       "      <th>성별</th>\n",
       "      <th>자본 이득</th>\n",
       "      <th>자본 손실</th>\n",
       "      <th>주당 시간</th>\n",
       "      <th>모국</th>\n",
       "      <th>결혼</th>\n",
       "      <th>배우자</th>\n",
       "      <th>com</th>\n",
       "    </tr>\n",
       "    <tr>\n",
       "      <th>아이디</th>\n",
       "      <th></th>\n",
       "      <th></th>\n",
       "      <th></th>\n",
       "      <th></th>\n",
       "      <th></th>\n",
       "      <th></th>\n",
       "      <th></th>\n",
       "      <th></th>\n",
       "      <th></th>\n",
       "      <th></th>\n",
       "      <th></th>\n",
       "      <th></th>\n",
       "      <th></th>\n",
       "      <th></th>\n",
       "      <th></th>\n",
       "      <th></th>\n",
       "      <th></th>\n",
       "    </tr>\n",
       "  </thead>\n",
       "  <tbody>\n",
       "    <tr>\n",
       "      <th>H20001</th>\n",
       "      <td>39</td>\n",
       "      <td>State-gov</td>\n",
       "      <td>77516</td>\n",
       "      <td>Bachelors</td>\n",
       "      <td>13</td>\n",
       "      <td>Never-married</td>\n",
       "      <td>Adm-clerical</td>\n",
       "      <td>Not-in-family</td>\n",
       "      <td>White</td>\n",
       "      <td>Male</td>\n",
       "      <td>2174</td>\n",
       "      <td>0</td>\n",
       "      <td>40</td>\n",
       "      <td>United-States</td>\n",
       "      <td>무</td>\n",
       "      <td>무</td>\n",
       "      <td>2174.0</td>\n",
       "    </tr>\n",
       "    <tr>\n",
       "      <th>H20002</th>\n",
       "      <td>50</td>\n",
       "      <td>Self-emp-not-inc</td>\n",
       "      <td>83311</td>\n",
       "      <td>Bachelors</td>\n",
       "      <td>13</td>\n",
       "      <td>Married-civ-spouse</td>\n",
       "      <td>Exec-managerial</td>\n",
       "      <td>Husband</td>\n",
       "      <td>White</td>\n",
       "      <td>Male</td>\n",
       "      <td>0</td>\n",
       "      <td>0</td>\n",
       "      <td>13</td>\n",
       "      <td>United-States</td>\n",
       "      <td>유</td>\n",
       "      <td>일반</td>\n",
       "      <td>0.0</td>\n",
       "    </tr>\n",
       "    <tr>\n",
       "      <th>H20003</th>\n",
       "      <td>38</td>\n",
       "      <td>Private</td>\n",
       "      <td>215646</td>\n",
       "      <td>HS-grad</td>\n",
       "      <td>9</td>\n",
       "      <td>Divorced</td>\n",
       "      <td>Handlers-cleaners</td>\n",
       "      <td>Not-in-family</td>\n",
       "      <td>White</td>\n",
       "      <td>Male</td>\n",
       "      <td>0</td>\n",
       "      <td>0</td>\n",
       "      <td>40</td>\n",
       "      <td>United-States</td>\n",
       "      <td>무</td>\n",
       "      <td>무</td>\n",
       "      <td>0.0</td>\n",
       "    </tr>\n",
       "    <tr>\n",
       "      <th>H20004</th>\n",
       "      <td>53</td>\n",
       "      <td>Private</td>\n",
       "      <td>234721</td>\n",
       "      <td>11th</td>\n",
       "      <td>7</td>\n",
       "      <td>Married-civ-spouse</td>\n",
       "      <td>Handlers-cleaners</td>\n",
       "      <td>Husband</td>\n",
       "      <td>Black</td>\n",
       "      <td>Male</td>\n",
       "      <td>0</td>\n",
       "      <td>0</td>\n",
       "      <td>40</td>\n",
       "      <td>United-States</td>\n",
       "      <td>유</td>\n",
       "      <td>일반</td>\n",
       "      <td>0.0</td>\n",
       "    </tr>\n",
       "    <tr>\n",
       "      <th>H20005</th>\n",
       "      <td>28</td>\n",
       "      <td>Private</td>\n",
       "      <td>338409</td>\n",
       "      <td>Bachelors</td>\n",
       "      <td>13</td>\n",
       "      <td>Married-civ-spouse</td>\n",
       "      <td>Prof-specialty</td>\n",
       "      <td>Wife</td>\n",
       "      <td>Black</td>\n",
       "      <td>Female</td>\n",
       "      <td>0</td>\n",
       "      <td>0</td>\n",
       "      <td>40</td>\n",
       "      <td>Cuba</td>\n",
       "      <td>유</td>\n",
       "      <td>일반</td>\n",
       "      <td>0.0</td>\n",
       "    </tr>\n",
       "  </tbody>\n",
       "</table>\n",
       "</div>"
      ],
      "text/plain": [
       "        나이              노동 계급  fnlwgt          학력  교육 수               혼인 상태  \\\n",
       "아이디                                                                           \n",
       "H20001  39          State-gov   77516   Bachelors    13       Never-married   \n",
       "H20002  50   Self-emp-not-inc   83311   Bachelors    13  Married-civ-spouse   \n",
       "H20003  38            Private  215646     HS-grad     9            Divorced   \n",
       "H20004  53            Private  234721        11th     7  Married-civ-spouse   \n",
       "H20005  28            Private  338409   Bachelors    13  Married-civ-spouse   \n",
       "\n",
       "                        직업              관계      인종       성별  자본 이득  자본 손실  \\\n",
       "아이디                                                                         \n",
       "H20001        Adm-clerical   Not-in-family   White     Male   2174      0   \n",
       "H20002     Exec-managerial         Husband   White     Male      0      0   \n",
       "H20003   Handlers-cleaners   Not-in-family   White     Male      0      0   \n",
       "H20004   Handlers-cleaners         Husband   Black     Male      0      0   \n",
       "H20005      Prof-specialty            Wife   Black   Female      0      0   \n",
       "\n",
       "        주당 시간              모국 결혼 배우자     com  \n",
       "아이디                                           \n",
       "H20001     40   United-States  무   무  2174.0  \n",
       "H20002     13   United-States  유  일반     0.0  \n",
       "H20003     40   United-States  무   무     0.0  \n",
       "H20004     40   United-States  유  일반     0.0  \n",
       "H20005     40            Cuba  유  일반     0.0  "
      ]
     },
     "execution_count": 20,
     "metadata": {},
     "output_type": "execute_result"
    }
   ],
   "source": [
    "mdf.head()"
   ]
  },
  {
   "cell_type": "code",
   "execution_count": 21,
   "metadata": {
    "scrolled": true
   },
   "outputs": [],
   "source": [
    "df_jobs = pd.get_dummies(mdf['직업'])"
   ]
  },
  {
   "cell_type": "code",
   "execution_count": 22,
   "metadata": {
    "scrolled": false
   },
   "outputs": [],
   "source": [
    "mdf = pd.concat([mdf,df_jobs], axis=1)"
   ]
  },
  {
   "cell_type": "code",
   "execution_count": 23,
   "metadata": {},
   "outputs": [],
   "source": [
    "mdf = mdf.drop(['자본 이득','자본 손실','fnlwgt','학력'], axis=1)"
   ]
  },
  {
   "cell_type": "code",
   "execution_count": 24,
   "metadata": {},
   "outputs": [
    {
     "data": {
      "text/html": [
       "<div>\n",
       "<style scoped>\n",
       "    .dataframe tbody tr th:only-of-type {\n",
       "        vertical-align: middle;\n",
       "    }\n",
       "\n",
       "    .dataframe tbody tr th {\n",
       "        vertical-align: top;\n",
       "    }\n",
       "\n",
       "    .dataframe thead th {\n",
       "        text-align: right;\n",
       "    }\n",
       "</style>\n",
       "<table border=\"1\" class=\"dataframe\">\n",
       "  <thead>\n",
       "    <tr style=\"text-align: right;\">\n",
       "      <th></th>\n",
       "      <th>나이</th>\n",
       "      <th>노동 계급</th>\n",
       "      <th>교육 수</th>\n",
       "      <th>혼인 상태</th>\n",
       "      <th>직업</th>\n",
       "      <th>관계</th>\n",
       "      <th>인종</th>\n",
       "      <th>성별</th>\n",
       "      <th>주당 시간</th>\n",
       "      <th>모국</th>\n",
       "      <th>...</th>\n",
       "      <th>Farming-fishing</th>\n",
       "      <th>Handlers-cleaners</th>\n",
       "      <th>Machine-op-inspct</th>\n",
       "      <th>Other-service</th>\n",
       "      <th>Priv-house-serv</th>\n",
       "      <th>Prof-specialty</th>\n",
       "      <th>Protective-serv</th>\n",
       "      <th>Sales</th>\n",
       "      <th>Tech-support</th>\n",
       "      <th>Transport-moving</th>\n",
       "    </tr>\n",
       "    <tr>\n",
       "      <th>아이디</th>\n",
       "      <th></th>\n",
       "      <th></th>\n",
       "      <th></th>\n",
       "      <th></th>\n",
       "      <th></th>\n",
       "      <th></th>\n",
       "      <th></th>\n",
       "      <th></th>\n",
       "      <th></th>\n",
       "      <th></th>\n",
       "      <th></th>\n",
       "      <th></th>\n",
       "      <th></th>\n",
       "      <th></th>\n",
       "      <th></th>\n",
       "      <th></th>\n",
       "      <th></th>\n",
       "      <th></th>\n",
       "      <th></th>\n",
       "      <th></th>\n",
       "      <th></th>\n",
       "    </tr>\n",
       "  </thead>\n",
       "  <tbody>\n",
       "    <tr>\n",
       "      <th>H20001</th>\n",
       "      <td>39</td>\n",
       "      <td>State-gov</td>\n",
       "      <td>13</td>\n",
       "      <td>Never-married</td>\n",
       "      <td>Adm-clerical</td>\n",
       "      <td>Not-in-family</td>\n",
       "      <td>White</td>\n",
       "      <td>Male</td>\n",
       "      <td>40</td>\n",
       "      <td>United-States</td>\n",
       "      <td>...</td>\n",
       "      <td>0</td>\n",
       "      <td>0</td>\n",
       "      <td>0</td>\n",
       "      <td>0</td>\n",
       "      <td>0</td>\n",
       "      <td>0</td>\n",
       "      <td>0</td>\n",
       "      <td>0</td>\n",
       "      <td>0</td>\n",
       "      <td>0</td>\n",
       "    </tr>\n",
       "    <tr>\n",
       "      <th>H20002</th>\n",
       "      <td>50</td>\n",
       "      <td>Self-emp-not-inc</td>\n",
       "      <td>13</td>\n",
       "      <td>Married-civ-spouse</td>\n",
       "      <td>Exec-managerial</td>\n",
       "      <td>Husband</td>\n",
       "      <td>White</td>\n",
       "      <td>Male</td>\n",
       "      <td>13</td>\n",
       "      <td>United-States</td>\n",
       "      <td>...</td>\n",
       "      <td>0</td>\n",
       "      <td>0</td>\n",
       "      <td>0</td>\n",
       "      <td>0</td>\n",
       "      <td>0</td>\n",
       "      <td>0</td>\n",
       "      <td>0</td>\n",
       "      <td>0</td>\n",
       "      <td>0</td>\n",
       "      <td>0</td>\n",
       "    </tr>\n",
       "    <tr>\n",
       "      <th>H20003</th>\n",
       "      <td>38</td>\n",
       "      <td>Private</td>\n",
       "      <td>9</td>\n",
       "      <td>Divorced</td>\n",
       "      <td>Handlers-cleaners</td>\n",
       "      <td>Not-in-family</td>\n",
       "      <td>White</td>\n",
       "      <td>Male</td>\n",
       "      <td>40</td>\n",
       "      <td>United-States</td>\n",
       "      <td>...</td>\n",
       "      <td>0</td>\n",
       "      <td>1</td>\n",
       "      <td>0</td>\n",
       "      <td>0</td>\n",
       "      <td>0</td>\n",
       "      <td>0</td>\n",
       "      <td>0</td>\n",
       "      <td>0</td>\n",
       "      <td>0</td>\n",
       "      <td>0</td>\n",
       "    </tr>\n",
       "    <tr>\n",
       "      <th>H20004</th>\n",
       "      <td>53</td>\n",
       "      <td>Private</td>\n",
       "      <td>7</td>\n",
       "      <td>Married-civ-spouse</td>\n",
       "      <td>Handlers-cleaners</td>\n",
       "      <td>Husband</td>\n",
       "      <td>Black</td>\n",
       "      <td>Male</td>\n",
       "      <td>40</td>\n",
       "      <td>United-States</td>\n",
       "      <td>...</td>\n",
       "      <td>0</td>\n",
       "      <td>1</td>\n",
       "      <td>0</td>\n",
       "      <td>0</td>\n",
       "      <td>0</td>\n",
       "      <td>0</td>\n",
       "      <td>0</td>\n",
       "      <td>0</td>\n",
       "      <td>0</td>\n",
       "      <td>0</td>\n",
       "    </tr>\n",
       "    <tr>\n",
       "      <th>H20005</th>\n",
       "      <td>28</td>\n",
       "      <td>Private</td>\n",
       "      <td>13</td>\n",
       "      <td>Married-civ-spouse</td>\n",
       "      <td>Prof-specialty</td>\n",
       "      <td>Wife</td>\n",
       "      <td>Black</td>\n",
       "      <td>Female</td>\n",
       "      <td>40</td>\n",
       "      <td>Cuba</td>\n",
       "      <td>...</td>\n",
       "      <td>0</td>\n",
       "      <td>0</td>\n",
       "      <td>0</td>\n",
       "      <td>0</td>\n",
       "      <td>0</td>\n",
       "      <td>1</td>\n",
       "      <td>0</td>\n",
       "      <td>0</td>\n",
       "      <td>0</td>\n",
       "      <td>0</td>\n",
       "    </tr>\n",
       "  </tbody>\n",
       "</table>\n",
       "<p>5 rows × 27 columns</p>\n",
       "</div>"
      ],
      "text/plain": [
       "        나이              노동 계급  교육 수               혼인 상태                  직업  \\\n",
       "아이디                                                                           \n",
       "H20001  39          State-gov    13       Never-married        Adm-clerical   \n",
       "H20002  50   Self-emp-not-inc    13  Married-civ-spouse     Exec-managerial   \n",
       "H20003  38            Private     9            Divorced   Handlers-cleaners   \n",
       "H20004  53            Private     7  Married-civ-spouse   Handlers-cleaners   \n",
       "H20005  28            Private    13  Married-civ-spouse      Prof-specialty   \n",
       "\n",
       "                    관계      인종       성별  주당 시간              모국  ...  \\\n",
       "아이디                                                             ...   \n",
       "H20001   Not-in-family   White     Male     40   United-States  ...   \n",
       "H20002         Husband   White     Male     13   United-States  ...   \n",
       "H20003   Not-in-family   White     Male     40   United-States  ...   \n",
       "H20004         Husband   Black     Male     40   United-States  ...   \n",
       "H20005            Wife   Black   Female     40            Cuba  ...   \n",
       "\n",
       "        Farming-fishing  Handlers-cleaners   Machine-op-inspct  \\\n",
       "아이디                                                              \n",
       "H20001                0                  0                   0   \n",
       "H20002                0                  0                   0   \n",
       "H20003                0                  1                   0   \n",
       "H20004                0                  1                   0   \n",
       "H20005                0                  0                   0   \n",
       "\n",
       "         Other-service   Priv-house-serv   Prof-specialty   Protective-serv  \\\n",
       "아이디                                                                           \n",
       "H20001               0                 0                0                 0   \n",
       "H20002               0                 0                0                 0   \n",
       "H20003               0                 0                0                 0   \n",
       "H20004               0                 0                0                 0   \n",
       "H20005               0                 0                1                 0   \n",
       "\n",
       "         Sales   Tech-support   Transport-moving  \n",
       "아이디                                               \n",
       "H20001       0              0                  0  \n",
       "H20002       0              0                  0  \n",
       "H20003       0              0                  0  \n",
       "H20004       0              0                  0  \n",
       "H20005       0              0                  0  \n",
       "\n",
       "[5 rows x 27 columns]"
      ]
     },
     "execution_count": 24,
     "metadata": {},
     "output_type": "execute_result"
    }
   ],
   "source": [
    "mdf.head()"
   ]
  },
  {
   "cell_type": "code",
   "execution_count": 25,
   "metadata": {},
   "outputs": [
    {
     "data": {
      "text/plain": [
       "Index(['노동 계급', '혼인 상태', '직업', '관계', '인종', '성별', '모국', '결혼', '배우자'], dtype='object')"
      ]
     },
     "metadata": {},
     "output_type": "display_data"
    },
    {
     "data": {
      "text/plain": [
       "Index(['나이', '교육 수', '주당 시간', 'com', ' Adm-clerical', ' Armed-Forces',\n",
       "       ' Craft-repair', ' Exec-managerial', ' Farming-fishing',\n",
       "       ' Handlers-cleaners', ' Machine-op-inspct', ' Other-service',\n",
       "       ' Priv-house-serv', ' Prof-specialty', ' Protective-serv', ' Sales',\n",
       "       ' Tech-support', ' Transport-moving'],\n",
       "      dtype='object')"
      ]
     },
     "metadata": {},
     "output_type": "display_data"
    }
   ],
   "source": [
    "#object, num 구분\n",
    "obj = mdf.dtypes[mdf.dtypes == 'object'].index\n",
    "num = mdf.dtypes[mdf.dtypes != 'object'].index\n",
    "display(obj)\n",
    "display(num)"
   ]
  },
  {
   "cell_type": "code",
   "execution_count": 26,
   "metadata": {},
   "outputs": [],
   "source": [
    "mdf[obj] = mdf[obj].apply(lambda x: x.astype('category').cat.codes)"
   ]
  },
  {
   "cell_type": "code",
   "execution_count": 27,
   "metadata": {
    "scrolled": true
   },
   "outputs": [
    {
     "data": {
      "text/plain": [
       "<AxesSubplot:xlabel='나이', ylabel='교육 수'>"
      ]
     },
     "execution_count": 27,
     "metadata": {},
     "output_type": "execute_result"
    },
    {
     "data": {
      "image/png": "[encoded data removed]",
      "text/plain": [
       "<Figure size 432x288 with 1 Axes>"
      ]
     },
     "metadata": {
      "needs_background": "light"
     },
     "output_type": "display_data"
    }
   ],
   "source": [
    "#plt.figure(dpi=200)\n",
    "sns.boxplot(x=\"나이\", y= \"교육 수\", data=mdf)"
   ]
  },
  {
   "cell_type": "code",
   "execution_count": 28,
   "metadata": {
    "scrolled": true
   },
   "outputs": [
    {
     "data": {
      "text/plain": [
       "<AxesSubplot:>"
      ]
     },
     "execution_count": 28,
     "metadata": {},
     "output_type": "execute_result"
    },
    {
     "data": {
      "image/png": "[encoded data removed]",
      "text/plain": [
       "<Figure size 1440x720 with 2 Axes>"
      ]
     },
     "metadata": {
      "needs_background": "light"
     },
     "output_type": "display_data"
    }
   ],
   "source": [
    "## 성별과 각 컬럼 간의 연관성 확인?\n",
    "corr=mdf.corr()\n",
    "mask = np.array(corr)\n",
    "mask[np.tril_indices_from(mask)] = False\n",
    "fig, ax = plt.subplots(figsize=(20,10))\n",
    "sns.heatmap(corr, mask=mask, vmax=1.,annot=True)\n",
    "\n",
    "## 참고 사이트\n",
    "# https://www.kaggle.com/fkstepz/step-by-step-predict-bike-sharing-demand"
   ]
  },
  {
   "cell_type": "code",
   "execution_count": 29,
   "metadata": {},
   "outputs": [
    {
     "data": {
      "text/html": [
       "<div>\n",
       "<style scoped>\n",
       "    .dataframe tbody tr th:only-of-type {\n",
       "        vertical-align: middle;\n",
       "    }\n",
       "\n",
       "    .dataframe tbody tr th {\n",
       "        vertical-align: top;\n",
       "    }\n",
       "\n",
       "    .dataframe thead th {\n",
       "        text-align: right;\n",
       "    }\n",
       "</style>\n",
       "<table border=\"1\" class=\"dataframe\">\n",
       "  <thead>\n",
       "    <tr style=\"text-align: right;\">\n",
       "      <th></th>\n",
       "      <th>count</th>\n",
       "      <th>mean</th>\n",
       "      <th>std</th>\n",
       "      <th>min</th>\n",
       "      <th>25%</th>\n",
       "      <th>50%</th>\n",
       "      <th>75%</th>\n",
       "      <th>max</th>\n",
       "    </tr>\n",
       "  </thead>\n",
       "  <tbody>\n",
       "    <tr>\n",
       "      <th>나이</th>\n",
       "      <td>31241.0</td>\n",
       "      <td>38.106559</td>\n",
       "      <td>13.167932</td>\n",
       "      <td>17.0</td>\n",
       "      <td>27.0</td>\n",
       "      <td>37.0</td>\n",
       "      <td>47.0</td>\n",
       "      <td>78.0</td>\n",
       "    </tr>\n",
       "    <tr>\n",
       "      <th>노동 계급</th>\n",
       "      <td>31241.0</td>\n",
       "      <td>3.090394</td>\n",
       "      <td>1.116153</td>\n",
       "      <td>0.0</td>\n",
       "      <td>3.0</td>\n",
       "      <td>3.0</td>\n",
       "      <td>3.0</td>\n",
       "      <td>7.0</td>\n",
       "    </tr>\n",
       "    <tr>\n",
       "      <th>교육 수</th>\n",
       "      <td>31241.0</td>\n",
       "      <td>10.338305</td>\n",
       "      <td>2.240755</td>\n",
       "      <td>5.0</td>\n",
       "      <td>9.0</td>\n",
       "      <td>10.0</td>\n",
       "      <td>13.0</td>\n",
       "      <td>16.0</td>\n",
       "    </tr>\n",
       "    <tr>\n",
       "      <th>혼인 상태</th>\n",
       "      <td>31241.0</td>\n",
       "      <td>2.602862</td>\n",
       "      <td>1.501938</td>\n",
       "      <td>0.0</td>\n",
       "      <td>2.0</td>\n",
       "      <td>2.0</td>\n",
       "      <td>4.0</td>\n",
       "      <td>6.0</td>\n",
       "    </tr>\n",
       "    <tr>\n",
       "      <th>직업</th>\n",
       "      <td>31241.0</td>\n",
       "      <td>6.130149</td>\n",
       "      <td>4.000563</td>\n",
       "      <td>0.0</td>\n",
       "      <td>3.0</td>\n",
       "      <td>7.0</td>\n",
       "      <td>9.0</td>\n",
       "      <td>13.0</td>\n",
       "    </tr>\n",
       "    <tr>\n",
       "      <th>관계</th>\n",
       "      <td>31241.0</td>\n",
       "      <td>1.456451</td>\n",
       "      <td>1.609461</td>\n",
       "      <td>0.0</td>\n",
       "      <td>0.0</td>\n",
       "      <td>1.0</td>\n",
       "      <td>3.0</td>\n",
       "      <td>5.0</td>\n",
       "    </tr>\n",
       "    <tr>\n",
       "      <th>인종</th>\n",
       "      <td>31241.0</td>\n",
       "      <td>3.666144</td>\n",
       "      <td>0.848322</td>\n",
       "      <td>0.0</td>\n",
       "      <td>4.0</td>\n",
       "      <td>4.0</td>\n",
       "      <td>4.0</td>\n",
       "      <td>4.0</td>\n",
       "    </tr>\n",
       "    <tr>\n",
       "      <th>성별</th>\n",
       "      <td>31241.0</td>\n",
       "      <td>0.666240</td>\n",
       "      <td>0.471563</td>\n",
       "      <td>0.0</td>\n",
       "      <td>0.0</td>\n",
       "      <td>1.0</td>\n",
       "      <td>1.0</td>\n",
       "      <td>1.0</td>\n",
       "    </tr>\n",
       "    <tr>\n",
       "      <th>주당 시간</th>\n",
       "      <td>31241.0</td>\n",
       "      <td>40.539323</td>\n",
       "      <td>12.271961</td>\n",
       "      <td>1.0</td>\n",
       "      <td>40.0</td>\n",
       "      <td>40.0</td>\n",
       "      <td>45.0</td>\n",
       "      <td>99.0</td>\n",
       "    </tr>\n",
       "    <tr>\n",
       "      <th>모국</th>\n",
       "      <td>31241.0</td>\n",
       "      <td>36.627605</td>\n",
       "      <td>5.741568</td>\n",
       "      <td>0.0</td>\n",
       "      <td>38.0</td>\n",
       "      <td>38.0</td>\n",
       "      <td>38.0</td>\n",
       "      <td>40.0</td>\n",
       "    </tr>\n",
       "    <tr>\n",
       "      <th>결혼</th>\n",
       "      <td>31241.0</td>\n",
       "      <td>0.528376</td>\n",
       "      <td>0.499202</td>\n",
       "      <td>0.0</td>\n",
       "      <td>0.0</td>\n",
       "      <td>1.0</td>\n",
       "      <td>1.0</td>\n",
       "      <td>1.0</td>\n",
       "    </tr>\n",
       "    <tr>\n",
       "      <th>배우자</th>\n",
       "      <td>31241.0</td>\n",
       "      <td>1.468263</td>\n",
       "      <td>0.500473</td>\n",
       "      <td>0.0</td>\n",
       "      <td>1.0</td>\n",
       "      <td>1.0</td>\n",
       "      <td>2.0</td>\n",
       "      <td>2.0</td>\n",
       "    </tr>\n",
       "    <tr>\n",
       "      <th>com</th>\n",
       "      <td>31241.0</td>\n",
       "      <td>1111.061383</td>\n",
       "      <td>7526.061401</td>\n",
       "      <td>0.0</td>\n",
       "      <td>0.0</td>\n",
       "      <td>0.0</td>\n",
       "      <td>0.0</td>\n",
       "      <td>99999.0</td>\n",
       "    </tr>\n",
       "    <tr>\n",
       "      <th>Adm-clerical</th>\n",
       "      <td>31241.0</td>\n",
       "      <td>0.119682</td>\n",
       "      <td>0.324595</td>\n",
       "      <td>0.0</td>\n",
       "      <td>0.0</td>\n",
       "      <td>0.0</td>\n",
       "      <td>0.0</td>\n",
       "      <td>1.0</td>\n",
       "    </tr>\n",
       "    <tr>\n",
       "      <th>Armed-Forces</th>\n",
       "      <td>31241.0</td>\n",
       "      <td>0.000288</td>\n",
       "      <td>0.016971</td>\n",
       "      <td>0.0</td>\n",
       "      <td>0.0</td>\n",
       "      <td>0.0</td>\n",
       "      <td>0.0</td>\n",
       "      <td>1.0</td>\n",
       "    </tr>\n",
       "    <tr>\n",
       "      <th>Craft-repair</th>\n",
       "      <td>31241.0</td>\n",
       "      <td>0.125092</td>\n",
       "      <td>0.330829</td>\n",
       "      <td>0.0</td>\n",
       "      <td>0.0</td>\n",
       "      <td>0.0</td>\n",
       "      <td>0.0</td>\n",
       "      <td>1.0</td>\n",
       "    </tr>\n",
       "    <tr>\n",
       "      <th>Exec-managerial</th>\n",
       "      <td>31241.0</td>\n",
       "      <td>0.128677</td>\n",
       "      <td>0.334848</td>\n",
       "      <td>0.0</td>\n",
       "      <td>0.0</td>\n",
       "      <td>0.0</td>\n",
       "      <td>0.0</td>\n",
       "      <td>1.0</td>\n",
       "    </tr>\n",
       "    <tr>\n",
       "      <th>Farming-fishing</th>\n",
       "      <td>31241.0</td>\n",
       "      <td>0.027368</td>\n",
       "      <td>0.163156</td>\n",
       "      <td>0.0</td>\n",
       "      <td>0.0</td>\n",
       "      <td>0.0</td>\n",
       "      <td>0.0</td>\n",
       "      <td>1.0</td>\n",
       "    </tr>\n",
       "    <tr>\n",
       "      <th>Handlers-cleaners</th>\n",
       "      <td>31241.0</td>\n",
       "      <td>0.040492</td>\n",
       "      <td>0.197112</td>\n",
       "      <td>0.0</td>\n",
       "      <td>0.0</td>\n",
       "      <td>0.0</td>\n",
       "      <td>0.0</td>\n",
       "      <td>1.0</td>\n",
       "    </tr>\n",
       "    <tr>\n",
       "      <th>Machine-op-inspct</th>\n",
       "      <td>31241.0</td>\n",
       "      <td>0.058161</td>\n",
       "      <td>0.234051</td>\n",
       "      <td>0.0</td>\n",
       "      <td>0.0</td>\n",
       "      <td>0.0</td>\n",
       "      <td>0.0</td>\n",
       "      <td>1.0</td>\n",
       "    </tr>\n",
       "    <tr>\n",
       "      <th>Other-service</th>\n",
       "      <td>31241.0</td>\n",
       "      <td>0.098204</td>\n",
       "      <td>0.297595</td>\n",
       "      <td>0.0</td>\n",
       "      <td>0.0</td>\n",
       "      <td>0.0</td>\n",
       "      <td>0.0</td>\n",
       "      <td>1.0</td>\n",
       "    </tr>\n",
       "    <tr>\n",
       "      <th>Priv-house-serv</th>\n",
       "      <td>31241.0</td>\n",
       "      <td>0.003617</td>\n",
       "      <td>0.060034</td>\n",
       "      <td>0.0</td>\n",
       "      <td>0.0</td>\n",
       "      <td>0.0</td>\n",
       "      <td>0.0</td>\n",
       "      <td>1.0</td>\n",
       "    </tr>\n",
       "    <tr>\n",
       "      <th>Prof-specialty</th>\n",
       "      <td>31241.0</td>\n",
       "      <td>0.185685</td>\n",
       "      <td>0.388859</td>\n",
       "      <td>0.0</td>\n",
       "      <td>0.0</td>\n",
       "      <td>0.0</td>\n",
       "      <td>0.0</td>\n",
       "      <td>1.0</td>\n",
       "    </tr>\n",
       "    <tr>\n",
       "      <th>Protective-serv</th>\n",
       "      <td>31241.0</td>\n",
       "      <td>0.020390</td>\n",
       "      <td>0.141332</td>\n",
       "      <td>0.0</td>\n",
       "      <td>0.0</td>\n",
       "      <td>0.0</td>\n",
       "      <td>0.0</td>\n",
       "      <td>1.0</td>\n",
       "    </tr>\n",
       "    <tr>\n",
       "      <th>Sales</th>\n",
       "      <td>31241.0</td>\n",
       "      <td>0.114817</td>\n",
       "      <td>0.318806</td>\n",
       "      <td>0.0</td>\n",
       "      <td>0.0</td>\n",
       "      <td>0.0</td>\n",
       "      <td>0.0</td>\n",
       "      <td>1.0</td>\n",
       "    </tr>\n",
       "    <tr>\n",
       "      <th>Tech-support</th>\n",
       "      <td>31241.0</td>\n",
       "      <td>0.029512</td>\n",
       "      <td>0.169241</td>\n",
       "      <td>0.0</td>\n",
       "      <td>0.0</td>\n",
       "      <td>0.0</td>\n",
       "      <td>0.0</td>\n",
       "      <td>1.0</td>\n",
       "    </tr>\n",
       "    <tr>\n",
       "      <th>Transport-moving</th>\n",
       "      <td>31241.0</td>\n",
       "      <td>0.048014</td>\n",
       "      <td>0.213799</td>\n",
       "      <td>0.0</td>\n",
       "      <td>0.0</td>\n",
       "      <td>0.0</td>\n",
       "      <td>0.0</td>\n",
       "      <td>1.0</td>\n",
       "    </tr>\n",
       "  </tbody>\n",
       "</table>\n",
       "</div>"
      ],
      "text/plain": [
       "                      count         mean          std   min   25%   50%   75%  \\\n",
       "나이                  31241.0    38.106559    13.167932  17.0  27.0  37.0  47.0   \n",
       "노동 계급               31241.0     3.090394     1.116153   0.0   3.0   3.0   3.0   \n",
       "교육 수                31241.0    10.338305     2.240755   5.0   9.0  10.0  13.0   \n",
       "혼인 상태               31241.0     2.602862     1.501938   0.0   2.0   2.0   4.0   \n",
       "직업                  31241.0     6.130149     4.000563   0.0   3.0   7.0   9.0   \n",
       "관계                  31241.0     1.456451     1.609461   0.0   0.0   1.0   3.0   \n",
       "인종                  31241.0     3.666144     0.848322   0.0   4.0   4.0   4.0   \n",
       "성별                  31241.0     0.666240     0.471563   0.0   0.0   1.0   1.0   \n",
       "주당 시간               31241.0    40.539323    12.271961   1.0  40.0  40.0  45.0   \n",
       "모국                  31241.0    36.627605     5.741568   0.0  38.0  38.0  38.0   \n",
       "결혼                  31241.0     0.528376     0.499202   0.0   0.0   1.0   1.0   \n",
       "배우자                 31241.0     1.468263     0.500473   0.0   1.0   1.0   2.0   \n",
       "com                 31241.0  1111.061383  7526.061401   0.0   0.0   0.0   0.0   \n",
       " Adm-clerical       31241.0     0.119682     0.324595   0.0   0.0   0.0   0.0   \n",
       " Armed-Forces       31241.0     0.000288     0.016971   0.0   0.0   0.0   0.0   \n",
       " Craft-repair       31241.0     0.125092     0.330829   0.0   0.0   0.0   0.0   \n",
       " Exec-managerial    31241.0     0.128677     0.334848   0.0   0.0   0.0   0.0   \n",
       " Farming-fishing    31241.0     0.027368     0.163156   0.0   0.0   0.0   0.0   \n",
       " Handlers-cleaners  31241.0     0.040492     0.197112   0.0   0.0   0.0   0.0   \n",
       " Machine-op-inspct  31241.0     0.058161     0.234051   0.0   0.0   0.0   0.0   \n",
       " Other-service      31241.0     0.098204     0.297595   0.0   0.0   0.0   0.0   \n",
       " Priv-house-serv    31241.0     0.003617     0.060034   0.0   0.0   0.0   0.0   \n",
       " Prof-specialty     31241.0     0.185685     0.388859   0.0   0.0   0.0   0.0   \n",
       " Protective-serv    31241.0     0.020390     0.141332   0.0   0.0   0.0   0.0   \n",
       " Sales              31241.0     0.114817     0.318806   0.0   0.0   0.0   0.0   \n",
       " Tech-support       31241.0     0.029512     0.169241   0.0   0.0   0.0   0.0   \n",
       " Transport-moving   31241.0     0.048014     0.213799   0.0   0.0   0.0   0.0   \n",
       "\n",
       "                        max  \n",
       "나이                     78.0  \n",
       "노동 계급                   7.0  \n",
       "교육 수                   16.0  \n",
       "혼인 상태                   6.0  \n",
       "직업                     13.0  \n",
       "관계                      5.0  \n",
       "인종                      4.0  \n",
       "성별                      1.0  \n",
       "주당 시간                  99.0  \n",
       "모국                     40.0  \n",
       "결혼                      1.0  \n",
       "배우자                     2.0  \n",
       "com                 99999.0  \n",
       " Adm-clerical           1.0  \n",
       " Armed-Forces           1.0  \n",
       " Craft-repair           1.0  \n",
       " Exec-managerial        1.0  \n",
       " Farming-fishing        1.0  \n",
       " Handlers-cleaners      1.0  \n",
       " Machine-op-inspct      1.0  \n",
       " Other-service          1.0  \n",
       " Priv-house-serv        1.0  \n",
       " Prof-specialty         1.0  \n",
       " Protective-serv        1.0  \n",
       " Sales                  1.0  \n",
       " Tech-support           1.0  \n",
       " Transport-moving       1.0  "
      ]
     },
     "execution_count": 29,
     "metadata": {},
     "output_type": "execute_result"
    }
   ],
   "source": [
    "mdf.describe().T"
   ]
  },
  {
   "cell_type": "code",
   "execution_count": 30,
   "metadata": {
    "scrolled": true
   },
   "outputs": [],
   "source": [
    "## 연관성 & 이상치 확인 가능\n",
    "#f, axes = plt.subplots(ncols=2, figsize=(15,8))\n",
    "#sns.boxplot(x=\"성별\", y= \"나이\", data=mdf, ax=axes[0])\n",
    "#sns.boxplot(x=\"성별\", y= \"결혼\", data=mdf, ax=axes[1])\n",
    "#plt.show()"
   ]
  },
  {
   "cell_type": "code",
   "execution_count": 31,
   "metadata": {
    "scrolled": true
   },
   "outputs": [
    {
     "data": {
      "text/plain": [
       "(31241, 27)"
      ]
     },
     "execution_count": 31,
     "metadata": {},
     "output_type": "execute_result"
    }
   ],
   "source": [
    "mdf.shape"
   ]
  },
  {
   "cell_type": "code",
   "execution_count": 32,
   "metadata": {
    "scrolled": true
   },
   "outputs": [
    {
     "data": {
      "text/html": [
       "<div>\n",
       "<style scoped>\n",
       "    .dataframe tbody tr th:only-of-type {\n",
       "        vertical-align: middle;\n",
       "    }\n",
       "\n",
       "    .dataframe tbody tr th {\n",
       "        vertical-align: top;\n",
       "    }\n",
       "\n",
       "    .dataframe thead th {\n",
       "        text-align: right;\n",
       "    }\n",
       "</style>\n",
       "<table border=\"1\" class=\"dataframe\">\n",
       "  <thead>\n",
       "    <tr style=\"text-align: right;\">\n",
       "      <th></th>\n",
       "      <th>나이</th>\n",
       "      <th>노동 계급</th>\n",
       "      <th>교육 수</th>\n",
       "      <th>혼인 상태</th>\n",
       "      <th>직업</th>\n",
       "      <th>관계</th>\n",
       "      <th>인종</th>\n",
       "      <th>성별</th>\n",
       "      <th>주당 시간</th>\n",
       "      <th>모국</th>\n",
       "      <th>...</th>\n",
       "      <th>Farming-fishing</th>\n",
       "      <th>Handlers-cleaners</th>\n",
       "      <th>Machine-op-inspct</th>\n",
       "      <th>Other-service</th>\n",
       "      <th>Priv-house-serv</th>\n",
       "      <th>Prof-specialty</th>\n",
       "      <th>Protective-serv</th>\n",
       "      <th>Sales</th>\n",
       "      <th>Tech-support</th>\n",
       "      <th>Transport-moving</th>\n",
       "    </tr>\n",
       "    <tr>\n",
       "      <th>아이디</th>\n",
       "      <th></th>\n",
       "      <th></th>\n",
       "      <th></th>\n",
       "      <th></th>\n",
       "      <th></th>\n",
       "      <th></th>\n",
       "      <th></th>\n",
       "      <th></th>\n",
       "      <th></th>\n",
       "      <th></th>\n",
       "      <th></th>\n",
       "      <th></th>\n",
       "      <th></th>\n",
       "      <th></th>\n",
       "      <th></th>\n",
       "      <th></th>\n",
       "      <th></th>\n",
       "      <th></th>\n",
       "      <th></th>\n",
       "      <th></th>\n",
       "      <th></th>\n",
       "    </tr>\n",
       "  </thead>\n",
       "  <tbody>\n",
       "    <tr>\n",
       "      <th>H20001</th>\n",
       "      <td>39</td>\n",
       "      <td>6</td>\n",
       "      <td>13</td>\n",
       "      <td>4</td>\n",
       "      <td>0</td>\n",
       "      <td>1</td>\n",
       "      <td>4</td>\n",
       "      <td>1</td>\n",
       "      <td>40</td>\n",
       "      <td>38</td>\n",
       "      <td>...</td>\n",
       "      <td>0</td>\n",
       "      <td>0</td>\n",
       "      <td>0</td>\n",
       "      <td>0</td>\n",
       "      <td>0</td>\n",
       "      <td>0</td>\n",
       "      <td>0</td>\n",
       "      <td>0</td>\n",
       "      <td>0</td>\n",
       "      <td>0</td>\n",
       "    </tr>\n",
       "    <tr>\n",
       "      <th>H20002</th>\n",
       "      <td>50</td>\n",
       "      <td>5</td>\n",
       "      <td>13</td>\n",
       "      <td>2</td>\n",
       "      <td>3</td>\n",
       "      <td>0</td>\n",
       "      <td>4</td>\n",
       "      <td>1</td>\n",
       "      <td>13</td>\n",
       "      <td>38</td>\n",
       "      <td>...</td>\n",
       "      <td>0</td>\n",
       "      <td>0</td>\n",
       "      <td>0</td>\n",
       "      <td>0</td>\n",
       "      <td>0</td>\n",
       "      <td>0</td>\n",
       "      <td>0</td>\n",
       "      <td>0</td>\n",
       "      <td>0</td>\n",
       "      <td>0</td>\n",
       "    </tr>\n",
       "    <tr>\n",
       "      <th>H20003</th>\n",
       "      <td>38</td>\n",
       "      <td>3</td>\n",
       "      <td>9</td>\n",
       "      <td>0</td>\n",
       "      <td>5</td>\n",
       "      <td>1</td>\n",
       "      <td>4</td>\n",
       "      <td>1</td>\n",
       "      <td>40</td>\n",
       "      <td>38</td>\n",
       "      <td>...</td>\n",
       "      <td>0</td>\n",
       "      <td>1</td>\n",
       "      <td>0</td>\n",
       "      <td>0</td>\n",
       "      <td>0</td>\n",
       "      <td>0</td>\n",
       "      <td>0</td>\n",
       "      <td>0</td>\n",
       "      <td>0</td>\n",
       "      <td>0</td>\n",
       "    </tr>\n",
       "    <tr>\n",
       "      <th>H20004</th>\n",
       "      <td>53</td>\n",
       "      <td>3</td>\n",
       "      <td>7</td>\n",
       "      <td>2</td>\n",
       "      <td>5</td>\n",
       "      <td>0</td>\n",
       "      <td>2</td>\n",
       "      <td>1</td>\n",
       "      <td>40</td>\n",
       "      <td>38</td>\n",
       "      <td>...</td>\n",
       "      <td>0</td>\n",
       "      <td>1</td>\n",
       "      <td>0</td>\n",
       "      <td>0</td>\n",
       "      <td>0</td>\n",
       "      <td>0</td>\n",
       "      <td>0</td>\n",
       "      <td>0</td>\n",
       "      <td>0</td>\n",
       "      <td>0</td>\n",
       "    </tr>\n",
       "    <tr>\n",
       "      <th>H20005</th>\n",
       "      <td>28</td>\n",
       "      <td>3</td>\n",
       "      <td>13</td>\n",
       "      <td>2</td>\n",
       "      <td>9</td>\n",
       "      <td>5</td>\n",
       "      <td>2</td>\n",
       "      <td>0</td>\n",
       "      <td>40</td>\n",
       "      <td>4</td>\n",
       "      <td>...</td>\n",
       "      <td>0</td>\n",
       "      <td>0</td>\n",
       "      <td>0</td>\n",
       "      <td>0</td>\n",
       "      <td>0</td>\n",
       "      <td>1</td>\n",
       "      <td>0</td>\n",
       "      <td>0</td>\n",
       "      <td>0</td>\n",
       "      <td>0</td>\n",
       "    </tr>\n",
       "  </tbody>\n",
       "</table>\n",
       "<p>5 rows × 27 columns</p>\n",
       "</div>"
      ],
      "text/plain": [
       "        나이  노동 계급  교육 수  혼인 상태  직업  관계  인종  성별  주당 시간  모국  ...  \\\n",
       "아이디                                                        ...   \n",
       "H20001  39      6    13      4   0   1   4   1     40  38  ...   \n",
       "H20002  50      5    13      2   3   0   4   1     13  38  ...   \n",
       "H20003  38      3     9      0   5   1   4   1     40  38  ...   \n",
       "H20004  53      3     7      2   5   0   2   1     40  38  ...   \n",
       "H20005  28      3    13      2   9   5   2   0     40   4  ...   \n",
       "\n",
       "         Farming-fishing   Handlers-cleaners   Machine-op-inspct  \\\n",
       "아이디                                                                \n",
       "H20001                 0                   0                   0   \n",
       "H20002                 0                   0                   0   \n",
       "H20003                 0                   1                   0   \n",
       "H20004                 0                   1                   0   \n",
       "H20005                 0                   0                   0   \n",
       "\n",
       "         Other-service   Priv-house-serv   Prof-specialty   Protective-serv  \\\n",
       "아이디                                                                           \n",
       "H20001               0                 0                0                 0   \n",
       "H20002               0                 0                0                 0   \n",
       "H20003               0                 0                0                 0   \n",
       "H20004               0                 0                0                 0   \n",
       "H20005               0                 0                1                 0   \n",
       "\n",
       "         Sales   Tech-support   Transport-moving  \n",
       "아이디                                               \n",
       "H20001       0              0                  0  \n",
       "H20002       0              0                  0  \n",
       "H20003       0              0                  0  \n",
       "H20004       0              0                  0  \n",
       "H20005       0              0                  0  \n",
       "\n",
       "[5 rows x 27 columns]"
      ]
     },
     "execution_count": 32,
     "metadata": {},
     "output_type": "execute_result"
    }
   ],
   "source": [
    "mdf.head()"
   ]
  },
  {
   "cell_type": "code",
   "execution_count": 33,
   "metadata": {},
   "outputs": [],
   "source": [
    "from sklearn.model_selection import train_test_split  \n",
    "X = mdf.drop(['성별'], axis=1) \n",
    "Y = mdf['성별']                    \n",
    "X_train, X_test, y_train, y_test = train_test_split(X, Y, test_size=0.25, random_state=0)"
   ]
  },
  {
   "cell_type": "markdown",
   "metadata": {},
   "source": [
    "###########################################################################################"
   ]
  },
  {
   "cell_type": "code",
   "execution_count": 34,
   "metadata": {},
   "outputs": [],
   "source": [
    "#XGB model\n",
    "import xgboost as xgb\n",
    "from xgboost import XGBClassifier\n",
    "\n",
    "dtrain = xgb.DMatrix(data=X_train, label=y_train)\n",
    "dtest = xgb.DMatrix(data=X_test, label=y_test)\n",
    "\n",
    "params = {'max_depth':4,\n",
    "          'eta':0.1,\n",
    "          'objective':'binary:logistic',\n",
    "          'eval_metric':'logloss',\n",
    "          'early_stoppings':100\n",
    "         }\n",
    "num_rounds = 100"
   ]
  },
  {
   "cell_type": "code",
   "execution_count": 35,
   "metadata": {},
   "outputs": [
    {
     "name": "stdout",
     "output_type": "stream",
     "text": [
      "[14:37:30] WARNING: C:/Users/Administrator/workspace/xgboost-win64_release_1.3.0/src/learner.cc:541: \n",
      "Parameters: { early_stoppings } might not be used.\n",
      "\n",
      "  This may not be accurate due to some parameters are only used in language bindings but\n",
      "  passed down to XGBoost core.  Or some parameters are not used but slip through this\n",
      "  verification. Please open an issue if you find above cases.\n",
      "\n",
      "\n",
      "[0]\ttrain-logloss:0.64270\teval-logloss:0.64240\n",
      "[1]\ttrain-logloss:0.60136\teval-logloss:0.60068\n",
      "[2]\ttrain-logloss:0.56681\teval-logloss:0.56581\n",
      "[3]\ttrain-logloss:0.53766\teval-logloss:0.53633\n",
      "[4]\ttrain-logloss:0.51230\teval-logloss:0.51069\n",
      "[5]\ttrain-logloss:0.49062\teval-logloss:0.48884\n",
      "[6]\ttrain-logloss:0.47161\teval-logloss:0.46980\n",
      "[7]\ttrain-logloss:0.45510\teval-logloss:0.45315\n",
      "[8]\ttrain-logloss:0.44054\teval-logloss:0.43856\n",
      "[9]\ttrain-logloss:0.42755\teval-logloss:0.42555\n",
      "[10]\ttrain-logloss:0.41619\teval-logloss:0.41416\n",
      "[11]\ttrain-logloss:0.40575\teval-logloss:0.40369\n",
      "[12]\ttrain-logloss:0.39634\teval-logloss:0.39441\n",
      "[13]\ttrain-logloss:0.38797\teval-logloss:0.38605\n",
      "[14]\ttrain-logloss:0.38026\teval-logloss:0.37851\n",
      "[15]\ttrain-logloss:0.37356\teval-logloss:0.37182\n",
      "[16]\ttrain-logloss:0.36733\teval-logloss:0.36567\n",
      "[17]\ttrain-logloss:0.36184\teval-logloss:0.36002\n",
      "[18]\ttrain-logloss:0.35664\teval-logloss:0.35479\n",
      "[19]\ttrain-logloss:0.35210\teval-logloss:0.35026\n",
      "[20]\ttrain-logloss:0.34798\teval-logloss:0.34618\n",
      "[21]\ttrain-logloss:0.34416\teval-logloss:0.34247\n",
      "[22]\ttrain-logloss:0.34072\teval-logloss:0.33900\n",
      "[23]\ttrain-logloss:0.33761\teval-logloss:0.33593\n",
      "[24]\ttrain-logloss:0.33472\teval-logloss:0.33308\n",
      "[25]\ttrain-logloss:0.33209\teval-logloss:0.33042\n",
      "[26]\ttrain-logloss:0.32972\teval-logloss:0.32814\n",
      "[27]\ttrain-logloss:0.32746\teval-logloss:0.32591\n",
      "[28]\ttrain-logloss:0.32544\teval-logloss:0.32389\n",
      "[29]\ttrain-logloss:0.32328\teval-logloss:0.32185\n",
      "[30]\ttrain-logloss:0.32100\teval-logloss:0.31960\n",
      "[31]\ttrain-logloss:0.31947\teval-logloss:0.31808\n",
      "[32]\ttrain-logloss:0.31778\teval-logloss:0.31639\n",
      "[33]\ttrain-logloss:0.31642\teval-logloss:0.31501\n",
      "[34]\ttrain-logloss:0.31512\teval-logloss:0.31377\n",
      "[35]\ttrain-logloss:0.31392\teval-logloss:0.31271\n",
      "[36]\ttrain-logloss:0.31285\teval-logloss:0.31159\n",
      "[37]\ttrain-logloss:0.31175\teval-logloss:0.31064\n",
      "[38]\ttrain-logloss:0.31083\teval-logloss:0.30974\n",
      "[39]\ttrain-logloss:0.30980\teval-logloss:0.30876\n",
      "[40]\ttrain-logloss:0.30883\teval-logloss:0.30783\n",
      "[41]\ttrain-logloss:0.30807\teval-logloss:0.30710\n",
      "[42]\ttrain-logloss:0.30743\teval-logloss:0.30648\n",
      "[43]\ttrain-logloss:0.30674\teval-logloss:0.30576\n",
      "[44]\ttrain-logloss:0.30618\teval-logloss:0.30523\n",
      "[45]\ttrain-logloss:0.30540\teval-logloss:0.30452\n",
      "[46]\ttrain-logloss:0.30472\teval-logloss:0.30390\n",
      "[47]\ttrain-logloss:0.30425\teval-logloss:0.30347\n",
      "[48]\ttrain-logloss:0.30370\teval-logloss:0.30296\n",
      "[49]\ttrain-logloss:0.30315\teval-logloss:0.30248\n",
      "[50]\ttrain-logloss:0.30272\teval-logloss:0.30208\n",
      "[51]\ttrain-logloss:0.30217\teval-logloss:0.30159\n",
      "[52]\ttrain-logloss:0.30183\teval-logloss:0.30128\n",
      "[53]\ttrain-logloss:0.30143\teval-logloss:0.30096\n",
      "[54]\ttrain-logloss:0.30102\teval-logloss:0.30061\n",
      "[55]\ttrain-logloss:0.30030\teval-logloss:0.30012\n",
      "[56]\ttrain-logloss:0.29960\teval-logloss:0.29960\n",
      "[57]\ttrain-logloss:0.29915\teval-logloss:0.29927\n",
      "[58]\ttrain-logloss:0.29882\teval-logloss:0.29905\n",
      "[59]\ttrain-logloss:0.29857\teval-logloss:0.29882\n",
      "[60]\ttrain-logloss:0.29791\teval-logloss:0.29840\n",
      "[61]\ttrain-logloss:0.29745\teval-logloss:0.29812\n",
      "[62]\ttrain-logloss:0.29722\teval-logloss:0.29791\n",
      "[63]\ttrain-logloss:0.29660\teval-logloss:0.29743\n",
      "[64]\ttrain-logloss:0.29616\teval-logloss:0.29712\n",
      "[65]\ttrain-logloss:0.29593\teval-logloss:0.29688\n",
      "[66]\ttrain-logloss:0.29556\teval-logloss:0.29654\n",
      "[67]\ttrain-logloss:0.29533\teval-logloss:0.29639\n",
      "[68]\ttrain-logloss:0.29514\teval-logloss:0.29621\n",
      "[69]\ttrain-logloss:0.29485\teval-logloss:0.29604\n",
      "[70]\ttrain-logloss:0.29468\teval-logloss:0.29590\n",
      "[71]\ttrain-logloss:0.29423\teval-logloss:0.29564\n",
      "[72]\ttrain-logloss:0.29395\teval-logloss:0.29544\n",
      "[73]\ttrain-logloss:0.29379\teval-logloss:0.29532\n",
      "[74]\ttrain-logloss:0.29361\teval-logloss:0.29521\n",
      "[75]\ttrain-logloss:0.29317\teval-logloss:0.29493\n",
      "[76]\ttrain-logloss:0.29305\teval-logloss:0.29478\n",
      "[77]\ttrain-logloss:0.29265\teval-logloss:0.29457\n",
      "[78]\ttrain-logloss:0.29253\teval-logloss:0.29450\n",
      "[79]\ttrain-logloss:0.29226\teval-logloss:0.29444\n",
      "[80]\ttrain-logloss:0.29203\teval-logloss:0.29431\n",
      "[81]\ttrain-logloss:0.29192\teval-logloss:0.29421\n",
      "[82]\ttrain-logloss:0.29159\teval-logloss:0.29406\n",
      "[83]\ttrain-logloss:0.29128\teval-logloss:0.29387\n",
      "[84]\ttrain-logloss:0.29118\teval-logloss:0.29379\n",
      "[85]\ttrain-logloss:0.29103\teval-logloss:0.29372\n",
      "[86]\ttrain-logloss:0.29083\teval-logloss:0.29372\n",
      "[87]\ttrain-logloss:0.29072\teval-logloss:0.29366\n",
      "[88]\ttrain-logloss:0.29049\teval-logloss:0.29353\n",
      "[89]\ttrain-logloss:0.29031\teval-logloss:0.29338\n",
      "[90]\ttrain-logloss:0.29023\teval-logloss:0.29329\n",
      "[91]\ttrain-logloss:0.28998\teval-logloss:0.29320\n",
      "[92]\ttrain-logloss:0.28967\teval-logloss:0.29304\n",
      "[93]\ttrain-logloss:0.28945\teval-logloss:0.29299\n",
      "[94]\ttrain-logloss:0.28934\teval-logloss:0.29294\n",
      "[95]\ttrain-logloss:0.28923\teval-logloss:0.29288\n",
      "[96]\ttrain-logloss:0.28911\teval-logloss:0.29283\n",
      "[97]\ttrain-logloss:0.28881\teval-logloss:0.29273\n",
      "[98]\ttrain-logloss:0.28867\teval-logloss:0.29271\n",
      "[99]\ttrain-logloss:0.28847\teval-logloss:0.29277\n"
     ]
    }
   ],
   "source": [
    "# train 데이터 세트는 'train', evaluation(test) 데이터 세트는 'eval'로 명기\n",
    "wlist = [(dtrain, 'train'),(dtest, 'eval')]\n",
    "# 하이퍼 파라미터와 early stoppinig 파라미터를 train() 함수의 파라미터로 전달\n",
    "xgb_model = xgb.train(params=params, dtrain=dtrain, num_boost_round=num_rounds, evals=wlist)"
   ]
  },
  {
   "cell_type": "code",
   "execution_count": 36,
   "metadata": {},
   "outputs": [
    {
     "name": "stdout",
     "output_type": "stream",
     "text": [
      "predict() 수행 결과값을 10개만 표시, 예측 확률값으로 표시됨\n",
      "[0.926 0.614 0.502 0.278 0.376 0.999 1.    0.788 0.327 0.43 ]\n"
     ]
    }
   ],
   "source": [
    "pred_probs = xgb_model.predict(dtest)\n",
    "print('predict() 수행 결과값을 10개만 표시, 예측 확률값으로 표시됨')\n",
    "print(np.round(pred_probs[:10], 3))\n",
    "\n",
    "preds = [1 if x > 0.5 else 0 for x in pred_probs]\n"
   ]
  },
  {
   "cell_type": "code",
   "execution_count": 37,
   "metadata": {},
   "outputs": [],
   "source": [
    "from sklearn.metrics import accuracy_score, recall_score, precision_score, confusion_matrix\n",
    "def get_clf_eval(y_test, pred):\n",
    "    confusion = confusion_matrix(y_test, pred)\n",
    "    accuracy = accuracy_score(y_test, pred)\n",
    "    precision = precision_score(y_test, pred)\n",
    "    recall = recall_score(y_test, pred)\n",
    "    print('오차행렬')\n",
    "    print(confusion)\n",
    "    print('정확도: {0:.4f}, 정밀도: {1:.4f}, 재현율: {2:.4f}'.format(accuracy, precision, recall))"
   ]
  },
  {
   "cell_type": "code",
   "execution_count": 40,
   "metadata": {
    "scrolled": true
   },
   "outputs": [
    {
     "name": "stdout",
     "output_type": "stream",
     "text": [
      "오차행렬\n",
      "[[2105  511]\n",
      " [ 702 4493]]\n",
      "정확도: 0.8447, 정밀도: 0.8979, 재현율: 0.8649\n"
     ]
    }
   ],
   "source": [
    "get_clf_eval(y_test, preds)"
   ]
  },
  {
   "cell_type": "code",
   "execution_count": null,
   "metadata": {},
   "outputs": [],
   "source": [
    "'''\n",
    "model=xgb.XGBClassifier()\n",
    "param_grid={'booster' :['gbtree'],\n",
    "                 'silent':[True],\n",
    "                 'max_depth':[2,4,6,8,10,12],\n",
    "                 'min_child_weight':[1,3,5],\n",
    "                 'gamma':[0,1,2,3],\n",
    "                 'nthread':[4],\n",
    "                 'colsample_bytree':[0.5,0.8],\n",
    "                 'colsample_bylevel':[0.9],\n",
    "                 'n_estimators':[50],\n",
    "                 'objective':['binary:logistic'],\n",
    "                 'random_state':[0,1,2]}\n",
    "cv=KFold(n_splits=6, random_state=1)\n",
    "gcv=GridSearchCV(model, param_grid=param_grid, cv=cv, scoring='f1', n_jobs=4)\n",
    "\n",
    "# 5번\n",
    "gcv.fit(X_train.values,y_train.values)\n",
    "print('final params', gcv.best_params_)   # 최적의 파라미터 값 출력\n",
    "print('best score', gcv.best_score_)      # 최고의 점수\n",
    "'''"
   ]
  },
  {
   "cell_type": "code",
   "execution_count": null,
   "metadata": {},
   "outputs": [],
   "source": []
  },
  {
   "cell_type": "markdown",
   "metadata": {},
   "source": [
    "############################# 데이터 불균형 "
   ]
  },
  {
   "cell_type": "code",
   "execution_count": 41,
   "metadata": {},
   "outputs": [
    {
     "data": {
      "text/plain": [
       "1    20814\n",
       "0    10427\n",
       "Name: 성별, dtype: int64"
      ]
     },
     "execution_count": 41,
     "metadata": {},
     "output_type": "execute_result"
    }
   ],
   "source": [
    "#성별 불균형 확인\n",
    "mdf['성별'].value_counts()"
   ]
  },
  {
   "cell_type": "code",
   "execution_count": 42,
   "metadata": {},
   "outputs": [
    {
     "data": {
      "text/plain": [
       "\"\\nfrom imblearn.over_sampling import SMOTE\\nsmote = SMOTE(random_state=0)\\nX_train_over,y_train_over = smote.fit_sample(X_train,y_train)\\nprint('SMOTE 적용 전 학습용 피처/레이블 데이터 세트: ', X_train.shape, y_train.shape)\\nprint('SMOTE 적용 후 학습용 피처/레이블 데이터 세트: ', X_train_over.shape, y_train_over.shape)\\nprint('SMOTE 적용 후 레이블 값 분포: \\n', pd.Series(y_train_over).value_counts())\\n\""
      ]
     },
     "execution_count": 42,
     "metadata": {},
     "output_type": "execute_result"
    }
   ],
   "source": [
    "'''\n",
    "from imblearn.over_sampling import SMOTE\n",
    "smote = SMOTE(random_state=0)\n",
    "X_train_over,y_train_over = smote.fit_sample(X_train,y_train)\n",
    "print('SMOTE 적용 전 학습용 피처/레이블 데이터 세트: ', X_train.shape, y_train.shape)\n",
    "print('SMOTE 적용 후 학습용 피처/레이블 데이터 세트: ', X_train_over.shape, y_train_over.shape)\n",
    "print('SMOTE 적용 후 레이블 값 분포: \\n', pd.Series(y_train_over).value_counts())\n",
    "'''"
   ]
  },
  {
   "cell_type": "code",
   "execution_count": 43,
   "metadata": {
    "scrolled": true
   },
   "outputs": [
    {
     "data": {
      "text/plain": [
       "\"\\nfrom imblearn.under_sampling import TomekLinks \\ntomek = TomekLinks()\\nX_train_under,y_train_under = tomek.fit_sample(X_train,y_train)\\nprint('Tomek 적용 전 학습용 피처/레이블 데이터 세트: ', X_train.shape, y_train.shape)\\nprint('Tomek 적용 후 학습용 피처/레이블 데이터 세트: ', X_train_under.shape, y_train_under.shape)\\nprint('Tomek 적용 후 레이블 값 분포: \\n', pd.Series(y_train_under).value_counts())\\n\""
      ]
     },
     "execution_count": 43,
     "metadata": {},
     "output_type": "execute_result"
    }
   ],
   "source": [
    "'''\n",
    "from imblearn.under_sampling import TomekLinks \n",
    "tomek = TomekLinks()\n",
    "X_train_under,y_train_under = tomek.fit_sample(X_train,y_train)\n",
    "print('Tomek 적용 전 학습용 피처/레이블 데이터 세트: ', X_train.shape, y_train.shape)\n",
    "print('Tomek 적용 후 학습용 피처/레이블 데이터 세트: ', X_train_under.shape, y_train_under.shape)\n",
    "print('Tomek 적용 후 레이블 값 분포: \\n', pd.Series(y_train_under).value_counts())\n",
    "'''"
   ]
  },
  {
   "cell_type": "code",
   "execution_count": 44,
   "metadata": {},
   "outputs": [
    {
     "name": "stdout",
     "output_type": "stream",
     "text": [
      "Tomek 적용 전 학습용 피처/레이블 데이터 세트:  (23430, 26) (23430,)\n",
      "Tomek 적용 후 학습용 피처/레이블 데이터 세트:  (30508, 26) (30508,)\n",
      "Tomek 적용 후 레이블 값 분포: \n",
      " 1    15254\n",
      "0    15254\n",
      "Name: 성별, dtype: int64\n"
     ]
    }
   ],
   "source": [
    "#복합 샘플링\n",
    "from imblearn.combine import *\n",
    "com = SMOTETomek(random_state=4)\n",
    "X_train_com, y_train_com = com.fit_sample(X_train, y_train)\n",
    "print('Tomek 적용 전 학습용 피처/레이블 데이터 세트: ', X_train.shape, y_train.shape)\n",
    "print('Tomek 적용 후 학습용 피처/레이블 데이터 세트: ', X_train_com.shape, y_train_com.shape)\n",
    "print('Tomek 적용 후 레이블 값 분포: \\n', pd.Series(y_train_com).value_counts())"
   ]
  },
  {
   "cell_type": "code",
   "execution_count": 45,
   "metadata": {},
   "outputs": [],
   "source": [
    "#데이터 나누기 - \n",
    "X_train, X_test, y_train, y_test = train_test_split(X_train_com, y_train_com, test_size=0.25, random_state=0)\n",
    "#print(X.shape, X_train_over.shape, X_train.shape, X_test.shape)"
   ]
  },
  {
   "cell_type": "code",
   "execution_count": 46,
   "metadata": {},
   "outputs": [
    {
     "name": "stdout",
     "output_type": "stream",
     "text": [
      "훈련 세트 정확도: 0.888\n",
      "테스트 세트 정확도: 0.871\n"
     ]
    }
   ],
   "source": [
    "dec_tree = DecisionTreeClassifier(max_depth=12, random_state=0)\n",
    "\n",
    "dec_tree.fit(X_train, y_train)\n",
    "print(\"훈련 세트 정확도: {:.3f}\".format(dec_tree.score(X_train, y_train)))\n",
    "print(\"테스트 세트 정확도: {:.3f}\".format(dec_tree.score(X_test, y_test)))"
   ]
  },
  {
   "cell_type": "markdown",
   "metadata": {},
   "source": [
    "##########################################new xgb"
   ]
  },
  {
   "cell_type": "code",
   "execution_count": 47,
   "metadata": {},
   "outputs": [],
   "source": [
    "import xgboost\n",
    "dtrain = xgb.DMatrix(data=X_train, label=y_train)\n",
    "dtest = xgb.DMatrix(data=X_test, label=y_test)"
   ]
  },
  {
   "cell_type": "code",
   "execution_count": 87,
   "metadata": {},
   "outputs": [],
   "source": [
    "params = {'max_depth':6,\n",
    "          'eta':0.1,\n",
    "          'gamma' : 3,\n",
    "          'n_estimators': 50,\n",
    "          'random_state': 2,\n",
    "          'nthread': 4,\n",
    "          'objective':'binary:logistic',\n",
    "          'eval_metric':'logloss',\n",
    "          'early_stoppings':100\n",
    "         }\n",
    "num_rounds = 100"
   ]
  },
  {
   "cell_type": "code",
   "execution_count": 88,
   "metadata": {},
   "outputs": [
    {
     "name": "stdout",
     "output_type": "stream",
     "text": [
      "[14:45:31] WARNING: C:/Users/Administrator/workspace/xgboost-win64_release_1.3.0/src/learner.cc:541: \n",
      "Parameters: { early_stoppings, n_estimators } might not be used.\n",
      "\n",
      "  This may not be accurate due to some parameters are only used in language bindings but\n",
      "  passed down to XGBoost core.  Or some parameters are not used but slip through this\n",
      "  verification. Please open an issue if you find above cases.\n",
      "\n",
      "\n",
      "[0]\ttrain-logloss:0.63661\teval-logloss:0.63783\n",
      "[1]\ttrain-logloss:0.59040\teval-logloss:0.59257\n",
      "[2]\ttrain-logloss:0.55210\teval-logloss:0.55506\n",
      "[3]\ttrain-logloss:0.51992\teval-logloss:0.52373\n",
      "[4]\ttrain-logloss:0.49240\teval-logloss:0.49659\n",
      "[5]\ttrain-logloss:0.46873\teval-logloss:0.47330\n",
      "[6]\ttrain-logloss:0.44843\teval-logloss:0.45355\n",
      "[7]\ttrain-logloss:0.43076\teval-logloss:0.43618\n",
      "[8]\ttrain-logloss:0.41525\teval-logloss:0.42106\n",
      "[9]\ttrain-logloss:0.40162\teval-logloss:0.40807\n",
      "[10]\ttrain-logloss:0.38977\teval-logloss:0.39648\n",
      "[11]\ttrain-logloss:0.37921\teval-logloss:0.38650\n",
      "[12]\ttrain-logloss:0.36962\teval-logloss:0.37730\n",
      "[13]\ttrain-logloss:0.36077\teval-logloss:0.36882\n",
      "[14]\ttrain-logloss:0.35242\teval-logloss:0.36096\n",
      "[15]\ttrain-logloss:0.34555\teval-logloss:0.35435\n",
      "[16]\ttrain-logloss:0.33870\teval-logloss:0.34779\n",
      "[17]\ttrain-logloss:0.33329\teval-logloss:0.34272\n",
      "[18]\ttrain-logloss:0.32797\teval-logloss:0.33755\n",
      "[19]\ttrain-logloss:0.32359\teval-logloss:0.33327\n",
      "[20]\ttrain-logloss:0.31955\teval-logloss:0.32929\n",
      "[21]\ttrain-logloss:0.31580\teval-logloss:0.32597\n",
      "[22]\ttrain-logloss:0.31160\teval-logloss:0.32189\n",
      "[23]\ttrain-logloss:0.30845\teval-logloss:0.31904\n",
      "[24]\ttrain-logloss:0.30566\teval-logloss:0.31641\n",
      "[25]\ttrain-logloss:0.30301\teval-logloss:0.31402\n",
      "[26]\ttrain-logloss:0.30084\teval-logloss:0.31198\n",
      "[27]\ttrain-logloss:0.29811\teval-logloss:0.30943\n",
      "[28]\ttrain-logloss:0.29627\teval-logloss:0.30782\n",
      "[29]\ttrain-logloss:0.29399\teval-logloss:0.30590\n",
      "[30]\ttrain-logloss:0.29249\teval-logloss:0.30451\n",
      "[31]\ttrain-logloss:0.29062\teval-logloss:0.30290\n",
      "[32]\ttrain-logloss:0.28920\teval-logloss:0.30165\n",
      "[33]\ttrain-logloss:0.28764\teval-logloss:0.30031\n",
      "[34]\ttrain-logloss:0.28591\teval-logloss:0.29881\n",
      "[35]\ttrain-logloss:0.28478\teval-logloss:0.29780\n",
      "[36]\ttrain-logloss:0.28358\teval-logloss:0.29670\n",
      "[37]\ttrain-logloss:0.28256\teval-logloss:0.29594\n",
      "[38]\ttrain-logloss:0.28177\teval-logloss:0.29516\n",
      "[39]\ttrain-logloss:0.28074\teval-logloss:0.29415\n",
      "[40]\ttrain-logloss:0.27960\teval-logloss:0.29308\n",
      "[41]\ttrain-logloss:0.27888\teval-logloss:0.29251\n",
      "[42]\ttrain-logloss:0.27766\teval-logloss:0.29136\n",
      "[43]\ttrain-logloss:0.27654\teval-logloss:0.29050\n",
      "[44]\ttrain-logloss:0.27582\teval-logloss:0.28989\n",
      "[45]\ttrain-logloss:0.27488\teval-logloss:0.28917\n",
      "[46]\ttrain-logloss:0.27436\teval-logloss:0.28859\n",
      "[47]\ttrain-logloss:0.27330\teval-logloss:0.28775\n",
      "[48]\ttrain-logloss:0.27281\teval-logloss:0.28744\n",
      "[49]\ttrain-logloss:0.27194\teval-logloss:0.28667\n",
      "[50]\ttrain-logloss:0.27109\teval-logloss:0.28588\n",
      "[51]\ttrain-logloss:0.27048\teval-logloss:0.28542\n",
      "[52]\ttrain-logloss:0.27005\teval-logloss:0.28510\n",
      "[53]\ttrain-logloss:0.26943\teval-logloss:0.28455\n",
      "[54]\ttrain-logloss:0.26912\teval-logloss:0.28434\n",
      "[55]\ttrain-logloss:0.26859\teval-logloss:0.28402\n",
      "[56]\ttrain-logloss:0.26781\teval-logloss:0.28338\n",
      "[57]\ttrain-logloss:0.26734\teval-logloss:0.28282\n",
      "[58]\ttrain-logloss:0.26673\teval-logloss:0.28249\n",
      "[59]\ttrain-logloss:0.26614\teval-logloss:0.28216\n",
      "[60]\ttrain-logloss:0.26571\teval-logloss:0.28178\n",
      "[61]\ttrain-logloss:0.26530\teval-logloss:0.28143\n",
      "[62]\ttrain-logloss:0.26435\teval-logloss:0.28080\n",
      "[63]\ttrain-logloss:0.26388\teval-logloss:0.28045\n",
      "[64]\ttrain-logloss:0.26326\teval-logloss:0.27982\n",
      "[65]\ttrain-logloss:0.26261\teval-logloss:0.27963\n",
      "[66]\ttrain-logloss:0.26201\teval-logloss:0.27920\n",
      "[67]\ttrain-logloss:0.26145\teval-logloss:0.27876\n",
      "[68]\ttrain-logloss:0.26121\teval-logloss:0.27844\n",
      "[69]\ttrain-logloss:0.26061\teval-logloss:0.27805\n",
      "[70]\ttrain-logloss:0.26031\teval-logloss:0.27787\n",
      "[71]\ttrain-logloss:0.25973\teval-logloss:0.27751\n",
      "[72]\ttrain-logloss:0.25927\teval-logloss:0.27726\n",
      "[73]\ttrain-logloss:0.25831\teval-logloss:0.27639\n",
      "[74]\ttrain-logloss:0.25789\teval-logloss:0.27597\n",
      "[75]\ttrain-logloss:0.25748\teval-logloss:0.27564\n",
      "[76]\ttrain-logloss:0.25719\teval-logloss:0.27557\n",
      "[77]\ttrain-logloss:0.25674\teval-logloss:0.27523\n",
      "[78]\ttrain-logloss:0.25617\teval-logloss:0.27498\n",
      "[79]\ttrain-logloss:0.25590\teval-logloss:0.27476\n",
      "[80]\ttrain-logloss:0.25532\teval-logloss:0.27432\n",
      "[81]\ttrain-logloss:0.25498\teval-logloss:0.27407\n",
      "[82]\ttrain-logloss:0.25444\teval-logloss:0.27373\n",
      "[83]\ttrain-logloss:0.25409\teval-logloss:0.27344\n",
      "[84]\ttrain-logloss:0.25365\teval-logloss:0.27314\n",
      "[85]\ttrain-logloss:0.25328\teval-logloss:0.27287\n",
      "[86]\ttrain-logloss:0.25301\teval-logloss:0.27271\n",
      "[87]\ttrain-logloss:0.25263\teval-logloss:0.27250\n",
      "[88]\ttrain-logloss:0.25226\teval-logloss:0.27224\n",
      "[89]\ttrain-logloss:0.25217\teval-logloss:0.27226\n",
      "[90]\ttrain-logloss:0.25167\teval-logloss:0.27180\n",
      "[91]\ttrain-logloss:0.25112\teval-logloss:0.27154\n",
      "[92]\ttrain-logloss:0.25054\teval-logloss:0.27127\n",
      "[93]\ttrain-logloss:0.25036\teval-logloss:0.27118\n",
      "[94]\ttrain-logloss:0.24978\teval-logloss:0.27080\n",
      "[95]\ttrain-logloss:0.24957\teval-logloss:0.27056\n",
      "[96]\ttrain-logloss:0.24946\teval-logloss:0.27050\n",
      "[97]\ttrain-logloss:0.24913\teval-logloss:0.27043\n",
      "[98]\ttrain-logloss:0.24898\teval-logloss:0.27041\n",
      "[99]\ttrain-logloss:0.24875\teval-logloss:0.27021\n"
     ]
    }
   ],
   "source": [
    "# train 데이터 세트는 'train', evaluation(test) 데이터 세트는 'eval'로 명기\n",
    "wlist = [(dtrain, 'train'),(dtest, 'eval')]\n",
    "# 하이퍼 파라미터와 early stoppinig 파라미터를 train() 함수의 파라미터로 전달\n",
    "xgb_model = xgb.train(params=params, dtrain=dtrain, num_boost_round=num_rounds, evals=wlist)"
   ]
  },
  {
   "cell_type": "code",
   "execution_count": 89,
   "metadata": {},
   "outputs": [
    {
     "name": "stdout",
     "output_type": "stream",
     "text": [
      "predict() 수행 결과값을 10개만 표시, 예측 확률값으로 표시됨\n",
      "[0.916 0.999 0.044 0.999 0.999 0.999 0.999 0.27  0.622 0.999]\n"
     ]
    }
   ],
   "source": [
    "pred_probs = xgb_model.predict(dtest)\n",
    "print('predict() 수행 결과값을 10개만 표시, 예측 확률값으로 표시됨')\n",
    "print(np.round(pred_probs[:10], 3))\n",
    "\n",
    "preds = [1 if x > 0.5 else 0 for x in pred_probs]"
   ]
  },
  {
   "cell_type": "code",
   "execution_count": 90,
   "metadata": {},
   "outputs": [],
   "source": [
    "from sklearn.metrics import accuracy_score, recall_score, precision_score, confusion_matrix\n",
    "def get_clf_eval(y_test, pred):\n",
    "    confusion = confusion_matrix(y_test, pred)\n",
    "    accuracy = accuracy_score(y_test, pred)\n",
    "    precision = precision_score(y_test, pred)\n",
    "    recall = recall_score(y_test, pred)\n",
    "    print('오차행렬')\n",
    "    print(confusion)\n",
    "    print('정확도: {0:.4f}, 정밀도: {1:.4f}, 재현율: {2:.4f}'.format(accuracy, precision, recall))"
   ]
  },
  {
   "cell_type": "code",
   "execution_count": 91,
   "metadata": {
    "scrolled": true
   },
   "outputs": [
    {
     "name": "stdout",
     "output_type": "stream",
     "text": [
      "오차행렬\n",
      "[[3637  186]\n",
      " [ 750 3054]]\n",
      "정확도: 0.8773, 정밀도: 0.9426, 재현율: 0.8028\n"
     ]
    }
   ],
   "source": [
    "get_clf_eval(y_test, preds)"
   ]
  },
  {
   "cell_type": "code",
   "execution_count": 53,
   "metadata": {},
   "outputs": [
    {
     "data": {
      "text/plain": [
       "\"\\nmodel=xgb.XGBClassifier()\\nparam_grid={    'silent':[True],\\n                 'max_depth':[2,4,6,8,10,12],\\n                 'min_child_weight':[1,3,5],\\n                 'gamma':[0,1,2,3],\\n                 'nthread':[4],\\n                 'colsample_bytree':[0.5,0.8],\\n                 'colsample_bylevel':[0.9],\\n                 'n_estimators':[50],\\n                 'objective':['binary:logistic'],\\n                 'random_state':[0,1,2]}\\ncv=KFold(n_splits=6, random_state=1)\\ngcv=GridSearchCV(model, param_grid=param_grid, cv=cv, scoring='f1', n_jobs=4)\\n\\n# 5번\\ngcv.fit(X_train.values,y_train.values)\\nprint('final params', gcv.best_params_)   # 최적의 파라미터 값 출력\\nprint('best score', gcv.best_score_)\\n\""
      ]
     },
     "execution_count": 53,
     "metadata": {},
     "output_type": "execute_result"
    }
   ],
   "source": [
    "'''\n",
    "model=xgb.XGBClassifier()\n",
    "param_grid={    'silent':[True],\n",
    "                 'max_depth':[2,4,6,8,10,12],\n",
    "                 'min_child_weight':[1,3,5],\n",
    "                 'gamma':[0,1,2,3],\n",
    "                 'nthread':[4],\n",
    "                 'colsample_bytree':[0.5,0.8],\n",
    "                 'colsample_bylevel':[0.9],\n",
    "                 'n_estimators':[50],\n",
    "                 'objective':['binary:logistic'],\n",
    "                 'random_state':[0,1,2]}\n",
    "cv=KFold(n_splits=6, random_state=1)\n",
    "gcv=GridSearchCV(model, param_grid=param_grid, cv=cv, scoring='f1', n_jobs=4)\n",
    "\n",
    "# 5번\n",
    "gcv.fit(X_train.values,y_train.values)\n",
    "print('final params', gcv.best_params_)   # 최적의 파라미터 값 출력\n",
    "print('best score', gcv.best_score_)\n",
    "'''"
   ]
  },
  {
   "cell_type": "code",
   "execution_count": 106,
   "metadata": {
    "scrolled": true
   },
   "outputs": [
    {
     "data": {
      "image/png": "[encoded data removed]",
      "text/plain": [
       "<Figure size 1080x504 with 1 Axes>"
      ]
     },
     "metadata": {
      "needs_background": "light"
     },
     "output_type": "display_data"
    }
   ],
   "source": [
    "clf = RandomForestClassifier(random_state=42, max_depth=6)\n",
    "clf.fit(X, Y)\n",
    "feature_importance = clf.feature_importances_\n",
    "\n",
    "# plot\n",
    "df_fi = pd.DataFrame({'columns':X.columns, 'importances':feature_importance})\n",
    "df_fi = df_fi[df_fi['importances'] > 0] # importance가 0이상인 것만 \n",
    "df_fi = df_fi.sort_values(by=['importances'], ascending=False)\n",
    "\n",
    "fig = plt.figure(figsize=(15,7))\n",
    "ax = sns.barplot(df_fi['columns'], df_fi['importances'])\n",
    "ax.set_xticklabels(df_fi['columns'], rotation=80, fontsize=13)\n",
    "plt.tight_layout()\n",
    "plt.show()"
   ]
  },
  {
   "cell_type": "code",
   "execution_count": 107,
   "metadata": {
    "scrolled": true
   },
   "outputs": [
    {
     "name": "stdout",
     "output_type": "stream",
     "text": [
      "[15:50:16] WARNING: C:/Users/Administrator/workspace/xgboost-win64_release_1.3.0/src/learner.cc:1061: Starting in XGBoost 1.3.0, the default evaluation metric used with the objective 'binary:logistic' was changed from 'error' to 'logloss'. Explicitly set eval_metric if you'd like to restore the old behavior.\n"
     ]
    },
    {
     "data": {
      "image/png": "[encoded data removed]",
      "text/plain": [
       "<Figure size 1080x504 with 1 Axes>"
      ]
     },
     "metadata": {
      "needs_background": "light"
     },
     "output_type": "display_data"
    }
   ],
   "source": [
    "clf = XGBClassifier(random_state=0, max_depth=6)\n",
    "clf.fit(X, Y)\n",
    "feature_importance = clf.feature_importances_\n",
    "\n",
    "# plot\n",
    "df_fi = pd.DataFrame({'columns':X.columns, 'importances':feature_importance})\n",
    "df_fi = df_fi[df_fi['importances'] > 0] # importance가 0이상인 것만 \n",
    "df_fi = df_fi.sort_values(by=['importances'], ascending=False)\n",
    "\n",
    "fig = plt.figure(figsize=(15,7))\n",
    "ax = sns.barplot(df_fi['columns'], df_fi['importances'])\n",
    "ax.set_xticklabels(df_fi['columns'], rotation=80, fontsize=13)\n",
    "plt.tight_layout()\n",
    "plt.show()"
   ]
  },
  {
   "cell_type": "code",
   "execution_count": null,
   "metadata": {},
   "outputs": [],
   "source": []
  },
  {
   "cell_type": "code",
   "execution_count": null,
   "metadata": {},
   "outputs": [],
   "source": []
  },
  {
   "cell_type": "code",
   "execution_count": null,
   "metadata": {},
   "outputs": [],
   "source": []
  },
  {
   "cell_type": "code",
   "execution_count": null,
   "metadata": {},
   "outputs": [],
   "source": []
  },
  {
   "cell_type": "markdown",
   "metadata": {},
   "source": [
    "#################################################### 검증 파일"
   ]
  },
  {
   "cell_type": "code",
   "execution_count": 54,
   "metadata": {},
   "outputs": [
    {
     "data": {
      "text/html": [
       "<div>\n",
       "<style scoped>\n",
       "    .dataframe tbody tr th:only-of-type {\n",
       "        vertical-align: middle;\n",
       "    }\n",
       "\n",
       "    .dataframe tbody tr th {\n",
       "        vertical-align: top;\n",
       "    }\n",
       "\n",
       "    .dataframe thead th {\n",
       "        text-align: right;\n",
       "    }\n",
       "</style>\n",
       "<table border=\"1\" class=\"dataframe\">\n",
       "  <thead>\n",
       "    <tr style=\"text-align: right;\">\n",
       "      <th></th>\n",
       "      <th>나이</th>\n",
       "      <th>노동 계급</th>\n",
       "      <th>fnlwgt</th>\n",
       "      <th>학력</th>\n",
       "      <th>교육 수</th>\n",
       "      <th>혼인 상태</th>\n",
       "      <th>직업</th>\n",
       "      <th>관계</th>\n",
       "      <th>인종</th>\n",
       "      <th>자본 이득</th>\n",
       "      <th>자본 손실</th>\n",
       "      <th>주당 시간</th>\n",
       "      <th>모국</th>\n",
       "    </tr>\n",
       "    <tr>\n",
       "      <th>아이디</th>\n",
       "      <th></th>\n",
       "      <th></th>\n",
       "      <th></th>\n",
       "      <th></th>\n",
       "      <th></th>\n",
       "      <th></th>\n",
       "      <th></th>\n",
       "      <th></th>\n",
       "      <th></th>\n",
       "      <th></th>\n",
       "      <th></th>\n",
       "      <th></th>\n",
       "      <th></th>\n",
       "    </tr>\n",
       "  </thead>\n",
       "  <tbody>\n",
       "    <tr>\n",
       "      <th>H00001</th>\n",
       "      <td>25</td>\n",
       "      <td>Private</td>\n",
       "      <td>226802</td>\n",
       "      <td>11th</td>\n",
       "      <td>7</td>\n",
       "      <td>Never-married</td>\n",
       "      <td>Machine-op-inspct</td>\n",
       "      <td>Own-child</td>\n",
       "      <td>Black</td>\n",
       "      <td>0</td>\n",
       "      <td>0</td>\n",
       "      <td>40</td>\n",
       "      <td>United-States</td>\n",
       "    </tr>\n",
       "    <tr>\n",
       "      <th>H00002</th>\n",
       "      <td>38</td>\n",
       "      <td>Private</td>\n",
       "      <td>89814</td>\n",
       "      <td>HS-grad</td>\n",
       "      <td>9</td>\n",
       "      <td>Married-civ-spouse</td>\n",
       "      <td>Farming-fishing</td>\n",
       "      <td>Husband</td>\n",
       "      <td>White</td>\n",
       "      <td>0</td>\n",
       "      <td>0</td>\n",
       "      <td>50</td>\n",
       "      <td>United-States</td>\n",
       "    </tr>\n",
       "    <tr>\n",
       "      <th>H00003</th>\n",
       "      <td>28</td>\n",
       "      <td>Local-gov</td>\n",
       "      <td>336951</td>\n",
       "      <td>Assoc-acdm</td>\n",
       "      <td>12</td>\n",
       "      <td>Married-civ-spouse</td>\n",
       "      <td>Protective-serv</td>\n",
       "      <td>Husband</td>\n",
       "      <td>White</td>\n",
       "      <td>0</td>\n",
       "      <td>0</td>\n",
       "      <td>40</td>\n",
       "      <td>United-States</td>\n",
       "    </tr>\n",
       "    <tr>\n",
       "      <th>H00004</th>\n",
       "      <td>44</td>\n",
       "      <td>Private</td>\n",
       "      <td>160323</td>\n",
       "      <td>Some-college</td>\n",
       "      <td>10</td>\n",
       "      <td>Married-civ-spouse</td>\n",
       "      <td>Machine-op-inspct</td>\n",
       "      <td>Husband</td>\n",
       "      <td>Black</td>\n",
       "      <td>7688</td>\n",
       "      <td>0</td>\n",
       "      <td>40</td>\n",
       "      <td>United-States</td>\n",
       "    </tr>\n",
       "    <tr>\n",
       "      <th>H00005</th>\n",
       "      <td>18</td>\n",
       "      <td>NaN</td>\n",
       "      <td>103497</td>\n",
       "      <td>Some-college</td>\n",
       "      <td>10</td>\n",
       "      <td>Never-married</td>\n",
       "      <td>NaN</td>\n",
       "      <td>Own-child</td>\n",
       "      <td>White</td>\n",
       "      <td>0</td>\n",
       "      <td>0</td>\n",
       "      <td>30</td>\n",
       "      <td>United-States</td>\n",
       "    </tr>\n",
       "  </tbody>\n",
       "</table>\n",
       "</div>"
      ],
      "text/plain": [
       "        나이       노동 계급  fnlwgt             학력  교육 수                혼인 상태  \\\n",
       "아이디                                                                        \n",
       "H00001  25     Private  226802           11th     7        Never-married   \n",
       "H00002  38     Private   89814        HS-grad     9   Married-civ-spouse   \n",
       "H00003  28   Local-gov  336951     Assoc-acdm    12   Married-civ-spouse   \n",
       "H00004  44     Private  160323   Some-college    10   Married-civ-spouse   \n",
       "H00005  18         NaN  103497   Some-college    10        Never-married   \n",
       "\n",
       "                        직업          관계      인종  자본 이득  자본 손실  주당 시간  \\\n",
       "아이디                                                                   \n",
       "H00001   Machine-op-inspct   Own-child   Black      0      0     40   \n",
       "H00002     Farming-fishing     Husband   White      0      0     50   \n",
       "H00003     Protective-serv     Husband   White      0      0     40   \n",
       "H00004   Machine-op-inspct     Husband   Black   7688      0     40   \n",
       "H00005                 NaN   Own-child   White      0      0     30   \n",
       "\n",
       "                    모국  \n",
       "아이디                     \n",
       "H00001   United-States  \n",
       "H00002   United-States  \n",
       "H00003   United-States  \n",
       "H00004   United-States  \n",
       "H00005   United-States  "
      ]
     },
     "execution_count": 54,
     "metadata": {},
     "output_type": "execute_result"
    }
   ],
   "source": [
    "test.head()"
   ]
  },
  {
   "cell_type": "code",
   "execution_count": 55,
   "metadata": {
    "scrolled": false
   },
   "outputs": [
    {
     "data": {
      "text/html": [
       "<div>\n",
       "<style scoped>\n",
       "    .dataframe tbody tr th:only-of-type {\n",
       "        vertical-align: middle;\n",
       "    }\n",
       "\n",
       "    .dataframe tbody tr th {\n",
       "        vertical-align: top;\n",
       "    }\n",
       "\n",
       "    .dataframe thead th {\n",
       "        text-align: right;\n",
       "    }\n",
       "</style>\n",
       "<table border=\"1\" class=\"dataframe\">\n",
       "  <thead>\n",
       "    <tr style=\"text-align: right;\">\n",
       "      <th></th>\n",
       "      <th>나이</th>\n",
       "      <th>노동 계급</th>\n",
       "      <th>fnlwgt</th>\n",
       "      <th>학력</th>\n",
       "      <th>교육 수</th>\n",
       "      <th>혼인 상태</th>\n",
       "      <th>직업</th>\n",
       "      <th>관계</th>\n",
       "      <th>인종</th>\n",
       "      <th>자본 이득</th>\n",
       "      <th>자본 손실</th>\n",
       "      <th>주당 시간</th>\n",
       "      <th>모국</th>\n",
       "    </tr>\n",
       "    <tr>\n",
       "      <th>아이디</th>\n",
       "      <th></th>\n",
       "      <th></th>\n",
       "      <th></th>\n",
       "      <th></th>\n",
       "      <th></th>\n",
       "      <th></th>\n",
       "      <th></th>\n",
       "      <th></th>\n",
       "      <th></th>\n",
       "      <th></th>\n",
       "      <th></th>\n",
       "      <th></th>\n",
       "      <th></th>\n",
       "    </tr>\n",
       "  </thead>\n",
       "  <tbody>\n",
       "    <tr>\n",
       "      <th>H00001</th>\n",
       "      <td>25</td>\n",
       "      <td>Private</td>\n",
       "      <td>226802</td>\n",
       "      <td>11th</td>\n",
       "      <td>7</td>\n",
       "      <td>Never-married</td>\n",
       "      <td>Machine-op-inspct</td>\n",
       "      <td>Own-child</td>\n",
       "      <td>Black</td>\n",
       "      <td>0</td>\n",
       "      <td>0</td>\n",
       "      <td>40</td>\n",
       "      <td>United-States</td>\n",
       "    </tr>\n",
       "    <tr>\n",
       "      <th>H00002</th>\n",
       "      <td>38</td>\n",
       "      <td>Private</td>\n",
       "      <td>89814</td>\n",
       "      <td>HS-grad</td>\n",
       "      <td>9</td>\n",
       "      <td>Married-civ-spouse</td>\n",
       "      <td>Farming-fishing</td>\n",
       "      <td>Husband</td>\n",
       "      <td>White</td>\n",
       "      <td>0</td>\n",
       "      <td>0</td>\n",
       "      <td>50</td>\n",
       "      <td>United-States</td>\n",
       "    </tr>\n",
       "    <tr>\n",
       "      <th>H00003</th>\n",
       "      <td>28</td>\n",
       "      <td>Local-gov</td>\n",
       "      <td>336951</td>\n",
       "      <td>Assoc-acdm</td>\n",
       "      <td>12</td>\n",
       "      <td>Married-civ-spouse</td>\n",
       "      <td>Protective-serv</td>\n",
       "      <td>Husband</td>\n",
       "      <td>White</td>\n",
       "      <td>0</td>\n",
       "      <td>0</td>\n",
       "      <td>40</td>\n",
       "      <td>United-States</td>\n",
       "    </tr>\n",
       "    <tr>\n",
       "      <th>H00004</th>\n",
       "      <td>44</td>\n",
       "      <td>Private</td>\n",
       "      <td>160323</td>\n",
       "      <td>Some-college</td>\n",
       "      <td>10</td>\n",
       "      <td>Married-civ-spouse</td>\n",
       "      <td>Machine-op-inspct</td>\n",
       "      <td>Husband</td>\n",
       "      <td>Black</td>\n",
       "      <td>7688</td>\n",
       "      <td>0</td>\n",
       "      <td>40</td>\n",
       "      <td>United-States</td>\n",
       "    </tr>\n",
       "    <tr>\n",
       "      <th>H00005</th>\n",
       "      <td>18</td>\n",
       "      <td>NaN</td>\n",
       "      <td>103497</td>\n",
       "      <td>Some-college</td>\n",
       "      <td>10</td>\n",
       "      <td>Never-married</td>\n",
       "      <td>NaN</td>\n",
       "      <td>Own-child</td>\n",
       "      <td>White</td>\n",
       "      <td>0</td>\n",
       "      <td>0</td>\n",
       "      <td>30</td>\n",
       "      <td>United-States</td>\n",
       "    </tr>\n",
       "  </tbody>\n",
       "</table>\n",
       "</div>"
      ],
      "text/plain": [
       "        나이       노동 계급  fnlwgt             학력  교육 수                혼인 상태  \\\n",
       "아이디                                                                        \n",
       "H00001  25     Private  226802           11th     7        Never-married   \n",
       "H00002  38     Private   89814        HS-grad     9   Married-civ-spouse   \n",
       "H00003  28   Local-gov  336951     Assoc-acdm    12   Married-civ-spouse   \n",
       "H00004  44     Private  160323   Some-college    10   Married-civ-spouse   \n",
       "H00005  18         NaN  103497   Some-college    10        Never-married   \n",
       "\n",
       "                        직업          관계      인종  자본 이득  자본 손실  주당 시간  \\\n",
       "아이디                                                                   \n",
       "H00001   Machine-op-inspct   Own-child   Black      0      0     40   \n",
       "H00002     Farming-fishing     Husband   White      0      0     50   \n",
       "H00003     Protective-serv     Husband   White      0      0     40   \n",
       "H00004   Machine-op-inspct     Husband   Black   7688      0     40   \n",
       "H00005                 NaN   Own-child   White      0      0     30   \n",
       "\n",
       "                    모국  \n",
       "아이디                     \n",
       "H00001   United-States  \n",
       "H00002   United-States  \n",
       "H00003   United-States  \n",
       "H00004   United-States  \n",
       "H00005   United-States  "
      ]
     },
     "execution_count": 55,
     "metadata": {},
     "output_type": "execute_result"
    }
   ],
   "source": [
    "ndf = test.copy()\n",
    "ndf.head()"
   ]
  },
  {
   "cell_type": "code",
   "execution_count": 56,
   "metadata": {
    "scrolled": false
   },
   "outputs": [
    {
     "data": {
      "text/plain": [
       "나이          0\n",
       "노동 계급     963\n",
       "fnlwgt      0\n",
       "학력          0\n",
       "교육 수        0\n",
       "혼인 상태       0\n",
       "직업        966\n",
       "관계          0\n",
       "인종          0\n",
       "자본 이득       0\n",
       "자본 손실       0\n",
       "주당 시간       0\n",
       "모국        274\n",
       "dtype: int64"
      ]
     },
     "execution_count": 56,
     "metadata": {},
     "output_type": "execute_result"
    }
   ],
   "source": [
    "ndf.isnull().sum()"
   ]
  },
  {
   "cell_type": "code",
   "execution_count": 57,
   "metadata": {},
   "outputs": [
    {
     "data": {
      "text/plain": [
       "SimpleImputer(strategy='most_frequent')"
      ]
     },
     "execution_count": 57,
     "metadata": {},
     "output_type": "execute_result"
    }
   ],
   "source": [
    "from sklearn.impute import SimpleImputer\n",
    "imputer_con = SimpleImputer(strategy=\"most_frequent\")  \n",
    "con = ['노동 계급', '직업', '모국']\n",
    "imputer_con.fit(ndf[con])"
   ]
  },
  {
   "cell_type": "code",
   "execution_count": 58,
   "metadata": {
    "scrolled": true
   },
   "outputs": [],
   "source": [
    "x = imputer_con.transform(ndf[con])\n",
    "ndf[con] =x"
   ]
  },
  {
   "cell_type": "code",
   "execution_count": 59,
   "metadata": {
    "scrolled": true
   },
   "outputs": [
    {
     "data": {
      "text/plain": [
       "Married-civ-spouse       7403\n",
       "Never-married            5434\n",
       "Divorced                 2190\n",
       "Widowed                   525\n",
       "Separated                 505\n",
       "Married-spouse-absent     210\n",
       "Married-AF-spouse          14\n",
       "Name: 혼인 상태, dtype: int64"
      ]
     },
     "execution_count": 59,
     "metadata": {},
     "output_type": "execute_result"
    }
   ],
   "source": [
    "# 결혼 변수 추가\n",
    "ndf['혼인 상태'] = ndf['혼인 상태'].str.lstrip()\n",
    "ndf['혼인 상태'].value_counts()   "
   ]
  },
  {
   "cell_type": "code",
   "execution_count": 60,
   "metadata": {},
   "outputs": [],
   "source": [
    "str1 = 'Never-married','Divorced'\n",
    "def marr(x):\n",
    "    결혼 = ''\n",
    "    if x in str1: 결혼 = '무'\n",
    "    else: 결혼 = '유'\n",
    "    return 결혼"
   ]
  },
  {
   "cell_type": "code",
   "execution_count": 61,
   "metadata": {},
   "outputs": [],
   "source": [
    "ndf['결혼'] = ndf['혼인 상태'].apply(lambda x : marr(x))"
   ]
  },
  {
   "cell_type": "code",
   "execution_count": 62,
   "metadata": {},
   "outputs": [],
   "source": [
    "spo1 = 'Married-AF-spouse'\n",
    "spo2 = 'Never-married', 'Divorced', 'Separated', 'Widowed'\n",
    "def spouse(s):\n",
    "    배우자=''\n",
    "    if s in spo1 : 배우자 = '군인'\n",
    "    elif s in spo2 :  배우자 = '무'\n",
    "    else: 배우자 = '일반'\n",
    "    return 배우자"
   ]
  },
  {
   "cell_type": "code",
   "execution_count": 63,
   "metadata": {},
   "outputs": [],
   "source": [
    "ndf['배우자'] =ndf['혼인 상태'].apply(lambda s: spouse(s))"
   ]
  },
  {
   "cell_type": "code",
   "execution_count": 64,
   "metadata": {},
   "outputs": [],
   "source": [
    "ndf['com'] = ndf['자본 이득']+ndf['자본 손실'] / ndf['주당 시간']"
   ]
  },
  {
   "cell_type": "code",
   "execution_count": 65,
   "metadata": {
    "scrolled": true
   },
   "outputs": [],
   "source": [
    "ndf_jobs = pd.get_dummies(ndf['직업'])"
   ]
  },
  {
   "cell_type": "code",
   "execution_count": 66,
   "metadata": {
    "scrolled": false
   },
   "outputs": [],
   "source": [
    "ndf = pd.concat([ndf,ndf_jobs], axis=1)"
   ]
  },
  {
   "cell_type": "code",
   "execution_count": 67,
   "metadata": {},
   "outputs": [],
   "source": [
    "ndf = ndf.drop(['자본 이득','자본 손실','fnlwgt','학력'], axis=1)"
   ]
  },
  {
   "cell_type": "code",
   "execution_count": 68,
   "metadata": {},
   "outputs": [
    {
     "data": {
      "text/plain": [
       "Index(['노동 계급', '혼인 상태', '직업', '관계', '인종', '모국', '결혼', '배우자'], dtype='object')"
      ]
     },
     "metadata": {},
     "output_type": "display_data"
    },
    {
     "data": {
      "text/plain": [
       "Index(['나이', '교육 수', '주당 시간', 'com', ' Adm-clerical', ' Armed-Forces',\n",
       "       ' Craft-repair', ' Exec-managerial', ' Farming-fishing',\n",
       "       ' Handlers-cleaners', ' Machine-op-inspct', ' Other-service',\n",
       "       ' Priv-house-serv', ' Prof-specialty', ' Protective-serv', ' Sales',\n",
       "       ' Tech-support', ' Transport-moving'],\n",
       "      dtype='object')"
      ]
     },
     "metadata": {},
     "output_type": "display_data"
    }
   ],
   "source": [
    "obj1 = ndf.dtypes[ndf.dtypes == 'object'].index\n",
    "num1 = ndf.dtypes[ndf.dtypes != 'object'].index\n",
    "display(obj1)\n",
    "display(num1)"
   ]
  },
  {
   "cell_type": "code",
   "execution_count": 69,
   "metadata": {},
   "outputs": [],
   "source": [
    "ndf[obj1] = ndf[obj1].apply(lambda x: x.astype('category').cat.codes)"
   ]
  },
  {
   "cell_type": "code",
   "execution_count": 70,
   "metadata": {
    "scrolled": true
   },
   "outputs": [
    {
     "data": {
      "text/plain": [
       "(30508, 26)"
      ]
     },
     "execution_count": 70,
     "metadata": {},
     "output_type": "execute_result"
    }
   ],
   "source": [
    "X_train_com.shape"
   ]
  },
  {
   "cell_type": "code",
   "execution_count": 71,
   "metadata": {
    "scrolled": true
   },
   "outputs": [
    {
     "data": {
      "text/plain": [
       "(16281, 26)"
      ]
     },
     "execution_count": 71,
     "metadata": {},
     "output_type": "execute_result"
    }
   ],
   "source": [
    "ndf.shape"
   ]
  },
  {
   "cell_type": "code",
   "execution_count": 72,
   "metadata": {},
   "outputs": [],
   "source": [
    "ndf.reset_index(drop=False, inplace=True)"
   ]
  },
  {
   "cell_type": "code",
   "execution_count": 73,
   "metadata": {},
   "outputs": [],
   "source": [
    "dtest_ndf = xgb.DMatrix(data=ndf.loc[:,'나이':])"
   ]
  },
  {
   "cell_type": "code",
   "execution_count": 74,
   "metadata": {},
   "outputs": [],
   "source": [
    "ndf['성별'] = xgb_model.predict(dtest_ndf)"
   ]
  },
  {
   "cell_type": "code",
   "execution_count": 75,
   "metadata": {
    "scrolled": true
   },
   "outputs": [
    {
     "data": {
      "text/html": [
       "<div>\n",
       "<style scoped>\n",
       "    .dataframe tbody tr th:only-of-type {\n",
       "        vertical-align: middle;\n",
       "    }\n",
       "\n",
       "    .dataframe tbody tr th {\n",
       "        vertical-align: top;\n",
       "    }\n",
       "\n",
       "    .dataframe thead th {\n",
       "        text-align: right;\n",
       "    }\n",
       "</style>\n",
       "<table border=\"1\" class=\"dataframe\">\n",
       "  <thead>\n",
       "    <tr style=\"text-align: right;\">\n",
       "      <th></th>\n",
       "      <th>아이디</th>\n",
       "      <th>나이</th>\n",
       "      <th>노동 계급</th>\n",
       "      <th>교육 수</th>\n",
       "      <th>혼인 상태</th>\n",
       "      <th>직업</th>\n",
       "      <th>관계</th>\n",
       "      <th>인종</th>\n",
       "      <th>주당 시간</th>\n",
       "      <th>모국</th>\n",
       "      <th>...</th>\n",
       "      <th>Handlers-cleaners</th>\n",
       "      <th>Machine-op-inspct</th>\n",
       "      <th>Other-service</th>\n",
       "      <th>Priv-house-serv</th>\n",
       "      <th>Prof-specialty</th>\n",
       "      <th>Protective-serv</th>\n",
       "      <th>Sales</th>\n",
       "      <th>Tech-support</th>\n",
       "      <th>Transport-moving</th>\n",
       "      <th>성별</th>\n",
       "    </tr>\n",
       "  </thead>\n",
       "  <tbody>\n",
       "    <tr>\n",
       "      <th>0</th>\n",
       "      <td>H00001</td>\n",
       "      <td>25</td>\n",
       "      <td>3</td>\n",
       "      <td>7</td>\n",
       "      <td>4</td>\n",
       "      <td>6</td>\n",
       "      <td>3</td>\n",
       "      <td>2</td>\n",
       "      <td>40</td>\n",
       "      <td>37</td>\n",
       "      <td>...</td>\n",
       "      <td>0</td>\n",
       "      <td>1</td>\n",
       "      <td>0</td>\n",
       "      <td>0</td>\n",
       "      <td>0</td>\n",
       "      <td>0</td>\n",
       "      <td>0</td>\n",
       "      <td>0</td>\n",
       "      <td>0</td>\n",
       "      <td>0.520254</td>\n",
       "    </tr>\n",
       "    <tr>\n",
       "      <th>1</th>\n",
       "      <td>H00002</td>\n",
       "      <td>38</td>\n",
       "      <td>3</td>\n",
       "      <td>9</td>\n",
       "      <td>2</td>\n",
       "      <td>4</td>\n",
       "      <td>0</td>\n",
       "      <td>4</td>\n",
       "      <td>50</td>\n",
       "      <td>37</td>\n",
       "      <td>...</td>\n",
       "      <td>0</td>\n",
       "      <td>0</td>\n",
       "      <td>0</td>\n",
       "      <td>0</td>\n",
       "      <td>0</td>\n",
       "      <td>0</td>\n",
       "      <td>0</td>\n",
       "      <td>0</td>\n",
       "      <td>0</td>\n",
       "      <td>0.999472</td>\n",
       "    </tr>\n",
       "    <tr>\n",
       "      <th>2</th>\n",
       "      <td>H00003</td>\n",
       "      <td>28</td>\n",
       "      <td>1</td>\n",
       "      <td>12</td>\n",
       "      <td>2</td>\n",
       "      <td>10</td>\n",
       "      <td>0</td>\n",
       "      <td>4</td>\n",
       "      <td>40</td>\n",
       "      <td>37</td>\n",
       "      <td>...</td>\n",
       "      <td>0</td>\n",
       "      <td>0</td>\n",
       "      <td>0</td>\n",
       "      <td>0</td>\n",
       "      <td>0</td>\n",
       "      <td>1</td>\n",
       "      <td>0</td>\n",
       "      <td>0</td>\n",
       "      <td>0</td>\n",
       "      <td>0.999507</td>\n",
       "    </tr>\n",
       "    <tr>\n",
       "      <th>3</th>\n",
       "      <td>H00004</td>\n",
       "      <td>44</td>\n",
       "      <td>3</td>\n",
       "      <td>10</td>\n",
       "      <td>2</td>\n",
       "      <td>6</td>\n",
       "      <td>0</td>\n",
       "      <td>2</td>\n",
       "      <td>40</td>\n",
       "      <td>37</td>\n",
       "      <td>...</td>\n",
       "      <td>0</td>\n",
       "      <td>1</td>\n",
       "      <td>0</td>\n",
       "      <td>0</td>\n",
       "      <td>0</td>\n",
       "      <td>0</td>\n",
       "      <td>0</td>\n",
       "      <td>0</td>\n",
       "      <td>0</td>\n",
       "      <td>0.999541</td>\n",
       "    </tr>\n",
       "    <tr>\n",
       "      <th>4</th>\n",
       "      <td>H00005</td>\n",
       "      <td>18</td>\n",
       "      <td>3</td>\n",
       "      <td>10</td>\n",
       "      <td>4</td>\n",
       "      <td>9</td>\n",
       "      <td>3</td>\n",
       "      <td>4</td>\n",
       "      <td>30</td>\n",
       "      <td>37</td>\n",
       "      <td>...</td>\n",
       "      <td>0</td>\n",
       "      <td>0</td>\n",
       "      <td>0</td>\n",
       "      <td>0</td>\n",
       "      <td>1</td>\n",
       "      <td>0</td>\n",
       "      <td>0</td>\n",
       "      <td>0</td>\n",
       "      <td>0</td>\n",
       "      <td>0.277603</td>\n",
       "    </tr>\n",
       "  </tbody>\n",
       "</table>\n",
       "<p>5 rows × 28 columns</p>\n",
       "</div>"
      ],
      "text/plain": [
       "      아이디  나이  노동 계급  교육 수  혼인 상태  직업  관계  인종  주당 시간  모국  ...  \\\n",
       "0  H00001  25      3     7      4   6   3   2     40  37  ...   \n",
       "1  H00002  38      3     9      2   4   0   4     50  37  ...   \n",
       "2  H00003  28      1    12      2  10   0   4     40  37  ...   \n",
       "3  H00004  44      3    10      2   6   0   2     40  37  ...   \n",
       "4  H00005  18      3    10      4   9   3   4     30  37  ...   \n",
       "\n",
       "    Handlers-cleaners   Machine-op-inspct   Other-service   Priv-house-serv  \\\n",
       "0                   0                   1               0                 0   \n",
       "1                   0                   0               0                 0   \n",
       "2                   0                   0               0                 0   \n",
       "3                   0                   1               0                 0   \n",
       "4                   0                   0               0                 0   \n",
       "\n",
       "    Prof-specialty   Protective-serv   Sales   Tech-support  \\\n",
       "0                0                 0       0              0   \n",
       "1                0                 0       0              0   \n",
       "2                0                 1       0              0   \n",
       "3                0                 0       0              0   \n",
       "4                1                 0       0              0   \n",
       "\n",
       "    Transport-moving        성별  \n",
       "0                  0  0.520254  \n",
       "1                  0  0.999472  \n",
       "2                  0  0.999507  \n",
       "3                  0  0.999541  \n",
       "4                  0  0.277603  \n",
       "\n",
       "[5 rows x 28 columns]"
      ]
     },
     "execution_count": 75,
     "metadata": {},
     "output_type": "execute_result"
    }
   ],
   "source": [
    "ndf.head()"
   ]
  },
  {
   "cell_type": "code",
   "execution_count": 76,
   "metadata": {},
   "outputs": [
    {
     "data": {
      "text/html": [
       "<div>\n",
       "<style scoped>\n",
       "    .dataframe tbody tr th:only-of-type {\n",
       "        vertical-align: middle;\n",
       "    }\n",
       "\n",
       "    .dataframe tbody tr th {\n",
       "        vertical-align: top;\n",
       "    }\n",
       "\n",
       "    .dataframe thead th {\n",
       "        text-align: right;\n",
       "    }\n",
       "</style>\n",
       "<table border=\"1\" class=\"dataframe\">\n",
       "  <thead>\n",
       "    <tr style=\"text-align: right;\">\n",
       "      <th></th>\n",
       "      <th>아이디</th>\n",
       "      <th>성별</th>\n",
       "    </tr>\n",
       "  </thead>\n",
       "  <tbody>\n",
       "    <tr>\n",
       "      <th>0</th>\n",
       "      <td>H00001</td>\n",
       "      <td>0.520254</td>\n",
       "    </tr>\n",
       "    <tr>\n",
       "      <th>1</th>\n",
       "      <td>H00002</td>\n",
       "      <td>0.999472</td>\n",
       "    </tr>\n",
       "    <tr>\n",
       "      <th>2</th>\n",
       "      <td>H00003</td>\n",
       "      <td>0.999507</td>\n",
       "    </tr>\n",
       "    <tr>\n",
       "      <th>3</th>\n",
       "      <td>H00004</td>\n",
       "      <td>0.999541</td>\n",
       "    </tr>\n",
       "    <tr>\n",
       "      <th>4</th>\n",
       "      <td>H00005</td>\n",
       "      <td>0.277603</td>\n",
       "    </tr>\n",
       "  </tbody>\n",
       "</table>\n",
       "</div>"
      ],
      "text/plain": [
       "      아이디        성별\n",
       "0  H00001  0.520254\n",
       "1  H00002  0.999472\n",
       "2  H00003  0.999507\n",
       "3  H00004  0.999541\n",
       "4  H00005  0.277603"
      ]
     },
     "execution_count": 76,
     "metadata": {},
     "output_type": "execute_result"
    }
   ],
   "source": [
    "str = ['아이디','성별']\n",
    "ndf[str].head()"
   ]
  },
  {
   "cell_type": "code",
   "execution_count": 77,
   "metadata": {},
   "outputs": [
    {
     "data": {
      "text/html": [
       "<div>\n",
       "<style scoped>\n",
       "    .dataframe tbody tr th:only-of-type {\n",
       "        vertical-align: middle;\n",
       "    }\n",
       "\n",
       "    .dataframe tbody tr th {\n",
       "        vertical-align: top;\n",
       "    }\n",
       "\n",
       "    .dataframe thead th {\n",
       "        text-align: right;\n",
       "    }\n",
       "</style>\n",
       "<table border=\"1\" class=\"dataframe\">\n",
       "  <thead>\n",
       "    <tr style=\"text-align: right;\">\n",
       "      <th></th>\n",
       "      <th>ID</th>\n",
       "      <th>나이</th>\n",
       "      <th>노동 계급</th>\n",
       "      <th>교육 수</th>\n",
       "      <th>혼인 상태</th>\n",
       "      <th>직업</th>\n",
       "      <th>관계</th>\n",
       "      <th>인종</th>\n",
       "      <th>주당 시간</th>\n",
       "      <th>모국</th>\n",
       "      <th>...</th>\n",
       "      <th>Handlers-cleaners</th>\n",
       "      <th>Machine-op-inspct</th>\n",
       "      <th>Other-service</th>\n",
       "      <th>Priv-house-serv</th>\n",
       "      <th>Prof-specialty</th>\n",
       "      <th>Protective-serv</th>\n",
       "      <th>Sales</th>\n",
       "      <th>Tech-support</th>\n",
       "      <th>Transport-moving</th>\n",
       "      <th>SEX</th>\n",
       "    </tr>\n",
       "  </thead>\n",
       "  <tbody>\n",
       "    <tr>\n",
       "      <th>0</th>\n",
       "      <td>H00001</td>\n",
       "      <td>25</td>\n",
       "      <td>3</td>\n",
       "      <td>7</td>\n",
       "      <td>4</td>\n",
       "      <td>6</td>\n",
       "      <td>3</td>\n",
       "      <td>2</td>\n",
       "      <td>40</td>\n",
       "      <td>37</td>\n",
       "      <td>...</td>\n",
       "      <td>0</td>\n",
       "      <td>1</td>\n",
       "      <td>0</td>\n",
       "      <td>0</td>\n",
       "      <td>0</td>\n",
       "      <td>0</td>\n",
       "      <td>0</td>\n",
       "      <td>0</td>\n",
       "      <td>0</td>\n",
       "      <td>0.520254</td>\n",
       "    </tr>\n",
       "    <tr>\n",
       "      <th>1</th>\n",
       "      <td>H00002</td>\n",
       "      <td>38</td>\n",
       "      <td>3</td>\n",
       "      <td>9</td>\n",
       "      <td>2</td>\n",
       "      <td>4</td>\n",
       "      <td>0</td>\n",
       "      <td>4</td>\n",
       "      <td>50</td>\n",
       "      <td>37</td>\n",
       "      <td>...</td>\n",
       "      <td>0</td>\n",
       "      <td>0</td>\n",
       "      <td>0</td>\n",
       "      <td>0</td>\n",
       "      <td>0</td>\n",
       "      <td>0</td>\n",
       "      <td>0</td>\n",
       "      <td>0</td>\n",
       "      <td>0</td>\n",
       "      <td>0.999472</td>\n",
       "    </tr>\n",
       "    <tr>\n",
       "      <th>2</th>\n",
       "      <td>H00003</td>\n",
       "      <td>28</td>\n",
       "      <td>1</td>\n",
       "      <td>12</td>\n",
       "      <td>2</td>\n",
       "      <td>10</td>\n",
       "      <td>0</td>\n",
       "      <td>4</td>\n",
       "      <td>40</td>\n",
       "      <td>37</td>\n",
       "      <td>...</td>\n",
       "      <td>0</td>\n",
       "      <td>0</td>\n",
       "      <td>0</td>\n",
       "      <td>0</td>\n",
       "      <td>0</td>\n",
       "      <td>1</td>\n",
       "      <td>0</td>\n",
       "      <td>0</td>\n",
       "      <td>0</td>\n",
       "      <td>0.999507</td>\n",
       "    </tr>\n",
       "    <tr>\n",
       "      <th>3</th>\n",
       "      <td>H00004</td>\n",
       "      <td>44</td>\n",
       "      <td>3</td>\n",
       "      <td>10</td>\n",
       "      <td>2</td>\n",
       "      <td>6</td>\n",
       "      <td>0</td>\n",
       "      <td>2</td>\n",
       "      <td>40</td>\n",
       "      <td>37</td>\n",
       "      <td>...</td>\n",
       "      <td>0</td>\n",
       "      <td>1</td>\n",
       "      <td>0</td>\n",
       "      <td>0</td>\n",
       "      <td>0</td>\n",
       "      <td>0</td>\n",
       "      <td>0</td>\n",
       "      <td>0</td>\n",
       "      <td>0</td>\n",
       "      <td>0.999541</td>\n",
       "    </tr>\n",
       "    <tr>\n",
       "      <th>4</th>\n",
       "      <td>H00005</td>\n",
       "      <td>18</td>\n",
       "      <td>3</td>\n",
       "      <td>10</td>\n",
       "      <td>4</td>\n",
       "      <td>9</td>\n",
       "      <td>3</td>\n",
       "      <td>4</td>\n",
       "      <td>30</td>\n",
       "      <td>37</td>\n",
       "      <td>...</td>\n",
       "      <td>0</td>\n",
       "      <td>0</td>\n",
       "      <td>0</td>\n",
       "      <td>0</td>\n",
       "      <td>1</td>\n",
       "      <td>0</td>\n",
       "      <td>0</td>\n",
       "      <td>0</td>\n",
       "      <td>0</td>\n",
       "      <td>0.277603</td>\n",
       "    </tr>\n",
       "  </tbody>\n",
       "</table>\n",
       "<p>5 rows × 28 columns</p>\n",
       "</div>"
      ],
      "text/plain": [
       "       ID  나이  노동 계급  교육 수  혼인 상태  직업  관계  인종  주당 시간  모국  ...  \\\n",
       "0  H00001  25      3     7      4   6   3   2     40  37  ...   \n",
       "1  H00002  38      3     9      2   4   0   4     50  37  ...   \n",
       "2  H00003  28      1    12      2  10   0   4     40  37  ...   \n",
       "3  H00004  44      3    10      2   6   0   2     40  37  ...   \n",
       "4  H00005  18      3    10      4   9   3   4     30  37  ...   \n",
       "\n",
       "    Handlers-cleaners   Machine-op-inspct   Other-service   Priv-house-serv  \\\n",
       "0                   0                   1               0                 0   \n",
       "1                   0                   0               0                 0   \n",
       "2                   0                   0               0                 0   \n",
       "3                   0                   1               0                 0   \n",
       "4                   0                   0               0                 0   \n",
       "\n",
       "    Prof-specialty   Protective-serv   Sales   Tech-support  \\\n",
       "0                0                 0       0              0   \n",
       "1                0                 0       0              0   \n",
       "2                0                 1       0              0   \n",
       "3                0                 0       0              0   \n",
       "4                1                 0       0              0   \n",
       "\n",
       "    Transport-moving       SEX  \n",
       "0                  0  0.520254  \n",
       "1                  0  0.999472  \n",
       "2                  0  0.999507  \n",
       "3                  0  0.999541  \n",
       "4                  0  0.277603  \n",
       "\n",
       "[5 rows x 28 columns]"
      ]
     },
     "execution_count": 77,
     "metadata": {},
     "output_type": "execute_result"
    }
   ],
   "source": [
    "ndf_rename = ndf.rename(columns={'아이디':'ID', '성별':'SEX'})\n",
    "ndf_rename.head()"
   ]
  },
  {
   "cell_type": "code",
   "execution_count": 78,
   "metadata": {
    "scrolled": false
   },
   "outputs": [
    {
     "data": {
      "text/html": [
       "<div>\n",
       "<style scoped>\n",
       "    .dataframe tbody tr th:only-of-type {\n",
       "        vertical-align: middle;\n",
       "    }\n",
       "\n",
       "    .dataframe tbody tr th {\n",
       "        vertical-align: top;\n",
       "    }\n",
       "\n",
       "    .dataframe thead th {\n",
       "        text-align: right;\n",
       "    }\n",
       "</style>\n",
       "<table border=\"1\" class=\"dataframe\">\n",
       "  <thead>\n",
       "    <tr style=\"text-align: right;\">\n",
       "      <th></th>\n",
       "      <th>ID</th>\n",
       "      <th>SEX</th>\n",
       "    </tr>\n",
       "  </thead>\n",
       "  <tbody>\n",
       "    <tr>\n",
       "      <th>0</th>\n",
       "      <td>H00001</td>\n",
       "      <td>0.520254</td>\n",
       "    </tr>\n",
       "    <tr>\n",
       "      <th>1</th>\n",
       "      <td>H00002</td>\n",
       "      <td>0.999472</td>\n",
       "    </tr>\n",
       "    <tr>\n",
       "      <th>2</th>\n",
       "      <td>H00003</td>\n",
       "      <td>0.999507</td>\n",
       "    </tr>\n",
       "    <tr>\n",
       "      <th>3</th>\n",
       "      <td>H00004</td>\n",
       "      <td>0.999541</td>\n",
       "    </tr>\n",
       "    <tr>\n",
       "      <th>4</th>\n",
       "      <td>H00005</td>\n",
       "      <td>0.277603</td>\n",
       "    </tr>\n",
       "  </tbody>\n",
       "</table>\n",
       "</div>"
      ],
      "text/plain": [
       "       ID       SEX\n",
       "0  H00001  0.520254\n",
       "1  H00002  0.999472\n",
       "2  H00003  0.999507\n",
       "3  H00004  0.999541\n",
       "4  H00005  0.277603"
      ]
     },
     "execution_count": 78,
     "metadata": {},
     "output_type": "execute_result"
    }
   ],
   "source": [
    "str = ['ID','SEX']\n",
    "ndf_rename[str].head()"
   ]
  },
  {
   "cell_type": "code",
   "execution_count": 79,
   "metadata": {},
   "outputs": [],
   "source": [
    "ndf_rename[str].to_csv('mission_0205_3.csv', encoding='cp949', index=False) "
   ]
  },
  {
   "cell_type": "code",
   "execution_count": 99,
   "metadata": {},
   "outputs": [],
   "source": [
    "ndf.to_csv('test_re.csv', encoding='cp949', index=False)"
   ]
  },
  {
   "cell_type": "code",
   "execution_count": 80,
   "metadata": {
    "scrolled": false
   },
   "outputs": [
    {
     "data": {
      "text/plain": [
       "(16281, 28)"
      ]
     },
     "execution_count": 80,
     "metadata": {},
     "output_type": "execute_result"
    }
   ],
   "source": [
    "ndf_rename.shape # 16281 갯수 똑같이 맞춰야 함"
   ]
  },
  {
   "cell_type": "code",
   "execution_count": 81,
   "metadata": {
    "scrolled": true
   },
   "outputs": [
    {
     "data": {
      "text/html": [
       "<div>\n",
       "<style scoped>\n",
       "    .dataframe tbody tr th:only-of-type {\n",
       "        vertical-align: middle;\n",
       "    }\n",
       "\n",
       "    .dataframe tbody tr th {\n",
       "        vertical-align: top;\n",
       "    }\n",
       "\n",
       "    .dataframe thead th {\n",
       "        text-align: right;\n",
       "    }\n",
       "</style>\n",
       "<table border=\"1\" class=\"dataframe\">\n",
       "  <thead>\n",
       "    <tr style=\"text-align: right;\">\n",
       "      <th></th>\n",
       "      <th>아이디</th>\n",
       "      <th>나이</th>\n",
       "      <th>노동 계급</th>\n",
       "      <th>교육 수</th>\n",
       "      <th>혼인 상태</th>\n",
       "      <th>직업</th>\n",
       "      <th>관계</th>\n",
       "      <th>인종</th>\n",
       "      <th>주당 시간</th>\n",
       "      <th>모국</th>\n",
       "      <th>...</th>\n",
       "      <th>Handlers-cleaners</th>\n",
       "      <th>Machine-op-inspct</th>\n",
       "      <th>Other-service</th>\n",
       "      <th>Priv-house-serv</th>\n",
       "      <th>Prof-specialty</th>\n",
       "      <th>Protective-serv</th>\n",
       "      <th>Sales</th>\n",
       "      <th>Tech-support</th>\n",
       "      <th>Transport-moving</th>\n",
       "      <th>성별</th>\n",
       "    </tr>\n",
       "  </thead>\n",
       "  <tbody>\n",
       "    <tr>\n",
       "      <th>0</th>\n",
       "      <td>H00001</td>\n",
       "      <td>25</td>\n",
       "      <td>3</td>\n",
       "      <td>7</td>\n",
       "      <td>4</td>\n",
       "      <td>6</td>\n",
       "      <td>3</td>\n",
       "      <td>2</td>\n",
       "      <td>40</td>\n",
       "      <td>37</td>\n",
       "      <td>...</td>\n",
       "      <td>0</td>\n",
       "      <td>1</td>\n",
       "      <td>0</td>\n",
       "      <td>0</td>\n",
       "      <td>0</td>\n",
       "      <td>0</td>\n",
       "      <td>0</td>\n",
       "      <td>0</td>\n",
       "      <td>0</td>\n",
       "      <td>0.520254</td>\n",
       "    </tr>\n",
       "    <tr>\n",
       "      <th>1</th>\n",
       "      <td>H00002</td>\n",
       "      <td>38</td>\n",
       "      <td>3</td>\n",
       "      <td>9</td>\n",
       "      <td>2</td>\n",
       "      <td>4</td>\n",
       "      <td>0</td>\n",
       "      <td>4</td>\n",
       "      <td>50</td>\n",
       "      <td>37</td>\n",
       "      <td>...</td>\n",
       "      <td>0</td>\n",
       "      <td>0</td>\n",
       "      <td>0</td>\n",
       "      <td>0</td>\n",
       "      <td>0</td>\n",
       "      <td>0</td>\n",
       "      <td>0</td>\n",
       "      <td>0</td>\n",
       "      <td>0</td>\n",
       "      <td>0.999472</td>\n",
       "    </tr>\n",
       "    <tr>\n",
       "      <th>2</th>\n",
       "      <td>H00003</td>\n",
       "      <td>28</td>\n",
       "      <td>1</td>\n",
       "      <td>12</td>\n",
       "      <td>2</td>\n",
       "      <td>10</td>\n",
       "      <td>0</td>\n",
       "      <td>4</td>\n",
       "      <td>40</td>\n",
       "      <td>37</td>\n",
       "      <td>...</td>\n",
       "      <td>0</td>\n",
       "      <td>0</td>\n",
       "      <td>0</td>\n",
       "      <td>0</td>\n",
       "      <td>0</td>\n",
       "      <td>1</td>\n",
       "      <td>0</td>\n",
       "      <td>0</td>\n",
       "      <td>0</td>\n",
       "      <td>0.999507</td>\n",
       "    </tr>\n",
       "    <tr>\n",
       "      <th>3</th>\n",
       "      <td>H00004</td>\n",
       "      <td>44</td>\n",
       "      <td>3</td>\n",
       "      <td>10</td>\n",
       "      <td>2</td>\n",
       "      <td>6</td>\n",
       "      <td>0</td>\n",
       "      <td>2</td>\n",
       "      <td>40</td>\n",
       "      <td>37</td>\n",
       "      <td>...</td>\n",
       "      <td>0</td>\n",
       "      <td>1</td>\n",
       "      <td>0</td>\n",
       "      <td>0</td>\n",
       "      <td>0</td>\n",
       "      <td>0</td>\n",
       "      <td>0</td>\n",
       "      <td>0</td>\n",
       "      <td>0</td>\n",
       "      <td>0.999541</td>\n",
       "    </tr>\n",
       "    <tr>\n",
       "      <th>4</th>\n",
       "      <td>H00005</td>\n",
       "      <td>18</td>\n",
       "      <td>3</td>\n",
       "      <td>10</td>\n",
       "      <td>4</td>\n",
       "      <td>9</td>\n",
       "      <td>3</td>\n",
       "      <td>4</td>\n",
       "      <td>30</td>\n",
       "      <td>37</td>\n",
       "      <td>...</td>\n",
       "      <td>0</td>\n",
       "      <td>0</td>\n",
       "      <td>0</td>\n",
       "      <td>0</td>\n",
       "      <td>1</td>\n",
       "      <td>0</td>\n",
       "      <td>0</td>\n",
       "      <td>0</td>\n",
       "      <td>0</td>\n",
       "      <td>0.277603</td>\n",
       "    </tr>\n",
       "  </tbody>\n",
       "</table>\n",
       "<p>5 rows × 28 columns</p>\n",
       "</div>"
      ],
      "text/plain": [
       "      아이디  나이  노동 계급  교육 수  혼인 상태  직업  관계  인종  주당 시간  모국  ...  \\\n",
       "0  H00001  25      3     7      4   6   3   2     40  37  ...   \n",
       "1  H00002  38      3     9      2   4   0   4     50  37  ...   \n",
       "2  H00003  28      1    12      2  10   0   4     40  37  ...   \n",
       "3  H00004  44      3    10      2   6   0   2     40  37  ...   \n",
       "4  H00005  18      3    10      4   9   3   4     30  37  ...   \n",
       "\n",
       "    Handlers-cleaners   Machine-op-inspct   Other-service   Priv-house-serv  \\\n",
       "0                   0                   1               0                 0   \n",
       "1                   0                   0               0                 0   \n",
       "2                   0                   0               0                 0   \n",
       "3                   0                   1               0                 0   \n",
       "4                   0                   0               0                 0   \n",
       "\n",
       "    Prof-specialty   Protective-serv   Sales   Tech-support  \\\n",
       "0                0                 0       0              0   \n",
       "1                0                 0       0              0   \n",
       "2                0                 1       0              0   \n",
       "3                0                 0       0              0   \n",
       "4                1                 0       0              0   \n",
       "\n",
       "    Transport-moving        성별  \n",
       "0                  0  0.520254  \n",
       "1                  0  0.999472  \n",
       "2                  0  0.999507  \n",
       "3                  0  0.999541  \n",
       "4                  0  0.277603  \n",
       "\n",
       "[5 rows x 28 columns]"
      ]
     },
     "execution_count": 81,
     "metadata": {},
     "output_type": "execute_result"
    }
   ],
   "source": [
    "ndf.head()"
   ]
  },
  {
   "cell_type": "code",
   "execution_count": 92,
   "metadata": {},
   "outputs": [
    {
     "data": {
      "text/plain": [
       "Index(['아이디', '나이', '노동 계급', '교육 수', '혼인 상태', '직업', '관계', '인종', '주당 시간', '모국',\n",
       "       '결혼', '배우자', 'com', ' Adm-clerical', ' Armed-Forces', ' Craft-repair',\n",
       "       ' Exec-managerial', ' Farming-fishing', ' Handlers-cleaners',\n",
       "       ' Machine-op-inspct', ' Other-service', ' Priv-house-serv',\n",
       "       ' Prof-specialty', ' Protective-serv', ' Sales', ' Tech-support',\n",
       "       ' Transport-moving', '성별'],\n",
       "      dtype='object')"
      ]
     },
     "execution_count": 92,
     "metadata": {},
     "output_type": "execute_result"
    }
   ],
   "source": [
    "ndf.columns"
   ]
  },
  {
   "cell_type": "code",
   "execution_count": 94,
   "metadata": {},
   "outputs": [
    {
     "data": {
      "text/plain": [
       "1    8657\n",
       "0    7624\n",
       "Name: 결혼, dtype: int64"
      ]
     },
     "execution_count": 94,
     "metadata": {},
     "output_type": "execute_result"
    }
   ],
   "source": [
    "ndf['결혼'].value_counts()"
   ]
  },
  {
   "cell_type": "code",
   "execution_count": null,
   "metadata": {},
   "outputs": [],
   "source": [
    "#데이터 전처리 순서 참고 http://www.dodomira.com/2016/10/20/how_to_eda/ \n",
    "\n",
    "# 기본 설명 사이트 참고 https://continuous-development.tistory.com/166?category=736685\n",
    "# https://m.blog.naver.com/gustn3964/221431963819\n",
    "#https://jaehyeongan.github.io/2019/08/13/Basic-Visualization-Analytics/"
   ]
  }
 ],
 "metadata": {
  "kernelspec": {
   "display_name": "Python 3",
   "language": "python",
   "name": "python3"
  },
  "language_info": {
   "codemirror_mode": {
    "name": "ipython",
    "version": 3
   },
   "file_extension": ".py",
   "mimetype": "text/x-python",
   "name": "python",
   "nbconvert_exporter": "python",
   "pygments_lexer": "ipython3",
   "version": "3.8.5"
  }
 },
 "nbformat": 4,
 "nbformat_minor": 4
}
