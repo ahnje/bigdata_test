{
 "cells": [
  {
   "cell_type": "markdown",
   "metadata": {},
   "source": [
    "### 노동자 성별 예측- 노동자들의 데이터를 보고 성별을 예측하자"
   ]
  },
  {
   "cell_type": "code",
   "execution_count": 1,
   "metadata": {},
   "outputs": [],
   "source": [
    "import pandas as pd\n",
    "import numpy as np\n",
    "from sklearn.pipeline import Pipeline\n",
    "\n",
    "#warning messages\n",
    "import warnings\n",
    "warnings.filterwarnings('ignore')\n",
    "#시각화\n",
    "import matplotlib.pyplot as plt\n",
    "%matplotlib inline\n",
    "import seaborn as sns\n",
    "### 그래프 한글 깨짐 해결\n",
    "import platform\n",
    "platform.system()\n",
    "plt.rc('font', family='Malgun Gothic')\n",
    "plt.rc('axes', unicode_minus=False) #마이너스폰트 설정\n",
    "#plt.rc('font', family='AppleGothic') - Darwin : Mac  "
   ]
  },
  {
   "cell_type": "code",
   "execution_count": 2,
   "metadata": {
    "scrolled": true
   },
   "outputs": [
    {
     "data": {
      "text/html": [
       "<div>\n",
       "<style scoped>\n",
       "    .dataframe tbody tr th:only-of-type {\n",
       "        vertical-align: middle;\n",
       "    }\n",
       "\n",
       "    .dataframe tbody tr th {\n",
       "        vertical-align: top;\n",
       "    }\n",
       "\n",
       "    .dataframe thead th {\n",
       "        text-align: right;\n",
       "    }\n",
       "</style>\n",
       "<table border=\"1\" class=\"dataframe\">\n",
       "  <thead>\n",
       "    <tr style=\"text-align: right;\">\n",
       "      <th></th>\n",
       "      <th>나이</th>\n",
       "      <th>노동 계급</th>\n",
       "      <th>fnlwgt</th>\n",
       "      <th>학력</th>\n",
       "      <th>교육 수</th>\n",
       "      <th>혼인 상태</th>\n",
       "      <th>직업</th>\n",
       "      <th>관계</th>\n",
       "      <th>인종</th>\n",
       "      <th>성별</th>\n",
       "      <th>자본 이득</th>\n",
       "      <th>자본 손실</th>\n",
       "      <th>주당 시간</th>\n",
       "      <th>모국</th>\n",
       "    </tr>\n",
       "    <tr>\n",
       "      <th>아이디</th>\n",
       "      <th></th>\n",
       "      <th></th>\n",
       "      <th></th>\n",
       "      <th></th>\n",
       "      <th></th>\n",
       "      <th></th>\n",
       "      <th></th>\n",
       "      <th></th>\n",
       "      <th></th>\n",
       "      <th></th>\n",
       "      <th></th>\n",
       "      <th></th>\n",
       "      <th></th>\n",
       "      <th></th>\n",
       "    </tr>\n",
       "  </thead>\n",
       "  <tbody>\n",
       "    <tr>\n",
       "      <th>H20001</th>\n",
       "      <td>39</td>\n",
       "      <td>State-gov</td>\n",
       "      <td>77516</td>\n",
       "      <td>Bachelors</td>\n",
       "      <td>13</td>\n",
       "      <td>Never-married</td>\n",
       "      <td>Adm-clerical</td>\n",
       "      <td>Not-in-family</td>\n",
       "      <td>White</td>\n",
       "      <td>Male</td>\n",
       "      <td>2174</td>\n",
       "      <td>0</td>\n",
       "      <td>40</td>\n",
       "      <td>United-States</td>\n",
       "    </tr>\n",
       "    <tr>\n",
       "      <th>H20002</th>\n",
       "      <td>50</td>\n",
       "      <td>Self-emp-not-inc</td>\n",
       "      <td>83311</td>\n",
       "      <td>Bachelors</td>\n",
       "      <td>13</td>\n",
       "      <td>Married-civ-spouse</td>\n",
       "      <td>Exec-managerial</td>\n",
       "      <td>Husband</td>\n",
       "      <td>White</td>\n",
       "      <td>Male</td>\n",
       "      <td>0</td>\n",
       "      <td>0</td>\n",
       "      <td>13</td>\n",
       "      <td>United-States</td>\n",
       "    </tr>\n",
       "    <tr>\n",
       "      <th>H20003</th>\n",
       "      <td>38</td>\n",
       "      <td>Private</td>\n",
       "      <td>215646</td>\n",
       "      <td>HS-grad</td>\n",
       "      <td>9</td>\n",
       "      <td>Divorced</td>\n",
       "      <td>Handlers-cleaners</td>\n",
       "      <td>Not-in-family</td>\n",
       "      <td>White</td>\n",
       "      <td>Male</td>\n",
       "      <td>0</td>\n",
       "      <td>0</td>\n",
       "      <td>40</td>\n",
       "      <td>United-States</td>\n",
       "    </tr>\n",
       "    <tr>\n",
       "      <th>H20004</th>\n",
       "      <td>53</td>\n",
       "      <td>Private</td>\n",
       "      <td>234721</td>\n",
       "      <td>11th</td>\n",
       "      <td>7</td>\n",
       "      <td>Married-civ-spouse</td>\n",
       "      <td>Handlers-cleaners</td>\n",
       "      <td>Husband</td>\n",
       "      <td>Black</td>\n",
       "      <td>Male</td>\n",
       "      <td>0</td>\n",
       "      <td>0</td>\n",
       "      <td>40</td>\n",
       "      <td>United-States</td>\n",
       "    </tr>\n",
       "    <tr>\n",
       "      <th>H20005</th>\n",
       "      <td>28</td>\n",
       "      <td>Private</td>\n",
       "      <td>338409</td>\n",
       "      <td>Bachelors</td>\n",
       "      <td>13</td>\n",
       "      <td>Married-civ-spouse</td>\n",
       "      <td>Prof-specialty</td>\n",
       "      <td>Wife</td>\n",
       "      <td>Black</td>\n",
       "      <td>Female</td>\n",
       "      <td>0</td>\n",
       "      <td>0</td>\n",
       "      <td>40</td>\n",
       "      <td>Cuba</td>\n",
       "    </tr>\n",
       "  </tbody>\n",
       "</table>\n",
       "</div>"
      ],
      "text/plain": [
       "        나이              노동 계급  fnlwgt          학력  교육 수                혼인 상태  \\\n",
       "아이디                                                                            \n",
       "H20001  39          State-gov   77516   Bachelors    13        Never-married   \n",
       "H20002  50   Self-emp-not-inc   83311   Bachelors    13   Married-civ-spouse   \n",
       "H20003  38            Private  215646     HS-grad     9             Divorced   \n",
       "H20004  53            Private  234721        11th     7   Married-civ-spouse   \n",
       "H20005  28            Private  338409   Bachelors    13   Married-civ-spouse   \n",
       "\n",
       "                        직업              관계      인종       성별  자본 이득  자본 손실  \\\n",
       "아이디                                                                         \n",
       "H20001        Adm-clerical   Not-in-family   White     Male   2174      0   \n",
       "H20002     Exec-managerial         Husband   White     Male      0      0   \n",
       "H20003   Handlers-cleaners   Not-in-family   White     Male      0      0   \n",
       "H20004   Handlers-cleaners         Husband   Black     Male      0      0   \n",
       "H20005      Prof-specialty            Wife   Black   Female      0      0   \n",
       "\n",
       "        주당 시간              모국  \n",
       "아이디                            \n",
       "H20001     40   United-States  \n",
       "H20002     13   United-States  \n",
       "H20003     40   United-States  \n",
       "H20004     40   United-States  \n",
       "H20005     40            Cuba  "
      ]
     },
     "execution_count": 2,
     "metadata": {},
     "output_type": "execute_result"
    }
   ],
   "source": [
    "#데이터 불러오기\n",
    "train = pd.read_csv('human.csv', encoding='cp949').set_index('아이디')\n",
    "test = pd.read_csv('human_new.csv', encoding='cp949').set_index('아이디')\n",
    "train.head()"
   ]
  },
  {
   "cell_type": "code",
   "execution_count": 3,
   "metadata": {},
   "outputs": [],
   "source": [
    "#원본 복사\n",
    "mdf = train.copy()"
   ]
  },
  {
   "cell_type": "code",
   "execution_count": 4,
   "metadata": {
    "scrolled": false
   },
   "outputs": [
    {
     "data": {
      "text/plain": [
       "나이           0\n",
       "노동 계급     1836\n",
       "fnlwgt       0\n",
       "학력           0\n",
       "교육 수         0\n",
       "혼인 상태        0\n",
       "직업        1843\n",
       "관계           0\n",
       "인종           0\n",
       "성별           0\n",
       "자본 이득        0\n",
       "자본 손실        0\n",
       "주당 시간        0\n",
       "모국         583\n",
       "dtype: int64"
      ]
     },
     "execution_count": 4,
     "metadata": {},
     "output_type": "execute_result"
    }
   ],
   "source": [
    "mdf.isnull().sum()"
   ]
  },
  {
   "cell_type": "code",
   "execution_count": 5,
   "metadata": {
    "scrolled": false
   },
   "outputs": [
    {
     "data": {
      "image/png": "[encoded data removed]",
      "text/plain": [
       "<Figure size 1728x720 with 3 Axes>"
      ]
     },
     "metadata": {
      "needs_background": "light"
     },
     "output_type": "display_data"
    }
   ],
   "source": [
    "#pip install missingno 설치 -> 결측치 시각화\n",
    "import missingno as msno\n",
    "import matplotlib as mpl\n",
    "#msno.matrix(mdf)\n",
    "msno.bar(mdf)\n",
    "plt.show()"
   ]
  },
  {
   "cell_type": "code",
   "execution_count": 6,
   "metadata": {
    "scrolled": true
   },
   "outputs": [],
   "source": [
    "#결측값 최빈값 대체 처리 \n",
    "from sklearn.impute import SimpleImputer\n",
    "imputer_nul = SimpleImputer(strategy=\"most_frequent\")\n",
    "nul =['노동 계급','직업','모국']\n",
    "mdf[nul]=imputer_nul.fit_transform(mdf[nul])"
   ]
  },
  {
   "cell_type": "code",
   "execution_count": 7,
   "metadata": {
    "scrolled": true
   },
   "outputs": [
    {
     "data": {
      "text/plain": [
       "Married-civ-spouse       14976\n",
       "Never-married            10683\n",
       "Divorced                  4443\n",
       "Separated                 1025\n",
       "Widowed                    993\n",
       "Married-spouse-absent      418\n",
       "Married-AF-spouse           23\n",
       "Name: 혼인 상태, dtype: int64"
      ]
     },
     "execution_count": 7,
     "metadata": {},
     "output_type": "execute_result"
    }
   ],
   "source": [
    "# 결혼 변수 추가\n",
    "mdf['혼인 상태'] = mdf['혼인 상태'].str.lstrip()\n",
    "mdf['혼인 상태'].value_counts()   "
   ]
  },
  {
   "cell_type": "code",
   "execution_count": 8,
   "metadata": {},
   "outputs": [],
   "source": [
    "str1 = 'Never-married','Divorced'\n",
    "def marr(x):\n",
    "    결혼 = ''\n",
    "    if x in str1: 결혼 = '무'\n",
    "    else: 결혼 = '유'\n",
    "    return 결혼"
   ]
  },
  {
   "cell_type": "code",
   "execution_count": 9,
   "metadata": {},
   "outputs": [],
   "source": [
    "mdf['결혼'] = mdf['혼인 상태'].apply(lambda x : marr(x))"
   ]
  },
  {
   "cell_type": "code",
   "execution_count": 10,
   "metadata": {},
   "outputs": [],
   "source": [
    "# '자본 손실' & '자본 이익' 이 있고 없음으로 대체\n",
    "def com(c):\n",
    "    if c > 0 : 자본 = 1\n",
    "    else: 자본 = 0\n",
    "    return 자본"
   ]
  },
  {
   "cell_type": "code",
   "execution_count": 11,
   "metadata": {},
   "outputs": [],
   "source": [
    "mdf['자본 손실'] = mdf['자본 손실'].apply(lambda c : com(c))"
   ]
  },
  {
   "cell_type": "code",
   "execution_count": 12,
   "metadata": {},
   "outputs": [],
   "source": [
    "mdf['자본 이득'] = mdf['자본 이득'].apply(lambda c : com(c))"
   ]
  },
  {
   "cell_type": "code",
   "execution_count": 13,
   "metadata": {},
   "outputs": [],
   "source": [
    "#배우자 변수 \n",
    "spo1 = 'Married-AF-spouse'\n",
    "spo2 = 'Never-married', 'Divorced', 'Separated', 'Widowed'\n",
    "def spouse(s):\n",
    "    배우자=''\n",
    "    if s in spo1 : 배우자 = '군인'\n",
    "    elif s in spo2 :  배우자 = '무'\n",
    "    else: 배우자 = '일반'\n",
    "    return 배우자"
   ]
  },
  {
   "cell_type": "code",
   "execution_count": 14,
   "metadata": {},
   "outputs": [],
   "source": [
    "mdf['배우자'] =mdf['혼인 상태'].apply(lambda s: spouse(s))"
   ]
  },
  {
   "cell_type": "code",
   "execution_count": 15,
   "metadata": {},
   "outputs": [
    {
     "data": {
      "text/html": [
       "<div>\n",
       "<style scoped>\n",
       "    .dataframe tbody tr th:only-of-type {\n",
       "        vertical-align: middle;\n",
       "    }\n",
       "\n",
       "    .dataframe tbody tr th {\n",
       "        vertical-align: top;\n",
       "    }\n",
       "\n",
       "    .dataframe thead th {\n",
       "        text-align: right;\n",
       "    }\n",
       "</style>\n",
       "<table border=\"1\" class=\"dataframe\">\n",
       "  <thead>\n",
       "    <tr style=\"text-align: right;\">\n",
       "      <th></th>\n",
       "      <th>나이</th>\n",
       "      <th>노동 계급</th>\n",
       "      <th>fnlwgt</th>\n",
       "      <th>학력</th>\n",
       "      <th>교육 수</th>\n",
       "      <th>혼인 상태</th>\n",
       "      <th>직업</th>\n",
       "      <th>관계</th>\n",
       "      <th>인종</th>\n",
       "      <th>성별</th>\n",
       "      <th>자본 이득</th>\n",
       "      <th>자본 손실</th>\n",
       "      <th>주당 시간</th>\n",
       "      <th>모국</th>\n",
       "      <th>결혼</th>\n",
       "      <th>배우자</th>\n",
       "    </tr>\n",
       "    <tr>\n",
       "      <th>아이디</th>\n",
       "      <th></th>\n",
       "      <th></th>\n",
       "      <th></th>\n",
       "      <th></th>\n",
       "      <th></th>\n",
       "      <th></th>\n",
       "      <th></th>\n",
       "      <th></th>\n",
       "      <th></th>\n",
       "      <th></th>\n",
       "      <th></th>\n",
       "      <th></th>\n",
       "      <th></th>\n",
       "      <th></th>\n",
       "      <th></th>\n",
       "      <th></th>\n",
       "    </tr>\n",
       "  </thead>\n",
       "  <tbody>\n",
       "    <tr>\n",
       "      <th>H20001</th>\n",
       "      <td>39</td>\n",
       "      <td>State-gov</td>\n",
       "      <td>77516</td>\n",
       "      <td>Bachelors</td>\n",
       "      <td>13</td>\n",
       "      <td>Never-married</td>\n",
       "      <td>Adm-clerical</td>\n",
       "      <td>Not-in-family</td>\n",
       "      <td>White</td>\n",
       "      <td>Male</td>\n",
       "      <td>1</td>\n",
       "      <td>0</td>\n",
       "      <td>40</td>\n",
       "      <td>United-States</td>\n",
       "      <td>무</td>\n",
       "      <td>무</td>\n",
       "    </tr>\n",
       "    <tr>\n",
       "      <th>H20002</th>\n",
       "      <td>50</td>\n",
       "      <td>Self-emp-not-inc</td>\n",
       "      <td>83311</td>\n",
       "      <td>Bachelors</td>\n",
       "      <td>13</td>\n",
       "      <td>Married-civ-spouse</td>\n",
       "      <td>Exec-managerial</td>\n",
       "      <td>Husband</td>\n",
       "      <td>White</td>\n",
       "      <td>Male</td>\n",
       "      <td>0</td>\n",
       "      <td>0</td>\n",
       "      <td>13</td>\n",
       "      <td>United-States</td>\n",
       "      <td>유</td>\n",
       "      <td>일반</td>\n",
       "    </tr>\n",
       "    <tr>\n",
       "      <th>H20003</th>\n",
       "      <td>38</td>\n",
       "      <td>Private</td>\n",
       "      <td>215646</td>\n",
       "      <td>HS-grad</td>\n",
       "      <td>9</td>\n",
       "      <td>Divorced</td>\n",
       "      <td>Handlers-cleaners</td>\n",
       "      <td>Not-in-family</td>\n",
       "      <td>White</td>\n",
       "      <td>Male</td>\n",
       "      <td>0</td>\n",
       "      <td>0</td>\n",
       "      <td>40</td>\n",
       "      <td>United-States</td>\n",
       "      <td>무</td>\n",
       "      <td>무</td>\n",
       "    </tr>\n",
       "    <tr>\n",
       "      <th>H20004</th>\n",
       "      <td>53</td>\n",
       "      <td>Private</td>\n",
       "      <td>234721</td>\n",
       "      <td>11th</td>\n",
       "      <td>7</td>\n",
       "      <td>Married-civ-spouse</td>\n",
       "      <td>Handlers-cleaners</td>\n",
       "      <td>Husband</td>\n",
       "      <td>Black</td>\n",
       "      <td>Male</td>\n",
       "      <td>0</td>\n",
       "      <td>0</td>\n",
       "      <td>40</td>\n",
       "      <td>United-States</td>\n",
       "      <td>유</td>\n",
       "      <td>일반</td>\n",
       "    </tr>\n",
       "    <tr>\n",
       "      <th>H20005</th>\n",
       "      <td>28</td>\n",
       "      <td>Private</td>\n",
       "      <td>338409</td>\n",
       "      <td>Bachelors</td>\n",
       "      <td>13</td>\n",
       "      <td>Married-civ-spouse</td>\n",
       "      <td>Prof-specialty</td>\n",
       "      <td>Wife</td>\n",
       "      <td>Black</td>\n",
       "      <td>Female</td>\n",
       "      <td>0</td>\n",
       "      <td>0</td>\n",
       "      <td>40</td>\n",
       "      <td>Cuba</td>\n",
       "      <td>유</td>\n",
       "      <td>일반</td>\n",
       "    </tr>\n",
       "  </tbody>\n",
       "</table>\n",
       "</div>"
      ],
      "text/plain": [
       "        나이              노동 계급  fnlwgt          학력  교육 수               혼인 상태  \\\n",
       "아이디                                                                           \n",
       "H20001  39          State-gov   77516   Bachelors    13       Never-married   \n",
       "H20002  50   Self-emp-not-inc   83311   Bachelors    13  Married-civ-spouse   \n",
       "H20003  38            Private  215646     HS-grad     9            Divorced   \n",
       "H20004  53            Private  234721        11th     7  Married-civ-spouse   \n",
       "H20005  28            Private  338409   Bachelors    13  Married-civ-spouse   \n",
       "\n",
       "                        직업              관계      인종       성별  자본 이득  자본 손실  \\\n",
       "아이디                                                                         \n",
       "H20001        Adm-clerical   Not-in-family   White     Male      1      0   \n",
       "H20002     Exec-managerial         Husband   White     Male      0      0   \n",
       "H20003   Handlers-cleaners   Not-in-family   White     Male      0      0   \n",
       "H20004   Handlers-cleaners         Husband   Black     Male      0      0   \n",
       "H20005      Prof-specialty            Wife   Black   Female      0      0   \n",
       "\n",
       "        주당 시간              모국 결혼 배우자  \n",
       "아이디                                   \n",
       "H20001     40   United-States  무   무  \n",
       "H20002     13   United-States  유  일반  \n",
       "H20003     40   United-States  무   무  \n",
       "H20004     40   United-States  유  일반  \n",
       "H20005     40            Cuba  유  일반  "
      ]
     },
     "execution_count": 15,
     "metadata": {},
     "output_type": "execute_result"
    }
   ],
   "source": [
    "mdf.head()"
   ]
  },
  {
   "cell_type": "code",
   "execution_count": 16,
   "metadata": {
    "scrolled": true
   },
   "outputs": [
    {
     "data": {
      "text/plain": [
       "array([' Adm-clerical', ' Exec-managerial', ' Handlers-cleaners',\n",
       "       ' Prof-specialty', ' Other-service', ' Sales', ' Craft-repair',\n",
       "       ' Transport-moving', ' Farming-fishing', ' Machine-op-inspct',\n",
       "       ' Tech-support', ' Protective-serv', ' Armed-Forces',\n",
       "       ' Priv-house-serv'], dtype=object)"
      ]
     },
     "execution_count": 16,
     "metadata": {},
     "output_type": "execute_result"
    }
   ],
   "source": [
    "mdf['직업'].unique()"
   ]
  },
  {
   "cell_type": "code",
   "execution_count": 25,
   "metadata": {},
   "outputs": [
    {
     "data": {
      "text/plain": [
       "직업                 혼인 상태                \n",
       " Adm-clerical      Divorced                  819\n",
       "                   Married-AF-spouse           5\n",
       "                   Married-civ-spouse        986\n",
       "                   Married-spouse-absent      59\n",
       "                   Never-married            1591\n",
       "                                            ... \n",
       " Transport-moving  Married-civ-spouse        994\n",
       "                   Married-spouse-absent      19\n",
       "                   Never-married             340\n",
       "                   Separated                  37\n",
       "                   Widowed                    25\n",
       "Name: 배우자, Length: 89, dtype: int64"
      ]
     },
     "execution_count": 25,
     "metadata": {},
     "output_type": "execute_result"
    }
   ],
   "source": [
    "mdf.groupby(['직업','혼인 상태'])['배우자'].count()"
   ]
  },
  {
   "cell_type": "code",
   "execution_count": 19,
   "metadata": {},
   "outputs": [
    {
     "data": {
      "text/plain": [
       " United-States                 29753\n",
       " Mexico                          643\n",
       " Philippines                     198\n",
       " Germany                         137\n",
       " Canada                          121\n",
       " Puerto-Rico                     114\n",
       " El-Salvador                     106\n",
       " India                           100\n",
       " Cuba                             95\n",
       " England                          90\n",
       " Jamaica                          81\n",
       " South                            80\n",
       " China                            75\n",
       " Italy                            73\n",
       " Dominican-Republic               70\n",
       " Vietnam                          67\n",
       " Guatemala                        64\n",
       " Japan                            62\n",
       " Poland                           60\n",
       " Columbia                         59\n",
       " Taiwan                           51\n",
       " Haiti                            44\n",
       " Iran                             43\n",
       " Portugal                         37\n",
       " Nicaragua                        34\n",
       " Peru                             31\n",
       " Greece                           29\n",
       " France                           29\n",
       " Ecuador                          28\n",
       " Ireland                          24\n",
       " Hong                             20\n",
       " Trinadad&Tobago                  19\n",
       " Cambodia                         19\n",
       " Laos                             18\n",
       " Thailand                         18\n",
       " Yugoslavia                       16\n",
       " Outlying-US(Guam-USVI-etc)       14\n",
       " Hungary                          13\n",
       " Honduras                         13\n",
       " Scotland                         12\n",
       " Holand-Netherlands                1\n",
       "Name: 모국, dtype: int64"
      ]
     },
     "execution_count": 19,
     "metadata": {},
     "output_type": "execute_result"
    }
   ],
   "source": [
    "mdf['모국'].value_counts()"
   ]
  },
  {
   "cell_type": "code",
   "execution_count": null,
   "metadata": {},
   "outputs": [],
   "source": [
    "# 컬럼 drop\n",
    "#mdf = mdf.drop(['fnlwgt', '학력','자본 손실','자본 이득'], axis=1)\n",
    "#mdf.head()"
   ]
  },
  {
   "cell_type": "code",
   "execution_count": null,
   "metadata": {
    "scrolled": true
   },
   "outputs": [],
   "source": [
    "mdf.head()"
   ]
  },
  {
   "cell_type": "code",
   "execution_count": null,
   "metadata": {},
   "outputs": [],
   "source": [
    "#data = pd.concat([mdf['fnlwgt'], mdf['나이']], axis=1)\n",
    "mdf.plot.scatter(x='fnlwgt', y='성별')"
   ]
  },
  {
   "cell_type": "code",
   "execution_count": null,
   "metadata": {
    "scrolled": true
   },
   "outputs": [],
   "source": [
    "df_jobs = pd.get_dummies(mdf['직업'])"
   ]
  },
  {
   "cell_type": "code",
   "execution_count": null,
   "metadata": {
    "scrolled": false
   },
   "outputs": [],
   "source": [
    "mdf = pd.concat([mdf,df_jobs], axis=1)"
   ]
  },
  {
   "cell_type": "code",
   "execution_count": null,
   "metadata": {},
   "outputs": [],
   "source": [
    "mdf = mdf.drop(['직업'], axis=1)"
   ]
  },
  {
   "cell_type": "code",
   "execution_count": null,
   "metadata": {},
   "outputs": [],
   "source": [
    "mdf.head()"
   ]
  },
  {
   "cell_type": "code",
   "execution_count": null,
   "metadata": {},
   "outputs": [],
   "source": [
    "#object, num 구분\n",
    "obj = mdf.dtypes[mdf.dtypes == 'object'].index\n",
    "num = mdf.dtypes[mdf.dtypes != 'object'].index\n",
    "display(obj)\n",
    "display(num)"
   ]
  },
  {
   "cell_type": "code",
   "execution_count": null,
   "metadata": {},
   "outputs": [],
   "source": [
    "mdf[obj] = mdf[obj].apply(lambda x: x.astype('category').cat.codes)"
   ]
  },
  {
   "cell_type": "code",
   "execution_count": null,
   "metadata": {
    "scrolled": true
   },
   "outputs": [],
   "source": [
    "## 성별과 각 컬럼 간의 연관성 확인?\n",
    "corr=mdf.corr()\n",
    "mask = np.array(corr)\n",
    "mask[np.tril_indices_from(mask)] = False\n",
    "fig, ax = plt.subplots(figsize=(20,10))\n",
    "sns.heatmap(corr, mask=mask, vmax=1.,annot=True)\n",
    "\n",
    "## 참고 사이트\n",
    "# https://www.kaggle.com/fkstepz/step-by-step-predict-bike-sharing-demand"
   ]
  },
  {
   "cell_type": "code",
   "execution_count": null,
   "metadata": {},
   "outputs": [],
   "source": [
    "mdf.describe()"
   ]
  },
  {
   "cell_type": "code",
   "execution_count": null,
   "metadata": {
    "scrolled": true
   },
   "outputs": [],
   "source": [
    "## 연관성 & 이상치 확인 가능\n",
    "f, axes = plt.subplots(ncols=2, figsize=(15,8))\n",
    "sns.boxplot(x=\"성별\", y= \"나이\", data=mdf, ax=axes[0])\n",
    "sns.boxplot(x=\"성별\", y= \"모국\", data=mdf, ax=axes[1])\n",
    "#plt.show()"
   ]
  },
  {
   "cell_type": "code",
   "execution_count": null,
   "metadata": {},
   "outputs": [],
   "source": [
    "###이상치 제거"
   ]
  },
  {
   "cell_type": "code",
   "execution_count": null,
   "metadata": {
    "scrolled": false
   },
   "outputs": [],
   "source": [
    "'''\n",
    "Q1=mdf['나이'].quantile(.25)\n",
    "Q3 =mdf['나이'].quantile(.75)\n",
    "IQR = Q3-Q1\n",
    "\n",
    "print(\"Q1 =\",Q1)\n",
    "print(\"Q3 =\",Q3)\n",
    "print(\"IQR =\",IQR)\n",
    "print(\"max =\",Q3+1.5*IQR)\n",
    "print(\"min =\",Q1-(1.5*IQR))\n",
    "'''"
   ]
  },
  {
   "cell_type": "code",
   "execution_count": null,
   "metadata": {
    "scrolled": true
   },
   "outputs": [],
   "source": [
    "#outliers = mdf['나이'], mdf['주당 시간']\n",
    "q1 = mdf['나이'].quantile(0.25)\n",
    "q3 = mdf['나이'].quantile(0.75)\n",
    "IQR = q3 - q1\n",
    "old = mdf[(mdf['나이'] < (q1 - 1.5 * IQR)) | (mdf['나이'] > (q3 + 1.5 * IQR))]\n",
    "old"
   ]
  },
  {
   "cell_type": "code",
   "execution_count": null,
   "metadata": {
    "scrolled": false
   },
   "outputs": [],
   "source": [
    "# IQR 기준 이상치 행 지우기\n",
    "mdf = mdf.drop(old.index, axis=0)\n",
    "mdf.shape"
   ]
  },
  {
   "cell_type": "code",
   "execution_count": null,
   "metadata": {
    "scrolled": false
   },
   "outputs": [],
   "source": [
    "# 컬럼 drop\n",
    "#mdf = mdf.drop(['모국', '노동 계급', '자본 손실','자본 이득'], axis=1)\n",
    "#mdf.head()"
   ]
  },
  {
   "cell_type": "code",
   "execution_count": null,
   "metadata": {
    "scrolled": true
   },
   "outputs": [],
   "source": [
    "mdf.hist(bins=30, figsize=(20,15))"
   ]
  },
  {
   "cell_type": "code",
   "execution_count": null,
   "metadata": {
    "scrolled": true
   },
   "outputs": [],
   "source": [
    "'''\n",
    "f, ax = plt.subplots(1,2,figsize=(10,5))\n",
    "\n",
    "# 남녀 빈도 체크\n",
    "gender_freq = mdf.성별.value_counts().sort_values()\n",
    "gender_freq.plot.pie(explode=[0,0.05], autopct='%1.1f%%', ax=ax[0], shadow=True)\n",
    "ax[0].set_title('남녀 비율')#, fontproperties=font_prop)\n",
    "ax[0].set_ylabel('')\n",
    "\n",
    "# \n",
    "sns.countplot('성별', data=mdf, ax=ax[1])\n",
    "ax[1].set_title('결혼') #, fontproperties=font_prop)\n",
    "plt.show()\n",
    "#0 f, 1 m\n",
    "'''"
   ]
  },
  {
   "cell_type": "markdown",
   "metadata": {},
   "source": [
    "RobustScaler:\n",
    "모든 특성들이 같은 크기를 갖는다는 점에서 StandardScaler와 비슷하지만, 평균과 분산 대신 median과 quartile을 사용합니다.\n",
    "RobustScaler는 이상치에 영향을 받지 않습니다"
   ]
  },
  {
   "cell_type": "code",
   "execution_count": null,
   "metadata": {
    "scrolled": true
   },
   "outputs": [],
   "source": [
    "mdf.shape"
   ]
  },
  {
   "cell_type": "code",
   "execution_count": null,
   "metadata": {
    "scrolled": true
   },
   "outputs": [],
   "source": [
    "mdf.head()"
   ]
  },
  {
   "cell_type": "code",
   "execution_count": null,
   "metadata": {},
   "outputs": [],
   "source": [
    "from sklearn.model_selection import train_test_split  \n",
    "X = mdf.drop(['성별'], axis=1) \n",
    "Y = mdf['성별']                    \n",
    "X_train, X_test, y_train, y_test = train_test_split(X, Y, test_size=0.25, random_state=0)"
   ]
  },
  {
   "cell_type": "markdown",
   "metadata": {},
   "source": [
    "### pipeline"
   ]
  },
  {
   "cell_type": "code",
   "execution_count": null,
   "metadata": {},
   "outputs": [],
   "source": [
    "pipe_tree = Pipeline([('scaler', MinMaxScaler()), ('tree',DecisionTreeClassifier())])"
   ]
  },
  {
   "cell_type": "code",
   "execution_count": null,
   "metadata": {
    "scrolled": true
   },
   "outputs": [],
   "source": [
    "pipe_tree.fit(X_train, y_train).score(X_test, y_test)"
   ]
  },
  {
   "cell_type": "code",
   "execution_count": null,
   "metadata": {},
   "outputs": [],
   "source": [
    "pipe_svm = Pipeline([('scaler', MinMaxScaler()), ('svm',SVC())])"
   ]
  },
  {
   "cell_type": "code",
   "execution_count": null,
   "metadata": {
    "scrolled": false
   },
   "outputs": [],
   "source": [
    "pipe_svm.fit(X_train, y_train).score(X_test, y_test)"
   ]
  },
  {
   "cell_type": "code",
   "execution_count": null,
   "metadata": {},
   "outputs": [],
   "source": [
    "pipe_xgb = Pipeline([('scaler', MinMaxScaler()), ('xgb',XGBClassifier())])"
   ]
  },
  {
   "cell_type": "code",
   "execution_count": null,
   "metadata": {
    "scrolled": true
   },
   "outputs": [],
   "source": [
    "#pipe_xgb.fit(X_train, y_train).score(X_test, y_test)"
   ]
  },
  {
   "cell_type": "code",
   "execution_count": null,
   "metadata": {},
   "outputs": [],
   "source": []
  },
  {
   "cell_type": "code",
   "execution_count": null,
   "metadata": {},
   "outputs": [],
   "source": []
  },
  {
   "cell_type": "markdown",
   "metadata": {},
   "source": [
    "###########################################################################################"
   ]
  },
  {
   "cell_type": "code",
   "execution_count": null,
   "metadata": {},
   "outputs": [],
   "source": [
    "#XGB model\n",
    "\n",
    "dtrain = xgb.DMatrix(data=X_train, label=y_train)\n",
    "dtest = xgb.DMatrix(data=X_test, label=y_test)\n",
    "\n",
    "params = {'max_depth':4,\n",
    "          'eta':0.1,\n",
    "          'objective':'binary:logistic',\n",
    "          'eval_metric':'logloss',\n",
    "          'early_stoppings':100\n",
    "         }\n",
    "num_rounds = 400"
   ]
  },
  {
   "cell_type": "code",
   "execution_count": null,
   "metadata": {},
   "outputs": [],
   "source": [
    "# train 데이터 세트는 'train', evaluation(test) 데이터 세트는 'eval'로 명기\n",
    "wlist = [(dtrain, 'train'),(dtest, 'eval')]\n",
    "# 하이퍼 파라미터와 early stoppinig 파라미터를 train() 함수의 파라미터로 전달\n",
    "xgb_model = xgb.train(params=params, dtrain=dtrain, num_boost_round=num_rounds, evals=wlist)"
   ]
  },
  {
   "cell_type": "code",
   "execution_count": null,
   "metadata": {},
   "outputs": [],
   "source": [
    "pred_probs = xgb_model.predict(dtest)\n",
    "print('predict() 수행 결과값을 10개만 표시, 예측 확률값으로 표시됨')\n",
    "print(np.round(pred_probs[:10], 3))\n",
    "\n",
    "preds = [1 if x > 0.5 else 0 for x in pred_probs]\n"
   ]
  },
  {
   "cell_type": "code",
   "execution_count": null,
   "metadata": {},
   "outputs": [],
   "source": [
    "from sklearn.metrics import accuracy_score, recall_score, precision_score, confusion_matrix\n",
    "def get_clf_eval(y_test, pred):\n",
    "    confusion = confusion_matrix(y_test, pred)\n",
    "    accuracy = accuracy_score(y_test, pred)\n",
    "    precision = precision_score(y_test, pred)\n",
    "    recall = recall_score(y_test, pred)\n",
    "    print('오차행렬')\n",
    "    print(confusion)\n",
    "    print('정확도: {0:.4f}, 정밀도: {1:.4f}, 재현율: {2:.4f}'.format(accuracy, precision, recall))"
   ]
  },
  {
   "cell_type": "code",
   "execution_count": null,
   "metadata": {
    "scrolled": true
   },
   "outputs": [],
   "source": [
    "get_clf_eval(y_test, preds)"
   ]
  },
  {
   "cell_type": "markdown",
   "metadata": {},
   "source": [
    "############################# 데이터 불균형 "
   ]
  },
  {
   "cell_type": "code",
   "execution_count": null,
   "metadata": {},
   "outputs": [],
   "source": [
    "#성별 불균형 확인\n",
    "mdf['성별'].value_counts()"
   ]
  },
  {
   "cell_type": "code",
   "execution_count": null,
   "metadata": {
    "scrolled": true
   },
   "outputs": [],
   "source": [
    "X_sm, Y_sm = SMOTETomek().fit_sample(X_train, y_train)\n",
    "sample_tree = DecisionTreeClassifier(max_depth=14, random_state=0)\n",
    "sample_tree.fit(X_sm, Y_sm)\n",
    "y_pred_sp = sample_tree.predict(X_test)\n",
    "print(classification_report(y_test, y_pred_sp))\n"
   ]
  },
  {
   "cell_type": "code",
   "execution_count": null,
   "metadata": {},
   "outputs": [],
   "source": [
    "'''\n",
    "X_sm, Y_sm = SMOTETomek().fit_sample(X_train, y_train)\n",
    "sample_random = RandomForestClassifier(max_depth=12, random_state=0)\n",
    "sample_random.fit(X_sm, Y_sm)\n",
    "Y_pred_spran = sample_random.predict(X_test)\n",
    "print(classification_report(y_test, Y_pred_spran))\n",
    "'''"
   ]
  },
  {
   "cell_type": "code",
   "execution_count": null,
   "metadata": {
    "scrolled": false
   },
   "outputs": [],
   "source": [
    "X_to, Y_to = TomekLinks().fit_sample(X_train, y_train)\n",
    "under_random =RandomForestClassifier(max_depth=6, random_state=0)\n",
    "under_random.fit(X_to, Y_to)\n",
    "Y_pred_random = under_random.predict(X_test)\n",
    "print(classification_report(y_test, Y_pred_random))"
   ]
  },
  {
   "cell_type": "code",
   "execution_count": null,
   "metadata": {
    "scrolled": false
   },
   "outputs": [],
   "source": [
    "'''\n",
    "X_to, Y_to = TomekLinks().fit_sample(X_train, y_train) #under-Sampling\n",
    "under_tree = DecisionTreeClassifier(max_depth=8, random_state=0)\n",
    "under_tree.fit(X_to, Y_to)\n",
    "Y_pred_un = under_tree.predict(X_test)\n",
    "print(classification_report(y_test, Y_pred_un))\n",
    "'''"
   ]
  },
  {
   "cell_type": "code",
   "execution_count": null,
   "metadata": {
    "scrolled": false
   },
   "outputs": [],
   "source": [
    "y_train.value_counts()"
   ]
  },
  {
   "cell_type": "code",
   "execution_count": null,
   "metadata": {},
   "outputs": [],
   "source": [
    "Y_to.value_counts()"
   ]
  },
  {
   "cell_type": "code",
   "execution_count": null,
   "metadata": {},
   "outputs": [],
   "source": [
    "#데이터 나누기 - \n",
    "X_train, X_test, y_train, y_test = train_test_split(X_to, Y_to, test_size=0.25, random_state=0)\n",
    "print(X.shape, X_to.shape, X_train.shape, X_test.shape)"
   ]
  },
  {
   "cell_type": "code",
   "execution_count": null,
   "metadata": {},
   "outputs": [],
   "source": [
    "dec_tree = DecisionTreeClassifier(max_depth=8, random_state=0)\n",
    "\n",
    "dec_tree.fit(X_train, y_train)\n",
    "print(\"훈련 세트 정확도: {:.3f}\".format(dec_tree.score(X_train, y_train)))\n",
    "print(\"테스트 세트 정확도: {:.3f}\".format(dec_tree.score(X_test, y_test)))"
   ]
  },
  {
   "cell_type": "code",
   "execution_count": null,
   "metadata": {},
   "outputs": [],
   "source": [
    "'''\n",
    "svm = SVC(C=100)\n",
    "svm.fit(X_train, y_train).score(X_test, y_test)\n",
    "print(\"훈련 세트 정확도: {:.3f}\".format(svm.score(X_train, y_train)))\n",
    "print(\"테스트 세트 정확도: {:.3f}\".format(svm.score(X_test, y_test)))\n",
    "'''"
   ]
  },
  {
   "cell_type": "markdown",
   "metadata": {},
   "source": [
    "##########################################new xgb"
   ]
  },
  {
   "cell_type": "code",
   "execution_count": null,
   "metadata": {},
   "outputs": [],
   "source": [
    "import xgboost\n",
    "dtrain = xgb.DMatrix(data=X_train, label=y_train)\n",
    "dtest = xgb.DMatrix(data=X_test, label=y_test)"
   ]
  },
  {
   "cell_type": "code",
   "execution_count": null,
   "metadata": {},
   "outputs": [],
   "source": [
    "params = {'max_depth':2,\n",
    "          'eta':0.1,\n",
    "          'objective':'binary:logistic',\n",
    "          'eval_metric':'logloss',\n",
    "          'early_stoppings':100\n",
    "         }\n",
    "num_rounds = 200"
   ]
  },
  {
   "cell_type": "code",
   "execution_count": null,
   "metadata": {},
   "outputs": [],
   "source": [
    "# train 데이터 세트는 'train', evaluation(test) 데이터 세트는 'eval'로 명기\n",
    "wlist = [(dtrain, 'train'),(dtest, 'eval')]\n",
    "# 하이퍼 파라미터와 early stoppinig 파라미터를 train() 함수의 파라미터로 전달\n",
    "xgb_model = xgb.train(params=params, dtrain=dtrain, num_boost_round=num_rounds, evals=wlist)"
   ]
  },
  {
   "cell_type": "code",
   "execution_count": null,
   "metadata": {},
   "outputs": [],
   "source": [
    "pred_probs = xgb_model.predict(dtest)\n",
    "print('predict() 수행 결과값을 10개만 표시, 예측 확률값으로 표시됨')\n",
    "print(np.round(pred_probs[:10], 3))\n",
    "\n",
    "preds = [1 if x > 0.5 else 0 for x in pred_probs]"
   ]
  },
  {
   "cell_type": "code",
   "execution_count": null,
   "metadata": {},
   "outputs": [],
   "source": [
    "from sklearn.metrics import accuracy_score, recall_score, precision_score, confusion_matrix\n",
    "def get_clf_eval(y_test, pred):\n",
    "    confusion = confusion_matrix(y_test, pred)\n",
    "    accuracy = accuracy_score(y_test, pred)\n",
    "    precision = precision_score(y_test, pred)\n",
    "    recall = recall_score(y_test, pred)\n",
    "    print('오차행렬')\n",
    "    print(confusion)\n",
    "    print('정확도: {0:.4f}, 정밀도: {1:.4f}, 재현율: {2:.4f}'.format(accuracy, precision, recall))"
   ]
  },
  {
   "cell_type": "code",
   "execution_count": null,
   "metadata": {
    "scrolled": false
   },
   "outputs": [],
   "source": [
    "get_clf_eval(y_test, preds)"
   ]
  },
  {
   "cell_type": "code",
   "execution_count": null,
   "metadata": {},
   "outputs": [],
   "source": [
    "mdf.head()"
   ]
  },
  {
   "cell_type": "code",
   "execution_count": null,
   "metadata": {},
   "outputs": [],
   "source": []
  },
  {
   "cell_type": "markdown",
   "metadata": {},
   "source": [
    "#################################################### 검증 파일"
   ]
  },
  {
   "cell_type": "code",
   "execution_count": null,
   "metadata": {},
   "outputs": [],
   "source": [
    "test.head()"
   ]
  },
  {
   "cell_type": "code",
   "execution_count": null,
   "metadata": {
    "scrolled": false
   },
   "outputs": [],
   "source": [
    "ndf = test.copy()\n",
    "ndf.head()"
   ]
  },
  {
   "cell_type": "code",
   "execution_count": null,
   "metadata": {
    "scrolled": false
   },
   "outputs": [],
   "source": [
    "ndf.isnull().sum()"
   ]
  },
  {
   "cell_type": "code",
   "execution_count": null,
   "metadata": {},
   "outputs": [],
   "source": [
    "from sklearn.impute import SimpleImputer\n",
    "imputer_con = SimpleImputer(strategy=\"most_frequent\")  \n",
    "con = ['노동 계급', '학력', '혼인 상태', '직업', '관계', '인종', '모국']\n",
    "imputer_con.fit(ndf[con])"
   ]
  },
  {
   "cell_type": "code",
   "execution_count": null,
   "metadata": {
    "scrolled": true
   },
   "outputs": [],
   "source": [
    "x = imputer_con.transform(ndf[con])\n",
    "ndf[con] =x"
   ]
  },
  {
   "cell_type": "code",
   "execution_count": null,
   "metadata": {
    "scrolled": true
   },
   "outputs": [],
   "source": [
    "# 결혼 변수 추가\n",
    "ndf['혼인 상태'] = ndf['혼인 상태'].str.lstrip()\n",
    "ndf['혼인 상태'].value_counts()   "
   ]
  },
  {
   "cell_type": "code",
   "execution_count": null,
   "metadata": {},
   "outputs": [],
   "source": [
    "str1 = 'Never-married','Divorced'\n",
    "def marr(x):\n",
    "    결혼 = ''\n",
    "    if x in str1: 결혼 = '무'\n",
    "    else: 결혼 = '유'\n",
    "    return 결혼"
   ]
  },
  {
   "cell_type": "code",
   "execution_count": null,
   "metadata": {},
   "outputs": [],
   "source": [
    "ndf['결혼'] = ndf['혼인 상태'].apply(lambda x : marr(x))"
   ]
  },
  {
   "cell_type": "code",
   "execution_count": null,
   "metadata": {},
   "outputs": [],
   "source": [
    "#ndf['자본합'] = ndf['자본 손실']+ndf['자본 이득']"
   ]
  },
  {
   "cell_type": "code",
   "execution_count": null,
   "metadata": {},
   "outputs": [],
   "source": [
    "spo1 = 'Married-AF-spouse'\n",
    "spo2 = 'Never-married', 'Divorced', 'Separated', 'Widowed'\n",
    "def spouse(s):\n",
    "    배우자=''\n",
    "    if s in spo1 : 배우자 = '군인'\n",
    "    elif s in spo2 :  배우자 = '무'\n",
    "    else: 배우자 = '일반'\n",
    "    return 배우자"
   ]
  },
  {
   "cell_type": "code",
   "execution_count": null,
   "metadata": {},
   "outputs": [],
   "source": [
    "ndf['배우자'] =ndf['혼인 상태'].apply(lambda s: spouse(s))"
   ]
  },
  {
   "cell_type": "code",
   "execution_count": null,
   "metadata": {},
   "outputs": [],
   "source": [
    "# 컬럼 drop\n",
    "ndf = ndf.drop(['fnlwgt', '학력','자본 손실','자본 이득'], axis=1)\n",
    "ndf.head()"
   ]
  },
  {
   "cell_type": "code",
   "execution_count": null,
   "metadata": {
    "scrolled": true
   },
   "outputs": [],
   "source": [
    "ndf_jobs = pd.get_dummies(ndf['직업'])"
   ]
  },
  {
   "cell_type": "code",
   "execution_count": null,
   "metadata": {
    "scrolled": false
   },
   "outputs": [],
   "source": [
    "ndf = pd.concat([ndf,ndf_jobs], axis=1)"
   ]
  },
  {
   "cell_type": "code",
   "execution_count": null,
   "metadata": {},
   "outputs": [],
   "source": [
    "ndf = ndf.drop(['직업'], axis=1)"
   ]
  },
  {
   "cell_type": "code",
   "execution_count": null,
   "metadata": {},
   "outputs": [],
   "source": [
    "obj1 = ndf.dtypes[ndf.dtypes == 'object'].index\n",
    "num1 = ndf.dtypes[ndf.dtypes != 'object'].index\n",
    "display(obj1)\n",
    "display(num1)"
   ]
  },
  {
   "cell_type": "code",
   "execution_count": null,
   "metadata": {},
   "outputs": [],
   "source": [
    "ndf[obj1] = ndf[obj1].apply(lambda x: x.astype('category').cat.codes)"
   ]
  },
  {
   "cell_type": "code",
   "execution_count": null,
   "metadata": {
    "scrolled": true
   },
   "outputs": [],
   "source": [
    "X_train.shape"
   ]
  },
  {
   "cell_type": "code",
   "execution_count": null,
   "metadata": {
    "scrolled": true
   },
   "outputs": [],
   "source": [
    "ndf.shape"
   ]
  },
  {
   "cell_type": "code",
   "execution_count": null,
   "metadata": {},
   "outputs": [],
   "source": [
    "ndf.reset_index(drop=False, inplace=True)"
   ]
  },
  {
   "cell_type": "code",
   "execution_count": null,
   "metadata": {
    "scrolled": false
   },
   "outputs": [],
   "source": [
    "ndf.head()"
   ]
  },
  {
   "cell_type": "code",
   "execution_count": null,
   "metadata": {},
   "outputs": [],
   "source": [
    "#mdf.reset_index(drop=False, inplace=True)"
   ]
  },
  {
   "cell_type": "code",
   "execution_count": null,
   "metadata": {},
   "outputs": [],
   "source": [
    "dtest_ndf = xgb.DMatrix(data=ndf.loc[:,'나이':])"
   ]
  },
  {
   "cell_type": "code",
   "execution_count": null,
   "metadata": {},
   "outputs": [],
   "source": [
    "ndf['성별'] = xgb_model.predict(dtest_ndf)"
   ]
  },
  {
   "cell_type": "code",
   "execution_count": null,
   "metadata": {
    "scrolled": true
   },
   "outputs": [],
   "source": [
    "ndf.head()"
   ]
  },
  {
   "cell_type": "code",
   "execution_count": null,
   "metadata": {},
   "outputs": [],
   "source": [
    "str = ['아이디','성별']\n",
    "ndf[str].head()"
   ]
  },
  {
   "cell_type": "code",
   "execution_count": null,
   "metadata": {},
   "outputs": [],
   "source": [
    "#ndf[str].to_csv('sampleSubmission_human.csv', encoding='cp949', index=False)"
   ]
  },
  {
   "cell_type": "code",
   "execution_count": null,
   "metadata": {},
   "outputs": [],
   "source": [
    "#movie_rename = movie.rename(index={0:'아바타'}, columns={'color':'색깔','director_name':'감독이름'})\n",
    "ndf_rename = ndf.rename(columns={'아이디':'ID', '성별':'SEX'})\n",
    "ndf_rename.head()"
   ]
  },
  {
   "cell_type": "code",
   "execution_count": null,
   "metadata": {
    "scrolled": false
   },
   "outputs": [],
   "source": [
    "str = ['ID','SEX']\n",
    "ndf_rename[str].head()"
   ]
  },
  {
   "cell_type": "code",
   "execution_count": null,
   "metadata": {},
   "outputs": [],
   "source": [
    "ndf_rename[str].to_csv('mission_0201_2.csv', encoding='cp949', index=False) "
   ]
  },
  {
   "cell_type": "code",
   "execution_count": null,
   "metadata": {
    "scrolled": true
   },
   "outputs": [],
   "source": [
    "ndf_rename.shape # 16281 갯수 똑같이 맞춰야 함"
   ]
  },
  {
   "cell_type": "code",
   "execution_count": null,
   "metadata": {},
   "outputs": [],
   "source": []
  },
  {
   "cell_type": "code",
   "execution_count": null,
   "metadata": {},
   "outputs": [],
   "source": []
  },
  {
   "cell_type": "code",
   "execution_count": null,
   "metadata": {},
   "outputs": [],
   "source": []
  },
  {
   "cell_type": "code",
   "execution_count": null,
   "metadata": {},
   "outputs": [],
   "source": []
  },
  {
   "cell_type": "code",
   "execution_count": null,
   "metadata": {},
   "outputs": [],
   "source": []
  },
  {
   "cell_type": "code",
   "execution_count": null,
   "metadata": {},
   "outputs": [],
   "source": [
    "#데이터 전처리 순서 참고 http://www.dodomira.com/2016/10/20/how_to_eda/ \n",
    "\n",
    "# 기본 설명 사이트 참고 https://continuous-development.tistory.com/166?category=736685"
   ]
  }
 ],
 "metadata": {
  "kernelspec": {
   "display_name": "Python 3",
   "language": "python",
   "name": "python3"
  },
  "language_info": {
   "codemirror_mode": {
    "name": "ipython",
    "version": 3
   },
   "file_extension": ".py",
   "mimetype": "text/x-python",
   "name": "python",
   "nbconvert_exporter": "python",
   "pygments_lexer": "ipython3",
   "version": "3.8.5"
  }
 },
 "nbformat": 4,
 "nbformat_minor": 4
}
