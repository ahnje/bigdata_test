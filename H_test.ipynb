{
 "cells": [
  {
   "cell_type": "code",
   "execution_count": 1,
   "metadata": {},
   "outputs": [],
   "source": [
    "import numpy as np\n",
    "import pandas as pd\n",
    "#\n",
    "from sklearn.impute import SimpleImputer\n",
    "from collections import Counter\n",
    "\n",
    "#시각화\n",
    "import seaborn as sns\n",
    "import matplotlib.pyplot as plt\n",
    "%matplotlib inline\n",
    "\n",
    "from sklearn.model_selection import train_test_split\n",
    "from sklearn.metrics import classification_report\n",
    "import xgboost as xgb\n",
    "from xgboost import plot_importance\n",
    "#scaling\n",
    "from sklearn.preprocessing import StandardScaler\n",
    "from sklearn.preprocessing import MinMaxScaler\n",
    "from sklearn.preprocessing import RobustScaler\n",
    "\n",
    "\n",
    "#\n",
    "# pip install imblearn #imblearn 설치\n",
    "from imblearn.combine import *\n",
    "from imblearn.combine import SMOTETomek\n",
    "\n",
    "#warning messages\n",
    "import warnings\n",
    "warnings.filterwarnings('ignore')"
   ]
  },
  {
   "cell_type": "code",
   "execution_count": 2,
   "metadata": {},
   "outputs": [],
   "source": [
    "train = pd.read_csv('train.csv', encoding = 'cp949').set_index('custid')\n",
    "test = pd.read_csv('test.csv', encoding = 'cp949').set_index('custid')"
   ]
  },
  {
   "cell_type": "code",
   "execution_count": 3,
   "metadata": {},
   "outputs": [
    {
     "name": "stdout",
     "output_type": "stream",
     "text": [
      "(5000, 17)\n",
      "(5000, 16)\n"
     ]
    }
   ],
   "source": [
    "print(train.shape) # train = 5000 sample, 17 feature / custid' 제외\n",
    "print(test.shape) # test = 5000 sample, 16 feature / 'custid' 제외"
   ]
  },
  {
   "cell_type": "code",
   "execution_count": 4,
   "metadata": {},
   "outputs": [],
   "source": [
    "df = train.copy()"
   ]
  },
  {
   "cell_type": "code",
   "execution_count": 5,
   "metadata": {},
   "outputs": [
    {
     "name": "stdout",
     "output_type": "stream",
     "text": [
      "<class 'pandas.core.frame.DataFrame'>\n",
      "Int64Index: 5000 entries, 18 to 49993\n",
      "Data columns (total 17 columns):\n",
      " #   Column     Non-Null Count  Dtype  \n",
      "---  ------     --------------  -----  \n",
      " 0   gender     5000 non-null   int64  \n",
      " 1   총구매액       5000 non-null   int64  \n",
      " 2   구매건수       5000 non-null   int64  \n",
      " 3   평균구매가격     5000 non-null   int64  \n",
      " 4   평균할부개월수    5000 non-null   float64\n",
      " 5   구매브랜드종류    5000 non-null   int64  \n",
      " 6   내점일수       5000 non-null   int64  \n",
      " 7   수입상품_구매비율  5000 non-null   float64\n",
      " 8   주말방문비율     5000 non-null   float64\n",
      " 9   가을_구매건수    4055 non-null   float64\n",
      " 10  겨울_구매건수    4103 non-null   float64\n",
      " 11  봄_구매건수     4311 non-null   float64\n",
      " 12  여름_구매건수    3978 non-null   float64\n",
      " 13  아침_구매건수    3558 non-null   float64\n",
      " 14  저녁_구매건수    4033 non-null   float64\n",
      " 15  점심_구매건수    4855 non-null   float64\n",
      " 16  주구매코너      5000 non-null   object \n",
      "dtypes: float64(10), int64(6), object(1)\n",
      "memory usage: 703.1+ KB\n"
     ]
    }
   ],
   "source": [
    "df.info()"
   ]
  },
  {
   "cell_type": "code",
   "execution_count": null,
   "metadata": {},
   "outputs": [],
   "source": [
    "#all_features = pd.concat((train.iloc[:,1:], test.iloc[:,0:])) #gender 제외"
   ]
  },
  {
   "cell_type": "code",
   "execution_count": null,
   "metadata": {},
   "outputs": [],
   "source": [
    "#all_features.shape"
   ]
  },
  {
   "cell_type": "code",
   "execution_count": null,
   "metadata": {
    "scrolled": true
   },
   "outputs": [],
   "source": [
    "#all_features.info()"
   ]
  },
  {
   "cell_type": "code",
   "execution_count": null,
   "metadata": {
    "scrolled": true
   },
   "outputs": [],
   "source": [
    "#중복 데이터 확인 ----> 중복데이터 없음\n",
    "#train_dup = all_features.reset_index()\n",
    "#train_dup = train_dup['custid'].duplicated()\n",
    "#train_dup.value_counts()"
   ]
  },
  {
   "cell_type": "markdown",
   "metadata": {},
   "source": [
    "#### object type 변환"
   ]
  },
  {
   "cell_type": "code",
   "execution_count": 10,
   "metadata": {},
   "outputs": [],
   "source": [
    "df.loc[(df['주구매코너'] == '영캐주얼') |\n",
    "       (df['주구매코너'] == '피혁A') |\n",
    "       (df['주구매코너'] == '유니캐주얼') |\n",
    "       (df['주구매코너'] == '니트단품') |\n",
    "       (df['주구매코너'] == '섬유') |\n",
    "       (df['주구매코너'] == '캐릭터캐주얼') |\n",
    "       (df['주구매코너'] == '피혁B') |\n",
    "       (df['주구매코너'] == '엘레강스캐주얼') |\n",
    "       (df['주구매코너'] == '트래디셔널캐주얼') |\n",
    "       (df['주구매코너'] == '유아동복') |\n",
    "       (df['주구매코너'] == '정장셔츠') |\n",
    "       (df['주구매코너'] == '타운모피'), '코너분류'] = '패션'\n",
    "        \n",
    "df.loc[(df['주구매코너'] == '일반식품'), '코너분류'] = '식품'\n",
    "        \n",
    "df.loc[(df['주구매코너'] == '가전') |\n",
    "       (df['주구매코너'] == '조리욕실') |\n",
    "       (df['주구매코너'] == '가구') |\n",
    "       (df['주구매코너'] == '도자기크리스탈') |\n",
    "       (df['주구매코너'] == '침구수예'), '코너분류'] = '생활'\n",
    "        \n",
    "df.loc[(df['주구매코너'] == '수입명품') |\n",
    "       (df['주구매코너'] == '디자이너부띠끄'), '코너분류'] = '고급'\n",
    "        \n",
    "df.loc[(df['주구매코너'] == '화장품') |\n",
    "       (df['주구매코너'] == '스포츠') |\n",
    "       (df['주구매코너'] == '장신구'), '코너분류'] = '잡화'\n",
    "\n",
    "df.loc[(df['주구매코너'] == '문화완구') |\n",
    "       (df['주구매코너'] == '기타바이어'), '코너분류'] = '기타'"
   ]
  },
  {
   "cell_type": "code",
   "execution_count": 11,
   "metadata": {
    "scrolled": true
   },
   "outputs": [
    {
     "data": {
      "text/html": [
       "<div>\n",
       "<style scoped>\n",
       "    .dataframe tbody tr th:only-of-type {\n",
       "        vertical-align: middle;\n",
       "    }\n",
       "\n",
       "    .dataframe tbody tr th {\n",
       "        vertical-align: top;\n",
       "    }\n",
       "\n",
       "    .dataframe thead th {\n",
       "        text-align: right;\n",
       "    }\n",
       "</style>\n",
       "<table border=\"1\" class=\"dataframe\">\n",
       "  <thead>\n",
       "    <tr style=\"text-align: right;\">\n",
       "      <th></th>\n",
       "      <th>gender</th>\n",
       "      <th>총구매액</th>\n",
       "      <th>구매건수</th>\n",
       "      <th>평균구매가격</th>\n",
       "      <th>평균할부개월수</th>\n",
       "      <th>구매브랜드종류</th>\n",
       "      <th>내점일수</th>\n",
       "      <th>수입상품_구매비율</th>\n",
       "      <th>주말방문비율</th>\n",
       "      <th>가을_구매건수</th>\n",
       "      <th>겨울_구매건수</th>\n",
       "      <th>봄_구매건수</th>\n",
       "      <th>여름_구매건수</th>\n",
       "      <th>아침_구매건수</th>\n",
       "      <th>저녁_구매건수</th>\n",
       "      <th>점심_구매건수</th>\n",
       "      <th>주구매코너</th>\n",
       "      <th>코너분류</th>\n",
       "    </tr>\n",
       "    <tr>\n",
       "      <th>custid</th>\n",
       "      <th></th>\n",
       "      <th></th>\n",
       "      <th></th>\n",
       "      <th></th>\n",
       "      <th></th>\n",
       "      <th></th>\n",
       "      <th></th>\n",
       "      <th></th>\n",
       "      <th></th>\n",
       "      <th></th>\n",
       "      <th></th>\n",
       "      <th></th>\n",
       "      <th></th>\n",
       "      <th></th>\n",
       "      <th></th>\n",
       "      <th></th>\n",
       "      <th></th>\n",
       "      <th></th>\n",
       "    </tr>\n",
       "  </thead>\n",
       "  <tbody>\n",
       "    <tr>\n",
       "      <th>18</th>\n",
       "      <td>0</td>\n",
       "      <td>680100</td>\n",
       "      <td>15</td>\n",
       "      <td>45340</td>\n",
       "      <td>1.7</td>\n",
       "      <td>9</td>\n",
       "      <td>10</td>\n",
       "      <td>26.7</td>\n",
       "      <td>100.0</td>\n",
       "      <td>NaN</td>\n",
       "      <td>9.0</td>\n",
       "      <td>6.0</td>\n",
       "      <td>NaN</td>\n",
       "      <td>NaN</td>\n",
       "      <td>6.0</td>\n",
       "      <td>9.0</td>\n",
       "      <td>화장품</td>\n",
       "      <td>잡화</td>\n",
       "    </tr>\n",
       "    <tr>\n",
       "      <th>21</th>\n",
       "      <td>0</td>\n",
       "      <td>353450</td>\n",
       "      <td>9</td>\n",
       "      <td>39272</td>\n",
       "      <td>1.2</td>\n",
       "      <td>6</td>\n",
       "      <td>8</td>\n",
       "      <td>11.1</td>\n",
       "      <td>37.5</td>\n",
       "      <td>NaN</td>\n",
       "      <td>5.0</td>\n",
       "      <td>4.0</td>\n",
       "      <td>NaN</td>\n",
       "      <td>3.0</td>\n",
       "      <td>NaN</td>\n",
       "      <td>6.0</td>\n",
       "      <td>영캐주얼</td>\n",
       "      <td>패션</td>\n",
       "    </tr>\n",
       "    <tr>\n",
       "      <th>23</th>\n",
       "      <td>0</td>\n",
       "      <td>5671400</td>\n",
       "      <td>36</td>\n",
       "      <td>157539</td>\n",
       "      <td>2.8</td>\n",
       "      <td>22</td>\n",
       "      <td>16</td>\n",
       "      <td>5.6</td>\n",
       "      <td>37.5</td>\n",
       "      <td>7.0</td>\n",
       "      <td>17.0</td>\n",
       "      <td>12.0</td>\n",
       "      <td>NaN</td>\n",
       "      <td>10.0</td>\n",
       "      <td>11.0</td>\n",
       "      <td>15.0</td>\n",
       "      <td>장신구</td>\n",
       "      <td>잡화</td>\n",
       "    </tr>\n",
       "    <tr>\n",
       "      <th>26</th>\n",
       "      <td>0</td>\n",
       "      <td>1964000</td>\n",
       "      <td>28</td>\n",
       "      <td>70143</td>\n",
       "      <td>1.4</td>\n",
       "      <td>15</td>\n",
       "      <td>14</td>\n",
       "      <td>39.3</td>\n",
       "      <td>28.6</td>\n",
       "      <td>5.0</td>\n",
       "      <td>8.0</td>\n",
       "      <td>15.0</td>\n",
       "      <td>NaN</td>\n",
       "      <td>NaN</td>\n",
       "      <td>18.0</td>\n",
       "      <td>10.0</td>\n",
       "      <td>화장품</td>\n",
       "      <td>잡화</td>\n",
       "    </tr>\n",
       "    <tr>\n",
       "      <th>35</th>\n",
       "      <td>0</td>\n",
       "      <td>885000</td>\n",
       "      <td>5</td>\n",
       "      <td>177000</td>\n",
       "      <td>6.0</td>\n",
       "      <td>5</td>\n",
       "      <td>2</td>\n",
       "      <td>0.0</td>\n",
       "      <td>100.0</td>\n",
       "      <td>NaN</td>\n",
       "      <td>NaN</td>\n",
       "      <td>5.0</td>\n",
       "      <td>NaN</td>\n",
       "      <td>NaN</td>\n",
       "      <td>5.0</td>\n",
       "      <td>NaN</td>\n",
       "      <td>피혁A</td>\n",
       "      <td>패션</td>\n",
       "    </tr>\n",
       "  </tbody>\n",
       "</table>\n",
       "</div>"
      ],
      "text/plain": [
       "        gender     총구매액  구매건수  평균구매가격  평균할부개월수  구매브랜드종류  내점일수  수입상품_구매비율  \\\n",
       "custid                                                                     \n",
       "18           0   680100    15   45340      1.7        9    10       26.7   \n",
       "21           0   353450     9   39272      1.2        6     8       11.1   \n",
       "23           0  5671400    36  157539      2.8       22    16        5.6   \n",
       "26           0  1964000    28   70143      1.4       15    14       39.3   \n",
       "35           0   885000     5  177000      6.0        5     2        0.0   \n",
       "\n",
       "        주말방문비율  가을_구매건수  겨울_구매건수  봄_구매건수  여름_구매건수  아침_구매건수  저녁_구매건수  점심_구매건수  \\\n",
       "custid                                                                         \n",
       "18       100.0      NaN      9.0     6.0      NaN      NaN      6.0      9.0   \n",
       "21        37.5      NaN      5.0     4.0      NaN      3.0      NaN      6.0   \n",
       "23        37.5      7.0     17.0    12.0      NaN     10.0     11.0     15.0   \n",
       "26        28.6      5.0      8.0    15.0      NaN      NaN     18.0     10.0   \n",
       "35       100.0      NaN      NaN     5.0      NaN      NaN      5.0      NaN   \n",
       "\n",
       "       주구매코너 코너분류  \n",
       "custid             \n",
       "18       화장품   잡화  \n",
       "21      영캐주얼   패션  \n",
       "23       장신구   잡화  \n",
       "26       화장품   잡화  \n",
       "35       피혁A   패션  "
      ]
     },
     "execution_count": 11,
     "metadata": {},
     "output_type": "execute_result"
    }
   ],
   "source": [
    "df.head()"
   ]
  },
  {
   "cell_type": "code",
   "execution_count": 14,
   "metadata": {},
   "outputs": [
    {
     "data": {
      "text/plain": [
       "일반식품        1306\n",
       "화장품         1206\n",
       "유니캐주얼        410\n",
       "유아동복         383\n",
       "스포츠          301\n",
       "영캐주얼         246\n",
       "캐릭터캐주얼       188\n",
       "수입명품         136\n",
       "섬유            96\n",
       "니트단품          91\n",
       "트래디셔널캐주얼      91\n",
       "정장셔츠          90\n",
       "엘레강스캐주얼       78\n",
       "피혁A           75\n",
       "장신구           68\n",
       "피혁B           56\n",
       "디자이너부띠끄       51\n",
       "문화완구          38\n",
       "조리욕실          28\n",
       "가전            18\n",
       "기타바이어         12\n",
       "도자기크리스탈       11\n",
       "침구수예           8\n",
       "가구             7\n",
       "타운모피           6\n",
       "Name: 주구매코너, dtype: int64"
      ]
     },
     "execution_count": 14,
     "metadata": {},
     "output_type": "execute_result"
    }
   ],
   "source": [
    "df['주구매코너'].value_counts()"
   ]
  },
  {
   "cell_type": "code",
   "execution_count": 15,
   "metadata": {},
   "outputs": [
    {
     "data": {
      "text/html": [
       "<div>\n",
       "<style scoped>\n",
       "    .dataframe tbody tr th:only-of-type {\n",
       "        vertical-align: middle;\n",
       "    }\n",
       "\n",
       "    .dataframe tbody tr th {\n",
       "        vertical-align: top;\n",
       "    }\n",
       "\n",
       "    .dataframe thead th {\n",
       "        text-align: right;\n",
       "    }\n",
       "</style>\n",
       "<table border=\"1\" class=\"dataframe\">\n",
       "  <thead>\n",
       "    <tr style=\"text-align: right;\">\n",
       "      <th></th>\n",
       "      <th>gender</th>\n",
       "      <th>총구매액</th>\n",
       "      <th>구매건수</th>\n",
       "      <th>평균구매가격</th>\n",
       "      <th>평균할부개월수</th>\n",
       "      <th>구매브랜드종류</th>\n",
       "      <th>내점일수</th>\n",
       "      <th>수입상품_구매비율</th>\n",
       "      <th>주말방문비율</th>\n",
       "      <th>가을_구매건수</th>\n",
       "      <th>겨울_구매건수</th>\n",
       "      <th>봄_구매건수</th>\n",
       "      <th>여름_구매건수</th>\n",
       "      <th>아침_구매건수</th>\n",
       "      <th>저녁_구매건수</th>\n",
       "      <th>점심_구매건수</th>\n",
       "      <th>주구매코너</th>\n",
       "      <th>코너분류</th>\n",
       "      <th>내점구매율</th>\n",
       "    </tr>\n",
       "    <tr>\n",
       "      <th>custid</th>\n",
       "      <th></th>\n",
       "      <th></th>\n",
       "      <th></th>\n",
       "      <th></th>\n",
       "      <th></th>\n",
       "      <th></th>\n",
       "      <th></th>\n",
       "      <th></th>\n",
       "      <th></th>\n",
       "      <th></th>\n",
       "      <th></th>\n",
       "      <th></th>\n",
       "      <th></th>\n",
       "      <th></th>\n",
       "      <th></th>\n",
       "      <th></th>\n",
       "      <th></th>\n",
       "      <th></th>\n",
       "      <th></th>\n",
       "    </tr>\n",
       "  </thead>\n",
       "  <tbody>\n",
       "    <tr>\n",
       "      <th>18</th>\n",
       "      <td>0</td>\n",
       "      <td>680100</td>\n",
       "      <td>15</td>\n",
       "      <td>45340</td>\n",
       "      <td>1.7</td>\n",
       "      <td>9</td>\n",
       "      <td>10</td>\n",
       "      <td>26.7</td>\n",
       "      <td>100.0</td>\n",
       "      <td>NaN</td>\n",
       "      <td>9.0</td>\n",
       "      <td>6.0</td>\n",
       "      <td>NaN</td>\n",
       "      <td>NaN</td>\n",
       "      <td>6.0</td>\n",
       "      <td>9.0</td>\n",
       "      <td>화장품</td>\n",
       "      <td>잡화</td>\n",
       "      <td>1.50</td>\n",
       "    </tr>\n",
       "    <tr>\n",
       "      <th>21</th>\n",
       "      <td>0</td>\n",
       "      <td>353450</td>\n",
       "      <td>9</td>\n",
       "      <td>39272</td>\n",
       "      <td>1.2</td>\n",
       "      <td>6</td>\n",
       "      <td>8</td>\n",
       "      <td>11.1</td>\n",
       "      <td>37.5</td>\n",
       "      <td>NaN</td>\n",
       "      <td>5.0</td>\n",
       "      <td>4.0</td>\n",
       "      <td>NaN</td>\n",
       "      <td>3.0</td>\n",
       "      <td>NaN</td>\n",
       "      <td>6.0</td>\n",
       "      <td>영캐주얼</td>\n",
       "      <td>패션</td>\n",
       "      <td>1.12</td>\n",
       "    </tr>\n",
       "    <tr>\n",
       "      <th>23</th>\n",
       "      <td>0</td>\n",
       "      <td>5671400</td>\n",
       "      <td>36</td>\n",
       "      <td>157539</td>\n",
       "      <td>2.8</td>\n",
       "      <td>22</td>\n",
       "      <td>16</td>\n",
       "      <td>5.6</td>\n",
       "      <td>37.5</td>\n",
       "      <td>7.0</td>\n",
       "      <td>17.0</td>\n",
       "      <td>12.0</td>\n",
       "      <td>NaN</td>\n",
       "      <td>10.0</td>\n",
       "      <td>11.0</td>\n",
       "      <td>15.0</td>\n",
       "      <td>장신구</td>\n",
       "      <td>잡화</td>\n",
       "      <td>2.25</td>\n",
       "    </tr>\n",
       "    <tr>\n",
       "      <th>26</th>\n",
       "      <td>0</td>\n",
       "      <td>1964000</td>\n",
       "      <td>28</td>\n",
       "      <td>70143</td>\n",
       "      <td>1.4</td>\n",
       "      <td>15</td>\n",
       "      <td>14</td>\n",
       "      <td>39.3</td>\n",
       "      <td>28.6</td>\n",
       "      <td>5.0</td>\n",
       "      <td>8.0</td>\n",
       "      <td>15.0</td>\n",
       "      <td>NaN</td>\n",
       "      <td>NaN</td>\n",
       "      <td>18.0</td>\n",
       "      <td>10.0</td>\n",
       "      <td>화장품</td>\n",
       "      <td>잡화</td>\n",
       "      <td>2.00</td>\n",
       "    </tr>\n",
       "    <tr>\n",
       "      <th>35</th>\n",
       "      <td>0</td>\n",
       "      <td>885000</td>\n",
       "      <td>5</td>\n",
       "      <td>177000</td>\n",
       "      <td>6.0</td>\n",
       "      <td>5</td>\n",
       "      <td>2</td>\n",
       "      <td>0.0</td>\n",
       "      <td>100.0</td>\n",
       "      <td>NaN</td>\n",
       "      <td>NaN</td>\n",
       "      <td>5.0</td>\n",
       "      <td>NaN</td>\n",
       "      <td>NaN</td>\n",
       "      <td>5.0</td>\n",
       "      <td>NaN</td>\n",
       "      <td>피혁A</td>\n",
       "      <td>패션</td>\n",
       "      <td>2.50</td>\n",
       "    </tr>\n",
       "  </tbody>\n",
       "</table>\n",
       "</div>"
      ],
      "text/plain": [
       "        gender     총구매액  구매건수  평균구매가격  평균할부개월수  구매브랜드종류  내점일수  수입상품_구매비율  \\\n",
       "custid                                                                     \n",
       "18           0   680100    15   45340      1.7        9    10       26.7   \n",
       "21           0   353450     9   39272      1.2        6     8       11.1   \n",
       "23           0  5671400    36  157539      2.8       22    16        5.6   \n",
       "26           0  1964000    28   70143      1.4       15    14       39.3   \n",
       "35           0   885000     5  177000      6.0        5     2        0.0   \n",
       "\n",
       "        주말방문비율  가을_구매건수  겨울_구매건수  봄_구매건수  여름_구매건수  아침_구매건수  저녁_구매건수  점심_구매건수  \\\n",
       "custid                                                                         \n",
       "18       100.0      NaN      9.0     6.0      NaN      NaN      6.0      9.0   \n",
       "21        37.5      NaN      5.0     4.0      NaN      3.0      NaN      6.0   \n",
       "23        37.5      7.0     17.0    12.0      NaN     10.0     11.0     15.0   \n",
       "26        28.6      5.0      8.0    15.0      NaN      NaN     18.0     10.0   \n",
       "35       100.0      NaN      NaN     5.0      NaN      NaN      5.0      NaN   \n",
       "\n",
       "       주구매코너 코너분류  내점구매율  \n",
       "custid                    \n",
       "18       화장품   잡화   1.50  \n",
       "21      영캐주얼   패션   1.12  \n",
       "23       장신구   잡화   2.25  \n",
       "26       화장품   잡화   2.00  \n",
       "35       피혁A   패션   2.50  "
      ]
     },
     "execution_count": 15,
     "metadata": {},
     "output_type": "execute_result"
    }
   ],
   "source": [
    "#내점구매율 추가\n",
    "df['내점구매율'] = np.round(df['구매건수'] /df['내점일수'], 2)\n",
    "df.head()"
   ]
  },
  {
   "cell_type": "code",
   "execution_count": 16,
   "metadata": {},
   "outputs": [],
   "source": [
    "obj = df.dtypes[df.dtypes == 'object'].index\n",
    "num = df.dtypes[df.dtypes != 'object'].index"
   ]
  },
  {
   "cell_type": "code",
   "execution_count": null,
   "metadata": {},
   "outputs": [],
   "source": [
    "df[obj] = df[obj].apply(lambda x: x.astype('category').cat.codes)"
   ]
  },
  {
   "cell_type": "code",
   "execution_count": null,
   "metadata": {
    "scrolled": false
   },
   "outputs": [],
   "source": [
    "df.head()"
   ]
  },
  {
   "cell_type": "code",
   "execution_count": 17,
   "metadata": {
    "scrolled": true
   },
   "outputs": [
    {
     "data": {
      "text/plain": [
       "gender          0\n",
       "총구매액            0\n",
       "구매건수            0\n",
       "평균구매가격          0\n",
       "평균할부개월수         0\n",
       "구매브랜드종류         0\n",
       "내점일수            0\n",
       "수입상품_구매비율       0\n",
       "주말방문비율          0\n",
       "가을_구매건수       945\n",
       "겨울_구매건수       897\n",
       "봄_구매건수        689\n",
       "여름_구매건수      1022\n",
       "아침_구매건수      1442\n",
       "저녁_구매건수       967\n",
       "점심_구매건수       145\n",
       "주구매코너           0\n",
       "코너분류            0\n",
       "내점구매율           0\n",
       "dtype: int64"
      ]
     },
     "execution_count": 17,
     "metadata": {},
     "output_type": "execute_result"
    }
   ],
   "source": [
    "df.isnull().sum()"
   ]
  },
  {
   "cell_type": "code",
   "execution_count": 18,
   "metadata": {},
   "outputs": [],
   "source": [
    "#null 값 있는 컬럼\n",
    "null_col = df.iloc[:,9:-3]\n",
    "null_col = null_col.columns"
   ]
  },
  {
   "cell_type": "code",
   "execution_count": 19,
   "metadata": {},
   "outputs": [
    {
     "data": {
      "text/html": [
       "<div>\n",
       "<style scoped>\n",
       "    .dataframe tbody tr th:only-of-type {\n",
       "        vertical-align: middle;\n",
       "    }\n",
       "\n",
       "    .dataframe tbody tr th {\n",
       "        vertical-align: top;\n",
       "    }\n",
       "\n",
       "    .dataframe thead th {\n",
       "        text-align: right;\n",
       "    }\n",
       "</style>\n",
       "<table border=\"1\" class=\"dataframe\">\n",
       "  <thead>\n",
       "    <tr style=\"text-align: right;\">\n",
       "      <th></th>\n",
       "      <th>가을_구매건수</th>\n",
       "      <th>겨울_구매건수</th>\n",
       "      <th>봄_구매건수</th>\n",
       "      <th>여름_구매건수</th>\n",
       "      <th>아침_구매건수</th>\n",
       "      <th>저녁_구매건수</th>\n",
       "      <th>점심_구매건수</th>\n",
       "    </tr>\n",
       "    <tr>\n",
       "      <th>custid</th>\n",
       "      <th></th>\n",
       "      <th></th>\n",
       "      <th></th>\n",
       "      <th></th>\n",
       "      <th></th>\n",
       "      <th></th>\n",
       "      <th></th>\n",
       "    </tr>\n",
       "  </thead>\n",
       "  <tbody>\n",
       "    <tr>\n",
       "      <th>18</th>\n",
       "      <td>NaN</td>\n",
       "      <td>9.0</td>\n",
       "      <td>6.0</td>\n",
       "      <td>NaN</td>\n",
       "      <td>NaN</td>\n",
       "      <td>6.0</td>\n",
       "      <td>9.0</td>\n",
       "    </tr>\n",
       "    <tr>\n",
       "      <th>21</th>\n",
       "      <td>NaN</td>\n",
       "      <td>5.0</td>\n",
       "      <td>4.0</td>\n",
       "      <td>NaN</td>\n",
       "      <td>3.0</td>\n",
       "      <td>NaN</td>\n",
       "      <td>6.0</td>\n",
       "    </tr>\n",
       "    <tr>\n",
       "      <th>23</th>\n",
       "      <td>7.0</td>\n",
       "      <td>17.0</td>\n",
       "      <td>12.0</td>\n",
       "      <td>NaN</td>\n",
       "      <td>10.0</td>\n",
       "      <td>11.0</td>\n",
       "      <td>15.0</td>\n",
       "    </tr>\n",
       "    <tr>\n",
       "      <th>26</th>\n",
       "      <td>5.0</td>\n",
       "      <td>8.0</td>\n",
       "      <td>15.0</td>\n",
       "      <td>NaN</td>\n",
       "      <td>NaN</td>\n",
       "      <td>18.0</td>\n",
       "      <td>10.0</td>\n",
       "    </tr>\n",
       "    <tr>\n",
       "      <th>35</th>\n",
       "      <td>NaN</td>\n",
       "      <td>NaN</td>\n",
       "      <td>5.0</td>\n",
       "      <td>NaN</td>\n",
       "      <td>NaN</td>\n",
       "      <td>5.0</td>\n",
       "      <td>NaN</td>\n",
       "    </tr>\n",
       "  </tbody>\n",
       "</table>\n",
       "</div>"
      ],
      "text/plain": [
       "        가을_구매건수  겨울_구매건수  봄_구매건수  여름_구매건수  아침_구매건수  저녁_구매건수  점심_구매건수\n",
       "custid                                                              \n",
       "18          NaN      9.0     6.0      NaN      NaN      6.0      9.0\n",
       "21          NaN      5.0     4.0      NaN      3.0      NaN      6.0\n",
       "23          7.0     17.0    12.0      NaN     10.0     11.0     15.0\n",
       "26          5.0      8.0    15.0      NaN      NaN     18.0     10.0\n",
       "35          NaN      NaN     5.0      NaN      NaN      5.0      NaN"
      ]
     },
     "execution_count": 19,
     "metadata": {},
     "output_type": "execute_result"
    }
   ],
   "source": [
    "df[null_col].head()"
   ]
  },
  {
   "cell_type": "code",
   "execution_count": null,
   "metadata": {},
   "outputs": [],
   "source": [
    "#all_features['사계절 합'] = all_features.iloc[:,8:12].sum(axis=1)\n",
    "#all_features['일일 합'] = all_features.iloc[:,12:15].sum(axis=1)\n",
    "#all_features.head()\n",
    "#all_features = all_features.drop('구매건수 차', axis=1)\n",
    "#all_features['구매건수 차'] = all_features['구매건수'] - all_features['일일 합']\n",
    "#all_features['구매건수 차'].value_counts()"
   ]
  },
  {
   "cell_type": "code",
   "execution_count": 20,
   "metadata": {},
   "outputs": [
    {
     "data": {
      "text/plain": [
       "gender       0\n",
       "총구매액         0\n",
       "구매건수         0\n",
       "평균구매가격       0\n",
       "평균할부개월수      0\n",
       "구매브랜드종류      0\n",
       "내점일수         0\n",
       "수입상품_구매비율    0\n",
       "주말방문비율       0\n",
       "가을_구매건수      0\n",
       "겨울_구매건수      0\n",
       "봄_구매건수       0\n",
       "여름_구매건수      0\n",
       "아침_구매건수      0\n",
       "저녁_구매건수      0\n",
       "점심_구매건수      0\n",
       "주구매코너        0\n",
       "코너분류         0\n",
       "내점구매율        0\n",
       "dtype: int64"
      ]
     },
     "execution_count": 20,
     "metadata": {},
     "output_type": "execute_result"
    }
   ],
   "source": [
    "#null 값 -> 0 입력\n",
    "df[null_col] = df[null_col].fillna(0)\n",
    "df.isnull().sum()"
   ]
  },
  {
   "cell_type": "code",
   "execution_count": 21,
   "metadata": {},
   "outputs": [
    {
     "data": {
      "text/plain": [
       "(5000, 50)"
      ]
     },
     "execution_count": 21,
     "metadata": {},
     "output_type": "execute_result"
    }
   ],
   "source": [
    "df = pd.get_dummies(df, dummy_na=True)\n",
    "df.shape"
   ]
  },
  {
   "cell_type": "code",
   "execution_count": 22,
   "metadata": {},
   "outputs": [
    {
     "data": {
      "text/html": [
       "<div>\n",
       "<style scoped>\n",
       "    .dataframe tbody tr th:only-of-type {\n",
       "        vertical-align: middle;\n",
       "    }\n",
       "\n",
       "    .dataframe tbody tr th {\n",
       "        vertical-align: top;\n",
       "    }\n",
       "\n",
       "    .dataframe thead th {\n",
       "        text-align: right;\n",
       "    }\n",
       "</style>\n",
       "<table border=\"1\" class=\"dataframe\">\n",
       "  <thead>\n",
       "    <tr style=\"text-align: right;\">\n",
       "      <th></th>\n",
       "      <th>gender</th>\n",
       "      <th>총구매액</th>\n",
       "      <th>구매건수</th>\n",
       "      <th>평균구매가격</th>\n",
       "      <th>평균할부개월수</th>\n",
       "      <th>구매브랜드종류</th>\n",
       "      <th>내점일수</th>\n",
       "      <th>수입상품_구매비율</th>\n",
       "      <th>주말방문비율</th>\n",
       "      <th>가을_구매건수</th>\n",
       "      <th>...</th>\n",
       "      <th>주구매코너_피혁B</th>\n",
       "      <th>주구매코너_화장품</th>\n",
       "      <th>주구매코너_nan</th>\n",
       "      <th>코너분류_고급</th>\n",
       "      <th>코너분류_기타</th>\n",
       "      <th>코너분류_생활</th>\n",
       "      <th>코너분류_식품</th>\n",
       "      <th>코너분류_잡화</th>\n",
       "      <th>코너분류_패션</th>\n",
       "      <th>코너분류_nan</th>\n",
       "    </tr>\n",
       "    <tr>\n",
       "      <th>custid</th>\n",
       "      <th></th>\n",
       "      <th></th>\n",
       "      <th></th>\n",
       "      <th></th>\n",
       "      <th></th>\n",
       "      <th></th>\n",
       "      <th></th>\n",
       "      <th></th>\n",
       "      <th></th>\n",
       "      <th></th>\n",
       "      <th></th>\n",
       "      <th></th>\n",
       "      <th></th>\n",
       "      <th></th>\n",
       "      <th></th>\n",
       "      <th></th>\n",
       "      <th></th>\n",
       "      <th></th>\n",
       "      <th></th>\n",
       "      <th></th>\n",
       "      <th></th>\n",
       "    </tr>\n",
       "  </thead>\n",
       "  <tbody>\n",
       "    <tr>\n",
       "      <th>18</th>\n",
       "      <td>0</td>\n",
       "      <td>680100</td>\n",
       "      <td>15</td>\n",
       "      <td>45340</td>\n",
       "      <td>1.7</td>\n",
       "      <td>9</td>\n",
       "      <td>10</td>\n",
       "      <td>26.7</td>\n",
       "      <td>100.0</td>\n",
       "      <td>0.0</td>\n",
       "      <td>...</td>\n",
       "      <td>0</td>\n",
       "      <td>1</td>\n",
       "      <td>0</td>\n",
       "      <td>0</td>\n",
       "      <td>0</td>\n",
       "      <td>0</td>\n",
       "      <td>0</td>\n",
       "      <td>1</td>\n",
       "      <td>0</td>\n",
       "      <td>0</td>\n",
       "    </tr>\n",
       "    <tr>\n",
       "      <th>21</th>\n",
       "      <td>0</td>\n",
       "      <td>353450</td>\n",
       "      <td>9</td>\n",
       "      <td>39272</td>\n",
       "      <td>1.2</td>\n",
       "      <td>6</td>\n",
       "      <td>8</td>\n",
       "      <td>11.1</td>\n",
       "      <td>37.5</td>\n",
       "      <td>0.0</td>\n",
       "      <td>...</td>\n",
       "      <td>0</td>\n",
       "      <td>0</td>\n",
       "      <td>0</td>\n",
       "      <td>0</td>\n",
       "      <td>0</td>\n",
       "      <td>0</td>\n",
       "      <td>0</td>\n",
       "      <td>0</td>\n",
       "      <td>1</td>\n",
       "      <td>0</td>\n",
       "    </tr>\n",
       "    <tr>\n",
       "      <th>23</th>\n",
       "      <td>0</td>\n",
       "      <td>5671400</td>\n",
       "      <td>36</td>\n",
       "      <td>157539</td>\n",
       "      <td>2.8</td>\n",
       "      <td>22</td>\n",
       "      <td>16</td>\n",
       "      <td>5.6</td>\n",
       "      <td>37.5</td>\n",
       "      <td>7.0</td>\n",
       "      <td>...</td>\n",
       "      <td>0</td>\n",
       "      <td>0</td>\n",
       "      <td>0</td>\n",
       "      <td>0</td>\n",
       "      <td>0</td>\n",
       "      <td>0</td>\n",
       "      <td>0</td>\n",
       "      <td>1</td>\n",
       "      <td>0</td>\n",
       "      <td>0</td>\n",
       "    </tr>\n",
       "  </tbody>\n",
       "</table>\n",
       "<p>3 rows × 50 columns</p>\n",
       "</div>"
      ],
      "text/plain": [
       "        gender     총구매액  구매건수  평균구매가격  평균할부개월수  구매브랜드종류  내점일수  수입상품_구매비율  \\\n",
       "custid                                                                     \n",
       "18           0   680100    15   45340      1.7        9    10       26.7   \n",
       "21           0   353450     9   39272      1.2        6     8       11.1   \n",
       "23           0  5671400    36  157539      2.8       22    16        5.6   \n",
       "\n",
       "        주말방문비율  가을_구매건수  ...  주구매코너_피혁B  주구매코너_화장품  주구매코너_nan  코너분류_고급  \\\n",
       "custid                   ...                                             \n",
       "18       100.0      0.0  ...          0          1          0        0   \n",
       "21        37.5      0.0  ...          0          0          0        0   \n",
       "23        37.5      7.0  ...          0          0          0        0   \n",
       "\n",
       "        코너분류_기타  코너분류_생활  코너분류_식품  코너분류_잡화  코너분류_패션  코너분류_nan  \n",
       "custid                                                         \n",
       "18            0        0        0        1        0         0  \n",
       "21            0        0        0        0        1         0  \n",
       "23            0        0        0        1        0         0  \n",
       "\n",
       "[3 rows x 50 columns]"
      ]
     },
     "execution_count": 22,
     "metadata": {},
     "output_type": "execute_result"
    }
   ],
   "source": [
    "df.head(3)"
   ]
  },
  {
   "cell_type": "markdown",
   "metadata": {},
   "source": [
    "#참고 https://ko.d2l.ai/chapter_deep-learning-basics/kaggle-house-price.html"
   ]
  },
  {
   "cell_type": "markdown",
   "metadata": {},
   "source": [
    "#check skewness\n",
    "- 참고 https://www.kaggle.com/fkstepz/step-by-step-predict-bike-sharing-demand"
   ]
  },
  {
   "cell_type": "code",
   "execution_count": 23,
   "metadata": {},
   "outputs": [],
   "source": [
    "from sklearn.preprocessing import LabelEncoder\n",
    "from scipy import stats\n",
    "from scipy.stats import norm, skew "
   ]
  },
  {
   "cell_type": "code",
   "execution_count": 24,
   "metadata": {},
   "outputs": [
    {
     "data": {
      "text/plain": [
       "Index(['gender', '총구매액', '구매건수', '평균구매가격', '평균할부개월수', '구매브랜드종류', '내점일수',\n",
       "       '수입상품_구매비율', '주말방문비율', '가을_구매건수', '겨울_구매건수', '봄_구매건수', '여름_구매건수',\n",
       "       '아침_구매건수', '저녁_구매건수', '점심_구매건수', '내점구매율'],\n",
       "      dtype='object')"
      ]
     },
     "execution_count": 24,
     "metadata": {},
     "output_type": "execute_result"
    }
   ],
   "source": [
    "num"
   ]
  },
  {
   "cell_type": "code",
   "execution_count": 25,
   "metadata": {},
   "outputs": [
    {
     "name": "stdout",
     "output_type": "stream",
     "text": [
      "\n",
      "Skew in numerical features: \n",
      "\n"
     ]
    },
    {
     "data": {
      "text/html": [
       "<div>\n",
       "<style scoped>\n",
       "    .dataframe tbody tr th:only-of-type {\n",
       "        vertical-align: middle;\n",
       "    }\n",
       "\n",
       "    .dataframe tbody tr th {\n",
       "        vertical-align: top;\n",
       "    }\n",
       "\n",
       "    .dataframe thead th {\n",
       "        text-align: right;\n",
       "    }\n",
       "</style>\n",
       "<table border=\"1\" class=\"dataframe\">\n",
       "  <thead>\n",
       "    <tr style=\"text-align: right;\">\n",
       "      <th></th>\n",
       "      <th>Skew</th>\n",
       "    </tr>\n",
       "  </thead>\n",
       "  <tbody>\n",
       "    <tr>\n",
       "      <th>총구매액</th>\n",
       "      <td>5.781570</td>\n",
       "    </tr>\n",
       "    <tr>\n",
       "      <th>아침_구매건수</th>\n",
       "      <td>4.917130</td>\n",
       "    </tr>\n",
       "    <tr>\n",
       "      <th>저녁_구매건수</th>\n",
       "      <td>4.482165</td>\n",
       "    </tr>\n",
       "    <tr>\n",
       "      <th>점심_구매건수</th>\n",
       "      <td>3.610048</td>\n",
       "    </tr>\n",
       "    <tr>\n",
       "      <th>평균구매가격</th>\n",
       "      <td>3.148305</td>\n",
       "    </tr>\n",
       "    <tr>\n",
       "      <th>여름_구매건수</th>\n",
       "      <td>3.123849</td>\n",
       "    </tr>\n",
       "    <tr>\n",
       "      <th>구매건수</th>\n",
       "      <td>3.059414</td>\n",
       "    </tr>\n",
       "    <tr>\n",
       "      <th>내점일수</th>\n",
       "      <td>3.011361</td>\n",
       "    </tr>\n",
       "    <tr>\n",
       "      <th>가을_구매건수</th>\n",
       "      <td>2.983893</td>\n",
       "    </tr>\n",
       "    <tr>\n",
       "      <th>봄_구매건수</th>\n",
       "      <td>2.797174</td>\n",
       "    </tr>\n",
       "    <tr>\n",
       "      <th>겨울_구매건수</th>\n",
       "      <td>2.724455</td>\n",
       "    </tr>\n",
       "    <tr>\n",
       "      <th>평균할부개월수</th>\n",
       "      <td>2.268037</td>\n",
       "    </tr>\n",
       "    <tr>\n",
       "      <th>수입상품_구매비율</th>\n",
       "      <td>2.104637</td>\n",
       "    </tr>\n",
       "    <tr>\n",
       "      <th>구매브랜드종류</th>\n",
       "      <td>1.736253</td>\n",
       "    </tr>\n",
       "    <tr>\n",
       "      <th>내점구매율</th>\n",
       "      <td>1.420800</td>\n",
       "    </tr>\n",
       "    <tr>\n",
       "      <th>gender</th>\n",
       "      <td>0.851179</td>\n",
       "    </tr>\n",
       "    <tr>\n",
       "      <th>주말방문비율</th>\n",
       "      <td>0.629564</td>\n",
       "    </tr>\n",
       "  </tbody>\n",
       "</table>\n",
       "</div>"
      ],
      "text/plain": [
       "               Skew\n",
       "총구매액       5.781570\n",
       "아침_구매건수    4.917130\n",
       "저녁_구매건수    4.482165\n",
       "점심_구매건수    3.610048\n",
       "평균구매가격     3.148305\n",
       "여름_구매건수    3.123849\n",
       "구매건수       3.059414\n",
       "내점일수       3.011361\n",
       "가을_구매건수    2.983893\n",
       "봄_구매건수     2.797174\n",
       "겨울_구매건수    2.724455\n",
       "평균할부개월수    2.268037\n",
       "수입상품_구매비율  2.104637\n",
       "구매브랜드종류    1.736253\n",
       "내점구매율      1.420800\n",
       "gender     0.851179\n",
       "주말방문비율     0.629564"
      ]
     },
     "execution_count": 25,
     "metadata": {},
     "output_type": "execute_result"
    }
   ],
   "source": [
    "skewed_f = df[num].apply(lambda x: skew(x.dropna ())\n",
    "                                ).sort_values(ascending = False)\n",
    "print(\"\\nSkew in numerical features: \\n\")\n",
    "skewness = pd.DataFrame({'Skew' : skewed_f})\n",
    "skewness"
   ]
  },
  {
   "cell_type": "code",
   "execution_count": 26,
   "metadata": {},
   "outputs": [
    {
     "data": {
      "text/html": [
       "<div>\n",
       "<style scoped>\n",
       "    .dataframe tbody tr th:only-of-type {\n",
       "        vertical-align: middle;\n",
       "    }\n",
       "\n",
       "    .dataframe tbody tr th {\n",
       "        vertical-align: top;\n",
       "    }\n",
       "\n",
       "    .dataframe thead th {\n",
       "        text-align: right;\n",
       "    }\n",
       "</style>\n",
       "<table border=\"1\" class=\"dataframe\">\n",
       "  <thead>\n",
       "    <tr style=\"text-align: right;\">\n",
       "      <th></th>\n",
       "      <th>Skew</th>\n",
       "    </tr>\n",
       "  </thead>\n",
       "  <tbody>\n",
       "    <tr>\n",
       "      <th>총구매액</th>\n",
       "      <td>5.781570</td>\n",
       "    </tr>\n",
       "    <tr>\n",
       "      <th>아침_구매건수</th>\n",
       "      <td>4.917130</td>\n",
       "    </tr>\n",
       "    <tr>\n",
       "      <th>저녁_구매건수</th>\n",
       "      <td>4.482165</td>\n",
       "    </tr>\n",
       "    <tr>\n",
       "      <th>점심_구매건수</th>\n",
       "      <td>3.610048</td>\n",
       "    </tr>\n",
       "    <tr>\n",
       "      <th>평균구매가격</th>\n",
       "      <td>3.148305</td>\n",
       "    </tr>\n",
       "    <tr>\n",
       "      <th>여름_구매건수</th>\n",
       "      <td>3.123849</td>\n",
       "    </tr>\n",
       "    <tr>\n",
       "      <th>구매건수</th>\n",
       "      <td>3.059414</td>\n",
       "    </tr>\n",
       "    <tr>\n",
       "      <th>내점일수</th>\n",
       "      <td>3.011361</td>\n",
       "    </tr>\n",
       "    <tr>\n",
       "      <th>가을_구매건수</th>\n",
       "      <td>2.983893</td>\n",
       "    </tr>\n",
       "    <tr>\n",
       "      <th>봄_구매건수</th>\n",
       "      <td>2.797174</td>\n",
       "    </tr>\n",
       "    <tr>\n",
       "      <th>겨울_구매건수</th>\n",
       "      <td>2.724455</td>\n",
       "    </tr>\n",
       "    <tr>\n",
       "      <th>평균할부개월수</th>\n",
       "      <td>2.268037</td>\n",
       "    </tr>\n",
       "    <tr>\n",
       "      <th>수입상품_구매비율</th>\n",
       "      <td>2.104637</td>\n",
       "    </tr>\n",
       "    <tr>\n",
       "      <th>구매브랜드종류</th>\n",
       "      <td>1.736253</td>\n",
       "    </tr>\n",
       "    <tr>\n",
       "      <th>내점구매율</th>\n",
       "      <td>1.420800</td>\n",
       "    </tr>\n",
       "    <tr>\n",
       "      <th>gender</th>\n",
       "      <td>0.851179</td>\n",
       "    </tr>\n",
       "    <tr>\n",
       "      <th>주말방문비율</th>\n",
       "      <td>0.629564</td>\n",
       "    </tr>\n",
       "  </tbody>\n",
       "</table>\n",
       "</div>"
      ],
      "text/plain": [
       "               Skew\n",
       "총구매액       5.781570\n",
       "아침_구매건수    4.917130\n",
       "저녁_구매건수    4.482165\n",
       "점심_구매건수    3.610048\n",
       "평균구매가격     3.148305\n",
       "여름_구매건수    3.123849\n",
       "구매건수       3.059414\n",
       "내점일수       3.011361\n",
       "가을_구매건수    2.983893\n",
       "봄_구매건수     2.797174\n",
       "겨울_구매건수    2.724455\n",
       "평균할부개월수    2.268037\n",
       "수입상품_구매비율  2.104637\n",
       "구매브랜드종류    1.736253\n",
       "내점구매율      1.420800\n",
       "gender     0.851179\n",
       "주말방문비율     0.629564"
      ]
     },
     "execution_count": 26,
     "metadata": {},
     "output_type": "execute_result"
    }
   ],
   "source": [
    "skewness = skewness[abs(skewness) > 0]\n",
    "skewness"
   ]
  },
  {
   "cell_type": "code",
   "execution_count": 27,
   "metadata": {},
   "outputs": [
    {
     "name": "stdout",
     "output_type": "stream",
     "text": [
      "gender          Skewness: 00.85        Kurtosis: -01.28\n",
      "총구매액            Skewness: 05.78        Kurtosis: 060.23\n",
      "구매건수            Skewness: 03.06        Kurtosis: 015.61\n",
      "평균구매가격          Skewness: 03.15        Kurtosis: 016.48\n",
      "평균할부개월수         Skewness: 02.27        Kurtosis: 012.85\n",
      "구매브랜드종류         Skewness: 01.74        Kurtosis: 004.58\n",
      "내점일수            Skewness: 03.01        Kurtosis: 015.62\n",
      "수입상품_구매비율       Skewness: 02.11        Kurtosis: 005.37\n",
      "주말방문비율          Skewness: 00.63        Kurtosis: 000.17\n",
      "가을_구매건수         Skewness: 02.98        Kurtosis: 014.64\n",
      "겨울_구매건수         Skewness: 02.73        Kurtosis: 011.73\n",
      "봄_구매건수          Skewness: 02.80        Kurtosis: 012.21\n",
      "여름_구매건수         Skewness: 03.12        Kurtosis: 016.05\n",
      "아침_구매건수         Skewness: 04.92        Kurtosis: 040.45\n",
      "저녁_구매건수         Skewness: 04.48        Kurtosis: 033.04\n",
      "점심_구매건수         Skewness: 03.61        Kurtosis: 023.48\n",
      "내점구매율           Skewness: 01.42        Kurtosis: 004.00\n"
     ]
    }
   ],
   "source": [
    "#수치형 변수의 왜도, 첨도 확인\n",
    "for col in num:\n",
    "    print('{:15}'.format(col),\n",
    "          'Skewness: {:05.2f}'.format(df[col].skew()),\n",
    "          '      ',\n",
    "          'Kurtosis: {:06.2f}'.format(df[col].kurt()))"
   ]
  },
  {
   "cell_type": "code",
   "execution_count": 28,
   "metadata": {},
   "outputs": [
    {
     "data": {
      "text/plain": [
       "<AxesSubplot:xlabel='총구매액', ylabel='Density'>"
      ]
     },
     "execution_count": 28,
     "metadata": {},
     "output_type": "execute_result"
    },
    {
     "data": {
      "image/png": "[encoded data removed]",
      "text/plain": [
       "<Figure size 360x360 with 1 Axes>"
      ]
     },
     "metadata": {
      "needs_background": "light"
     },
     "output_type": "display_data"
    }
   ],
   "source": [
    "#왜도, 첨도 시각적 확인\n",
    "f, ax = plt.subplots(figsize=(5,5))\n",
    "sns.distplot(df['총구매액'])"
   ]
  },
  {
   "cell_type": "code",
   "execution_count": 30,
   "metadata": {},
   "outputs": [
    {
     "name": "stdout",
     "output_type": "stream",
     "text": [
      "Skewness: -0.403897\n",
      "Kurtosis: 0.167335\n"
     ]
    },
    {
     "data": {
      "image/png": "[encoded data removed]",
      "text/plain": [
       "<Figure size 360x360 with 1 Axes>"
      ]
     },
     "metadata": {
      "needs_background": "light"
     },
     "output_type": "display_data"
    }
   ],
   "source": [
    "df['log_total'] = np.log1p(df['총구매액'])\n",
    "f, ax = plt.subplots(figsize = (5,5))\n",
    "sns.distplot(df['log_total'])\n",
    "print('Skewness: {:3f}'.format(df['log_total'].skew()))\n",
    "print('Kurtosis: {:3f}'.format(df['log_total'].kurt()))\n",
    "#{: 숫자f} 숫자만큼의 공백 "
   ]
  },
  {
   "cell_type": "code",
   "execution_count": 29,
   "metadata": {},
   "outputs": [
    {
     "data": {
      "text/plain": [
       "<AxesSubplot:xlabel='아침_구매건수', ylabel='Density'>"
      ]
     },
     "execution_count": 29,
     "metadata": {},
     "output_type": "execute_result"
    },
    {
     "data": {
      "image/png": "[encoded data removed]",
      "text/plain": [
       "<Figure size 432x288 with 1 Axes>"
      ]
     },
     "metadata": {
      "needs_background": "light"
     },
     "output_type": "display_data"
    }
   ],
   "source": [
    "sns.distplot(df['아침_구매건수'])"
   ]
  },
  {
   "cell_type": "code",
   "execution_count": 31,
   "metadata": {},
   "outputs": [
    {
     "name": "stdout",
     "output_type": "stream",
     "text": [
      "Skewness: 0.519595\n",
      "Kurtosis: -0.545618\n"
     ]
    },
    {
     "data": {
      "image/png": "[encoded data removed]",
      "text/plain": [
       "<Figure size 360x360 with 1 Axes>"
      ]
     },
     "metadata": {
      "needs_background": "light"
     },
     "output_type": "display_data"
    }
   ],
   "source": [
    "df['morning'] = np.log1p(df['아침_구매건수'])\n",
    "f, ax = plt.subplots(figsize = (5,5))\n",
    "sns.distplot(df['morning'])\n",
    "print('Skewness: {:3f}'.format(df['morning'].skew()))\n",
    "print('Kurtosis: {:3f}'.format(df['morning'].kurt()))"
   ]
  },
  {
   "cell_type": "markdown",
   "metadata": {},
   "source": [
    "##Log를 취해준 변수의 \n",
    "- Skewness와 Kurtosis가 많이 떨어짐 (왜도, 첨도)\n",
    "- plot 자체도 나름 정규 근사화가 된 것 확인 - '총구매액'\n",
    "\n",
    "\n",
    "\n",
    "출처: https://hong-yp-ml-records.tistory.com/28 [HONG YP's Data Science BLOG]"
   ]
  },
  {
   "cell_type": "code",
   "execution_count": 32,
   "metadata": {
    "scrolled": true
   },
   "outputs": [
    {
     "data": {
      "image/png": "[encoded data removed]",
      "text/plain": [
       "<Figure size 720x720 with 2 Axes>"
      ]
     },
     "metadata": {
      "needs_background": "light"
     },
     "output_type": "display_data"
    }
   ],
   "source": [
    "from scipy import stats\n",
    "fig = plt.figure(figsize = (10,10))\n",
    "fig.add_subplot(1,2,1)\n",
    "res = stats.probplot(df['총구매액'],plot=plt)\n",
    "\n",
    "fig.add_subplot(1,2,2)\n",
    "res = stats.probplot(df['log_total'],plot=plt)\n",
    "## 그래프상 휘어짐이 줄었음 -> 정규분포에 가까운 ???"
   ]
  },
  {
   "cell_type": "code",
   "execution_count": null,
   "metadata": {},
   "outputs": [],
   "source": [
    "df.head()"
   ]
  },
  {
   "cell_type": "code",
   "execution_count": 33,
   "metadata": {},
   "outputs": [
    {
     "data": {
      "text/plain": [
       "array([[<AxesSubplot:title={'center':'gender'}>,\n",
       "        <AxesSubplot:title={'center':'총구매액'}>,\n",
       "        <AxesSubplot:title={'center':'구매건수'}>,\n",
       "        <AxesSubplot:title={'center':'평균구매가격'}>,\n",
       "        <AxesSubplot:title={'center':'평균할부개월수'}>,\n",
       "        <AxesSubplot:title={'center':'구매브랜드종류'}>,\n",
       "        <AxesSubplot:title={'center':'내점일수'}>],\n",
       "       [<AxesSubplot:title={'center':'수입상품_구매비율'}>,\n",
       "        <AxesSubplot:title={'center':'주말방문비율'}>,\n",
       "        <AxesSubplot:title={'center':'가을_구매건수'}>,\n",
       "        <AxesSubplot:title={'center':'겨울_구매건수'}>,\n",
       "        <AxesSubplot:title={'center':'봄_구매건수'}>,\n",
       "        <AxesSubplot:title={'center':'여름_구매건수'}>,\n",
       "        <AxesSubplot:title={'center':'아침_구매건수'}>],\n",
       "       [<AxesSubplot:title={'center':'저녁_구매건수'}>,\n",
       "        <AxesSubplot:title={'center':'점심_구매건수'}>,\n",
       "        <AxesSubplot:title={'center':'내점구매율'}>,\n",
       "        <AxesSubplot:title={'center':'주구매코너_가구'}>,\n",
       "        <AxesSubplot:title={'center':'주구매코너_가전'}>,\n",
       "        <AxesSubplot:title={'center':'주구매코너_기타바이어'}>,\n",
       "        <AxesSubplot:title={'center':'주구매코너_니트단품'}>],\n",
       "       [<AxesSubplot:title={'center':'주구매코너_도자기크리스탈'}>,\n",
       "        <AxesSubplot:title={'center':'주구매코너_디자이너부띠끄'}>,\n",
       "        <AxesSubplot:title={'center':'주구매코너_문화완구'}>,\n",
       "        <AxesSubplot:title={'center':'주구매코너_섬유'}>,\n",
       "        <AxesSubplot:title={'center':'주구매코너_수입명품'}>,\n",
       "        <AxesSubplot:title={'center':'주구매코너_스포츠'}>,\n",
       "        <AxesSubplot:title={'center':'주구매코너_엘레강스캐주얼'}>],\n",
       "       [<AxesSubplot:title={'center':'주구매코너_영캐주얼'}>,\n",
       "        <AxesSubplot:title={'center':'주구매코너_유니캐주얼'}>,\n",
       "        <AxesSubplot:title={'center':'주구매코너_유아동복'}>,\n",
       "        <AxesSubplot:title={'center':'주구매코너_일반식품'}>,\n",
       "        <AxesSubplot:title={'center':'주구매코너_장신구'}>,\n",
       "        <AxesSubplot:title={'center':'주구매코너_정장셔츠'}>,\n",
       "        <AxesSubplot:title={'center':'주구매코너_조리욕실'}>],\n",
       "       [<AxesSubplot:title={'center':'주구매코너_침구수예'}>,\n",
       "        <AxesSubplot:title={'center':'주구매코너_캐릭터캐주얼'}>,\n",
       "        <AxesSubplot:title={'center':'주구매코너_타운모피'}>,\n",
       "        <AxesSubplot:title={'center':'주구매코너_트래디셔널캐주얼'}>,\n",
       "        <AxesSubplot:title={'center':'주구매코너_피혁A'}>,\n",
       "        <AxesSubplot:title={'center':'주구매코너_피혁B'}>,\n",
       "        <AxesSubplot:title={'center':'주구매코너_화장품'}>],\n",
       "       [<AxesSubplot:title={'center':'주구매코너_nan'}>,\n",
       "        <AxesSubplot:title={'center':'코너분류_고급'}>,\n",
       "        <AxesSubplot:title={'center':'코너분류_기타'}>,\n",
       "        <AxesSubplot:title={'center':'코너분류_생활'}>,\n",
       "        <AxesSubplot:title={'center':'코너분류_식품'}>,\n",
       "        <AxesSubplot:title={'center':'코너분류_잡화'}>,\n",
       "        <AxesSubplot:title={'center':'코너분류_패션'}>],\n",
       "       [<AxesSubplot:title={'center':'코너분류_nan'}>,\n",
       "        <AxesSubplot:title={'center':'log_total'}>,\n",
       "        <AxesSubplot:title={'center':'morning'}>, <AxesSubplot:>,\n",
       "        <AxesSubplot:>, <AxesSubplot:>, <AxesSubplot:>]], dtype=object)"
      ]
     },
     "execution_count": 33,
     "metadata": {},
     "output_type": "execute_result"
    },
    {
     "data": {
      "image/png": "[encoded data removed]",
      "text/plain": [
       "<Figure size 1440x1080 with 56 Axes>"
      ]
     },
     "metadata": {
      "needs_background": "light"
     },
     "output_type": "display_data"
    }
   ],
   "source": [
    "df.hist(bins=30, figsize=(20,15))"
   ]
  },
  {
   "cell_type": "code",
   "execution_count": null,
   "metadata": {
    "scrolled": true
   },
   "outputs": [],
   "source": [
    "corr=df.corr()\n",
    "mask = np.array(corr)\n",
    "mask[np.tril_indices_from(mask)] = False\n",
    "fig, ax = plt.subplots(figsize=(20,10))\n",
    "sns.heatmap(corr, mask=mask, vmax=1.,annot=True)\n",
    "\n",
    "## 참고 사이트\n",
    "# https://www.kaggle.com/fkstepz/step-by-step-predict-bike-sharing-demand"
   ]
  },
  {
   "cell_type": "code",
   "execution_count": null,
   "metadata": {},
   "outputs": [],
   "source": [
    "# 전처리한 결과를 CSV파일로 보존\n",
    "df.to_csv('h-df.csv', index=False)"
   ]
  },
  {
   "cell_type": "code",
   "execution_count": null,
   "metadata": {},
   "outputs": [],
   "source": [
    "#언더샘플링\n",
    "import numpy as np\n",
    "from imblearn.under_sampling import RandomUnderSampler"
   ]
  },
  {
   "cell_type": "code",
   "execution_count": null,
   "metadata": {},
   "outputs": [],
   "source": [
    "df['gender'].value_counts()"
   ]
  },
  {
   "cell_type": "code",
   "execution_count": null,
   "metadata": {},
   "outputs": [],
   "source": [
    "df.info()"
   ]
  },
  {
   "cell_type": "code",
   "execution_count": null,
   "metadata": {
    "scrolled": true
   },
   "outputs": [],
   "source": [
    "df['log_total'].value_counts()"
   ]
  },
  {
   "cell_type": "code",
   "execution_count": null,
   "metadata": {},
   "outputs": [],
   "source": [
    "df['log_total'].fillna(df['log_total'].mean(), inplace=True)"
   ]
  },
  {
   "cell_type": "code",
   "execution_count": null,
   "metadata": {
    "scrolled": true
   },
   "outputs": [],
   "source": [
    "# 데이터 세트를 설명변수와 목적변수로 분할\n",
    "X = np.array(df.drop('gender', axis=1))\n",
    "Y = np.array(df['gender'])\n",
    "\n",
    "# y가 1또는 0인 데이터의 건수를 카운트\n",
    "print(np.sum(Y == 1), np.sum(Y == 0))\n",
    "\n",
    "# y가 1인 데이터의 건수에 맞춰서 다운사이징\n",
    "sampler = RandomUnderSampler(random_state=42)\n",
    "X, Y = sampler.fit_resample(X, Y)\n",
    "\n",
    "# y가 1또는 0인 데이터의 건수를 카운트\n",
    "print(np.sum(Y == 1), np.sum(Y == 0))"
   ]
  },
  {
   "cell_type": "markdown",
   "metadata": {},
   "source": [
    "#K-검정"
   ]
  },
  {
   "cell_type": "code",
   "execution_count": null,
   "metadata": {},
   "outputs": [],
   "source": [
    "from sklearn.feature_selection import SelectKBest\n",
    "\n",
    "# 특징량을 n개 선택\n",
    "selector = SelectKBest(k=8) \n",
    "selector.fit(X, Y)\n",
    "mask = selector.get_support()\n",
    "\n",
    "# 어느 변수를 선택하였는지 확인\n",
    "print(df.drop('gender', axis=1).columns)\n",
    "print(mask)"
   ]
  },
  {
   "cell_type": "code",
   "execution_count": null,
   "metadata": {},
   "outputs": [],
   "source": [
    "df['gender'].value_counts()"
   ]
  },
  {
   "cell_type": "code",
   "execution_count": null,
   "metadata": {},
   "outputs": [],
   "source": [
    "#훈련세트, 테스트세트 나누기\n",
    "from sklearn.model_selection import train_test_split\n",
    "train_set, test_set = train_test_split(all_features, test_size = 0.3)"
   ]
  },
  {
   "cell_type": "code",
   "execution_count": null,
   "metadata": {},
   "outputs": [],
   "source": [
    "train_set.shape\n",
    "test_set.shape"
   ]
  },
  {
   "cell_type": "code",
   "execution_count": null,
   "metadata": {},
   "outputs": [],
   "source": []
  },
  {
   "cell_type": "code",
   "execution_count": null,
   "metadata": {},
   "outputs": [],
   "source": []
  },
  {
   "cell_type": "code",
   "execution_count": null,
   "metadata": {},
   "outputs": [],
   "source": []
  },
  {
   "cell_type": "code",
   "execution_count": null,
   "metadata": {},
   "outputs": [],
   "source": []
  },
  {
   "cell_type": "code",
   "execution_count": null,
   "metadata": {},
   "outputs": [],
   "source": []
  },
  {
   "cell_type": "code",
   "execution_count": null,
   "metadata": {},
   "outputs": [],
   "source": []
  },
  {
   "cell_type": "code",
   "execution_count": null,
   "metadata": {},
   "outputs": [],
   "source": []
  },
  {
   "cell_type": "code",
   "execution_count": null,
   "metadata": {},
   "outputs": [],
   "source": []
  },
  {
   "cell_type": "code",
   "execution_count": null,
   "metadata": {},
   "outputs": [],
   "source": []
  }
 ],
 "metadata": {
  "kernelspec": {
   "display_name": "Python 3",
   "language": "python",
   "name": "python3"
  },
  "language_info": {
   "codemirror_mode": {
    "name": "ipython",
    "version": 3
   },
   "file_extension": ".py",
   "mimetype": "text/x-python",
   "name": "python",
   "nbconvert_exporter": "python",
   "pygments_lexer": "ipython3",
   "version": "3.8.5"
  }
 },
 "nbformat": 4,
 "nbformat_minor": 4
}
